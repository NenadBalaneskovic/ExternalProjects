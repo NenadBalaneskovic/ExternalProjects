{
 "cells": [
  {
   "cell_type": "markdown",
   "id": "576f8dd3-b50f-44a2-8f80-391ca5535d5b",
   "metadata": {},
   "source": [
    "# 0. Content"
   ]
  },
  {
   "cell_type": "markdown",
   "id": "f12baf3d-f196-4ba4-90dd-8146844ef9b4",
   "metadata": {},
   "source": [
    "A Kaggle course notebook on **Qiskit** for **introductory quantum computing** should balance **theory, hands-on coding, and interactive exercises** to engage learners.  \n",
    "\n",
    "### 🔍 **Suggested Notebook Structure**  \n",
    "\n",
    "#### **1️⃣ Introduction to Quantum Computing**  \n",
    "✔ What is quantum computing?  \n",
    "✔ Classical vs. quantum computation  \n",
    "✔ Real-world applications (finance, cryptography, AI)  \n",
    "\n",
    "#### **2️⃣ Setting Up Qiskit**  \n",
    "✔ Installing Qiskit (`!pip install qiskit`)  \n",
    "✔ Importing core libraries (`QuantumCircuit`, `Aer`, `execute`)  \n",
    "✔ Checking system & backend availability  \n",
    "\n",
    "#### **3️⃣ Fundamental Quantum Concepts**  \n",
    "✔ Qubits & superposition (`|0⟩, |1⟩ & |ψ⟩`)  \n",
    "✔ Quantum gates (Hadamard, Pauli-X, CNOT)  \n",
    "✔ Quantum measurements  \n",
    "\n",
    "#### **4️⃣ Hands-On: Building Simple Quantum Circuits**  \n",
    "✔ Creating a **Bell state** circuit  \n",
    "✔ Visualizing circuits (`circuit.draw()`)  \n",
    "✔ Executing circuits on **simulators**  \n",
    "\n",
    "#### **5️⃣ Quantum Algorithms & Applications**  \n",
    "✔ Deutsch-Jozsa Algorithm (Quantum speedup!)  \n",
    "✔ Grover's Algorithm (Quantum search)  \n",
    "✔ Shor's Algorithm (Integer factorization)  \n",
    "\n",
    "#### **6️⃣ Running on Real Quantum Hardware**  \n",
    "✔ Connecting to **IBM Quantum**  \n",
    "✔ Submitting circuits to **actual quantum processors**  \n",
    "✔ Analyzing results  \n",
    "\n",
    "#### **7️⃣ Challenges & Next Steps**  \n",
    "✔ Mini-project: **Create your own quantum circuit!**  \n",
    "✔ Further learning resources (Quantum papers, tutorials)  \n",
    "✔ Discussion & Kaggle notebook improvements  "
   ]
  },
  {
   "cell_type": "markdown",
   "id": "a176d7d6-094c-4a10-b12e-52dd28d2b4a7",
   "metadata": {},
   "source": [
    "# Chapter 1: 🧠 Introduction to Quantum Computing 🚀\n",
    "\n",
    "## 📌 What is Quantum Computing?\n",
    "Quantum computing is a new paradigm that leverages the **principles of quantum mechanics** to process information in a fundamentally different way than classical computers.\n",
    "\n",
    "### 🌍 **Why Quantum Computing?**\n",
    "- **Superposition** → Qubits (quantum bits) exist in multiple states simultaneously.\n",
    "- **Entanglement** → Qubits can influence each other instantly, regardless of distance.\n",
    "- **Quantum Speedup** → Certain problems (factoring, search, optimization) can be solved exponentially faster.\n",
    "\n",
    "### ⚖️ **Classical vs. Quantum Computation**\n",
    "| Feature             | Classical Computers       | Quantum Computers   |\n",
    "|---------------------|-------------------------|---------------------|\n",
    "| Bits Used          | `0` or `1` (Binary)      | Qubits (🚀 Superposition of `\\|0⟩`, `\\|1⟩`) |\n",
    "| Parallelism        | Limited                  | Exponential Scaling |\n",
    "| Processing Power   | Deterministic Operations | Probabilistic States |\n",
    "\n",
    "## 🚀 Real-World Applications of Quantum Computing\n",
    "✅ **Finance** → Risk modeling, portfolio optimization  \n",
    "✅ **Cryptography** → Breaking RSA encryption, post-quantum security  \n",
    "✅ **Artificial Intelligence** → Machine learning speedups  \n",
    "✅ **Drug Discovery** → Simulating molecules at atomic precision  \n",
    "✅ **Logistics & Optimization** → Route planning, supply chain efficiencies  "
   ]
  },
  {
   "cell_type": "markdown",
   "id": "26935ce9-7e7f-435d-891a-fc68d0aa2a90",
   "metadata": {},
   "source": [
    "# Chapter 2: ⚡ Getting Started with Qiskit 🏗️"
   ]
  },
  {
   "cell_type": "markdown",
   "id": "ef99eb45-5aae-4615-9d21-fceb6180d009",
   "metadata": {},
   "source": [
    "## 2.1 🔧 Installing Qiskit\n",
    "First, install Qiskit to start building quantum circuits:"
   ]
  },
  {
   "cell_type": "code",
   "execution_count": 102,
   "id": "6eb9fb39-ab65-490a-b96b-ac6386a4257a",
   "metadata": {},
   "outputs": [
    {
     "name": "stdout",
     "output_type": "stream",
     "text": [
      "Requirement already satisfied: qiskit in c:\\users\\balan\\anaconda3\\envs\\ai_ml\\lib\\site-packages (2.0.2)\n",
      "Requirement already satisfied: qiskit-aer in c:\\users\\balan\\appdata\\roaming\\python\\python311\\site-packages (0.17.1)\n",
      "Requirement already satisfied: numpy in c:\\users\\balan\\appdata\\roaming\\python\\python311\\site-packages (1.26.4)\n",
      "Requirement already satisfied: matplotlib in c:\\users\\balan\\anaconda3\\envs\\ai_ml\\lib\\site-packages (3.9.2)\n",
      "Requirement already satisfied: scipy in c:\\users\\balan\\appdata\\roaming\\python\\python311\\site-packages (1.15.3)\n",
      "Requirement already satisfied: rustworkx>=0.15.0 in c:\\users\\balan\\anaconda3\\envs\\ai_ml\\lib\\site-packages (from qiskit) (0.16.0)\n",
      "Requirement already satisfied: sympy>=1.3 in c:\\users\\balan\\anaconda3\\envs\\ai_ml\\lib\\site-packages (from qiskit) (1.12)\n",
      "Requirement already satisfied: dill>=0.3 in c:\\users\\balan\\anaconda3\\envs\\ai_ml\\lib\\site-packages (from qiskit) (0.3.8)\n",
      "Requirement already satisfied: python-dateutil>=2.8.0 in c:\\users\\balan\\appdata\\roaming\\python\\python311\\site-packages (from qiskit) (2.9.0.post0)\n",
      "Requirement already satisfied: stevedore>=3.0.0 in c:\\users\\balan\\anaconda3\\envs\\ai_ml\\lib\\site-packages (from qiskit) (5.4.1)\n",
      "Requirement already satisfied: typing-extensions in c:\\users\\balan\\appdata\\roaming\\python\\python311\\site-packages (from qiskit) (4.13.2)\n",
      "Requirement already satisfied: symengine<0.14,>=0.11 in c:\\users\\balan\\anaconda3\\envs\\ai_ml\\lib\\site-packages (from qiskit) (0.13.0)\n",
      "Requirement already satisfied: psutil>=5 in c:\\users\\balan\\anaconda3\\envs\\ai_ml\\lib\\site-packages (from qiskit-aer) (5.9.0)\n",
      "Requirement already satisfied: contourpy>=1.0.1 in c:\\users\\balan\\anaconda3\\envs\\ai_ml\\lib\\site-packages (from matplotlib) (1.2.0)\n",
      "Requirement already satisfied: cycler>=0.10 in c:\\users\\balan\\anaconda3\\envs\\ai_ml\\lib\\site-packages (from matplotlib) (0.11.0)\n",
      "Requirement already satisfied: fonttools>=4.22.0 in c:\\users\\balan\\anaconda3\\envs\\ai_ml\\lib\\site-packages (from matplotlib) (4.51.0)\n",
      "Requirement already satisfied: kiwisolver>=1.3.1 in c:\\users\\balan\\anaconda3\\envs\\ai_ml\\lib\\site-packages (from matplotlib) (1.4.4)\n",
      "Requirement already satisfied: packaging>=20.0 in c:\\users\\balan\\appdata\\roaming\\python\\python311\\site-packages (from matplotlib) (25.0)\n",
      "Requirement already satisfied: pillow>=8 in c:\\users\\balan\\anaconda3\\envs\\ai_ml\\lib\\site-packages (from matplotlib) (10.4.0)\n",
      "Requirement already satisfied: pyparsing>=2.3.1 in c:\\users\\balan\\anaconda3\\envs\\ai_ml\\lib\\site-packages (from matplotlib) (3.1.2)\n",
      "Requirement already satisfied: six>=1.5 in c:\\users\\balan\\appdata\\roaming\\python\\python311\\site-packages (from python-dateutil>=2.8.0->qiskit) (1.17.0)\n",
      "Requirement already satisfied: pbr>=2.0.0 in c:\\users\\balan\\anaconda3\\envs\\ai_ml\\lib\\site-packages (from stevedore>=3.0.0->qiskit) (6.1.1)\n",
      "Requirement already satisfied: mpmath>=0.19 in c:\\users\\balan\\anaconda3\\envs\\ai_ml\\lib\\site-packages (from sympy>=1.3->qiskit) (1.3.0)\n",
      "Requirement already satisfied: setuptools in c:\\users\\balan\\anaconda3\\envs\\ai_ml\\lib\\site-packages (from pbr>=2.0.0->stevedore>=3.0.0->qiskit) (70.2.0)\n"
     ]
    },
    {
     "name": "stderr",
     "output_type": "stream",
     "text": [
      "WARNING: Skipping C:\\Users\\balan\\anaconda3\\envs\\AI_ML\\Lib\\site-packages\\wheel-0.43.0.dist-info due to invalid metadata entry 'name'\n",
      "WARNING: Skipping C:\\Users\\balan\\anaconda3\\envs\\AI_ML\\Lib\\site-packages\\wheel-0.43.0.dist-info due to invalid metadata entry 'name'\n"
     ]
    }
   ],
   "source": [
    "!pip install qiskit qiskit-aer numpy matplotlib scipy"
   ]
  },
  {
   "cell_type": "code",
   "execution_count": 3,
   "id": "4fe86be2-8677-4f8f-90f5-0115b7616e22",
   "metadata": {},
   "outputs": [
    {
     "name": "stdout",
     "output_type": "stream",
     "text": [
      "Collecting qiskit\n",
      "  Downloading qiskit-2.0.2-cp39-abi3-win_amd64.whl.metadata (12 kB)\n",
      "Collecting rustworkx>=0.15.0 (from qiskit)\n",
      "  Downloading rustworkx-0.16.0-cp39-abi3-win_amd64.whl.metadata (10 kB)\n",
      "Requirement already satisfied: numpy<3,>=1.17 in c:\\users\\balan\\appdata\\roaming\\python\\python311\\site-packages (from qiskit) (1.26.4)\n",
      "Requirement already satisfied: scipy>=1.5 in c:\\users\\balan\\appdata\\roaming\\python\\python311\\site-packages (from qiskit) (1.15.3)\n",
      "Requirement already satisfied: sympy>=1.3 in c:\\users\\balan\\anaconda3\\envs\\ai_ml\\lib\\site-packages (from qiskit) (1.12)\n",
      "Requirement already satisfied: dill>=0.3 in c:\\users\\balan\\anaconda3\\envs\\ai_ml\\lib\\site-packages (from qiskit) (0.3.8)\n",
      "Requirement already satisfied: python-dateutil>=2.8.0 in c:\\users\\balan\\appdata\\roaming\\python\\python311\\site-packages (from qiskit) (2.9.0.post0)\n",
      "Collecting stevedore>=3.0.0 (from qiskit)\n",
      "  Downloading stevedore-5.4.1-py3-none-any.whl.metadata (2.3 kB)\n",
      "Requirement already satisfied: typing-extensions in c:\\users\\balan\\appdata\\roaming\\python\\python311\\site-packages (from qiskit) (4.13.2)\n",
      "Collecting symengine<0.14,>=0.11 (from qiskit)\n",
      "  Downloading symengine-0.13.0-cp311-cp311-win_amd64.whl.metadata (1.2 kB)\n",
      "Requirement already satisfied: six>=1.5 in c:\\users\\balan\\appdata\\roaming\\python\\python311\\site-packages (from python-dateutil>=2.8.0->qiskit) (1.17.0)\n",
      "Collecting pbr>=2.0.0 (from stevedore>=3.0.0->qiskit)\n",
      "  Downloading pbr-6.1.1-py2.py3-none-any.whl.metadata (3.4 kB)\n",
      "Requirement already satisfied: mpmath>=0.19 in c:\\users\\balan\\anaconda3\\envs\\ai_ml\\lib\\site-packages (from sympy>=1.3->qiskit) (1.3.0)\n",
      "Requirement already satisfied: setuptools in c:\\users\\balan\\anaconda3\\envs\\ai_ml\\lib\\site-packages (from pbr>=2.0.0->stevedore>=3.0.0->qiskit) (70.2.0)\n",
      "Downloading qiskit-2.0.2-cp39-abi3-win_amd64.whl (6.2 MB)\n",
      "   ---------------------------------------- 0.0/6.2 MB ? eta -:--:--\n",
      "   ---------------------------------------- 0.0/6.2 MB 1.3 MB/s eta 0:00:05\n",
      "   -- ------------------------------------- 0.3/6.2 MB 4.2 MB/s eta 0:00:02\n",
      "   --- ------------------------------------ 0.6/6.2 MB 4.7 MB/s eta 0:00:02\n",
      "   ----- ---------------------------------- 0.9/6.2 MB 4.9 MB/s eta 0:00:02\n",
      "   ------ --------------------------------- 1.1/6.2 MB 4.9 MB/s eta 0:00:02\n",
      "   -------- ------------------------------- 1.3/6.2 MB 5.1 MB/s eta 0:00:01\n",
      "   ---------- ----------------------------- 1.6/6.2 MB 5.2 MB/s eta 0:00:01\n",
      "   ------------ --------------------------- 1.9/6.2 MB 5.2 MB/s eta 0:00:01\n",
      "   ------------- -------------------------- 2.2/6.2 MB 5.3 MB/s eta 0:00:01\n",
      "   --------------- ------------------------ 2.4/6.2 MB 5.2 MB/s eta 0:00:01\n",
      "   ----------------- ---------------------- 2.7/6.2 MB 5.4 MB/s eta 0:00:01\n",
      "   ------------------ --------------------- 2.9/6.2 MB 5.4 MB/s eta 0:00:01\n",
      "   --------------------- ------------------ 3.4/6.2 MB 5.7 MB/s eta 0:00:01\n",
      "   ------------------------- -------------- 4.0/6.2 MB 6.2 MB/s eta 0:00:01\n",
      "   ----------------------------- ---------- 4.6/6.2 MB 6.7 MB/s eta 0:00:01\n",
      "   --------------------------------- ------ 5.2/6.2 MB 7.1 MB/s eta 0:00:01\n",
      "   ------------------------------------- -- 5.9/6.2 MB 7.5 MB/s eta 0:00:01\n",
      "   ---------------------------------------  6.2/6.2 MB 7.7 MB/s eta 0:00:01\n",
      "   ---------------------------------------- 6.2/6.2 MB 7.4 MB/s eta 0:00:00\n",
      "Downloading rustworkx-0.16.0-cp39-abi3-win_amd64.whl (2.0 MB)\n",
      "   ---------------------------------------- 0.0/2.0 MB ? eta -:--:--\n",
      "   ------ --------------------------------- 0.3/2.0 MB 10.2 MB/s eta 0:00:01\n",
      "   ------------------- -------------------- 0.9/2.0 MB 11.8 MB/s eta 0:00:01\n",
      "   ------------------------------------ --- 1.8/2.0 MB 14.0 MB/s eta 0:00:01\n",
      "   ---------------------------------------- 2.0/2.0 MB 12.4 MB/s eta 0:00:00\n",
      "Downloading stevedore-5.4.1-py3-none-any.whl (49 kB)\n",
      "   ---------------------------------------- 0.0/49.5 kB ? eta -:--:--\n",
      "   ---------------------------------------- 49.5/49.5 kB ? eta 0:00:00\n",
      "Downloading symengine-0.13.0-cp311-cp311-win_amd64.whl (17.8 MB)\n",
      "   ---------------------------------------- 0.0/17.8 MB ? eta -:--:--\n",
      "   - -------------------------------------- 0.6/17.8 MB 17.8 MB/s eta 0:00:01\n",
      "   -- ------------------------------------- 1.2/17.8 MB 15.1 MB/s eta 0:00:02\n",
      "   ---- ----------------------------------- 1.8/17.8 MB 14.3 MB/s eta 0:00:02\n",
      "   ----- ---------------------------------- 2.4/17.8 MB 13.9 MB/s eta 0:00:02\n",
      "   ------ --------------------------------- 3.0/17.8 MB 13.7 MB/s eta 0:00:02\n",
      "   -------- ------------------------------- 3.6/17.8 MB 13.6 MB/s eta 0:00:02\n",
      "   --------- ------------------------------ 4.2/17.8 MB 13.4 MB/s eta 0:00:02\n",
      "   ---------- ----------------------------- 4.8/17.8 MB 13.3 MB/s eta 0:00:01\n",
      "   ------------ --------------------------- 5.4/17.8 MB 13.3 MB/s eta 0:00:01\n",
      "   ------------- -------------------------- 6.0/17.8 MB 13.3 MB/s eta 0:00:01\n",
      "   -------------- ------------------------- 6.6/17.8 MB 13.3 MB/s eta 0:00:01\n",
      "   ---------------- ----------------------- 7.2/17.8 MB 13.2 MB/s eta 0:00:01\n",
      "   ----------------- ---------------------- 7.8/17.8 MB 13.2 MB/s eta 0:00:01\n",
      "   ------------------ --------------------- 8.4/17.8 MB 13.2 MB/s eta 0:00:01\n",
      "   -------------------- ------------------- 9.1/17.8 MB 13.2 MB/s eta 0:00:01\n",
      "   --------------------- ------------------ 9.7/17.8 MB 13.1 MB/s eta 0:00:01\n",
      "   ----------------------- ---------------- 10.3/17.8 MB 13.4 MB/s eta 0:00:01\n",
      "   ------------------------ --------------- 10.9/17.8 MB 13.1 MB/s eta 0:00:01\n",
      "   ------------------------- -------------- 11.5/17.8 MB 13.4 MB/s eta 0:00:01\n",
      "   --------------------------- ------------ 12.1/17.8 MB 13.4 MB/s eta 0:00:01\n",
      "   ---------------------------- ----------- 12.7/17.8 MB 13.4 MB/s eta 0:00:01\n",
      "   ----------------------------- ---------- 13.3/17.8 MB 13.4 MB/s eta 0:00:01\n",
      "   ------------------------------- -------- 13.9/17.8 MB 13.4 MB/s eta 0:00:01\n",
      "   -------------------------------- ------- 14.5/17.8 MB 13.4 MB/s eta 0:00:01\n",
      "   --------------------------------- ------ 15.1/17.8 MB 13.1 MB/s eta 0:00:01\n",
      "   ----------------------------------- ---- 15.7/17.8 MB 13.4 MB/s eta 0:00:01\n",
      "   ------------------------------------ --- 16.4/17.8 MB 13.1 MB/s eta 0:00:01\n",
      "   -------------------------------------- - 17.0/17.8 MB 13.1 MB/s eta 0:00:01\n",
      "   ---------------------------------------  17.6/17.8 MB 13.1 MB/s eta 0:00:01\n",
      "   ---------------------------------------  17.8/17.8 MB 13.4 MB/s eta 0:00:01\n",
      "   ---------------------------------------- 17.8/17.8 MB 12.1 MB/s eta 0:00:00\n",
      "Downloading pbr-6.1.1-py2.py3-none-any.whl (108 kB)\n",
      "   ---------------------------------------- 0.0/109.0 kB ? eta -:--:--\n",
      "   ---------------------------------------- 109.0/109.0 kB 6.2 MB/s eta 0:00:00\n",
      "Installing collected packages: symengine, rustworkx, pbr, stevedore, qiskit\n",
      "Successfully installed pbr-6.1.1 qiskit-2.0.2 rustworkx-0.16.0 stevedore-5.4.1 symengine-0.13.0\n"
     ]
    },
    {
     "name": "stderr",
     "output_type": "stream",
     "text": [
      "WARNING: Skipping C:\\Users\\balan\\anaconda3\\envs\\AI_ML\\Lib\\site-packages\\wheel-0.43.0.dist-info due to invalid metadata entry 'name'\n",
      "WARNING: Skipping C:\\Users\\balan\\anaconda3\\envs\\AI_ML\\Lib\\site-packages\\wheel-0.43.0.dist-info due to invalid metadata entry 'name'\n"
     ]
    },
    {
     "name": "stdout",
     "output_type": "stream",
     "text": [
      "Collecting qiskit-aer\n",
      "  Downloading qiskit_aer-0.17.1-cp311-cp311-win_amd64.whl.metadata (8.5 kB)\n",
      "Requirement already satisfied: qiskit>=1.1.0 in c:\\users\\balan\\anaconda3\\envs\\ai_ml\\lib\\site-packages (from qiskit-aer) (2.0.2)\n",
      "Requirement already satisfied: numpy>=1.16.3 in c:\\users\\balan\\appdata\\roaming\\python\\python311\\site-packages (from qiskit-aer) (1.26.4)\n",
      "Requirement already satisfied: scipy>=1.0 in c:\\users\\balan\\appdata\\roaming\\python\\python311\\site-packages (from qiskit-aer) (1.15.3)\n",
      "Requirement already satisfied: psutil>=5 in c:\\users\\balan\\anaconda3\\envs\\ai_ml\\lib\\site-packages (from qiskit-aer) (5.9.0)\n",
      "Requirement already satisfied: python-dateutil>=2.8.0 in c:\\users\\balan\\appdata\\roaming\\python\\python311\\site-packages (from qiskit-aer) (2.9.0.post0)\n",
      "Requirement already satisfied: six>=1.5 in c:\\users\\balan\\appdata\\roaming\\python\\python311\\site-packages (from python-dateutil>=2.8.0->qiskit-aer) (1.17.0)\n",
      "Requirement already satisfied: rustworkx>=0.15.0 in c:\\users\\balan\\anaconda3\\envs\\ai_ml\\lib\\site-packages (from qiskit>=1.1.0->qiskit-aer) (0.16.0)\n",
      "Requirement already satisfied: sympy>=1.3 in c:\\users\\balan\\anaconda3\\envs\\ai_ml\\lib\\site-packages (from qiskit>=1.1.0->qiskit-aer) (1.12)\n",
      "Requirement already satisfied: dill>=0.3 in c:\\users\\balan\\anaconda3\\envs\\ai_ml\\lib\\site-packages (from qiskit>=1.1.0->qiskit-aer) (0.3.8)\n",
      "Requirement already satisfied: stevedore>=3.0.0 in c:\\users\\balan\\anaconda3\\envs\\ai_ml\\lib\\site-packages (from qiskit>=1.1.0->qiskit-aer) (5.4.1)\n",
      "Requirement already satisfied: typing-extensions in c:\\users\\balan\\appdata\\roaming\\python\\python311\\site-packages (from qiskit>=1.1.0->qiskit-aer) (4.13.2)\n",
      "Requirement already satisfied: symengine<0.14,>=0.11 in c:\\users\\balan\\anaconda3\\envs\\ai_ml\\lib\\site-packages (from qiskit>=1.1.0->qiskit-aer) (0.13.0)\n",
      "Requirement already satisfied: pbr>=2.0.0 in c:\\users\\balan\\anaconda3\\envs\\ai_ml\\lib\\site-packages (from stevedore>=3.0.0->qiskit>=1.1.0->qiskit-aer) (6.1.1)\n",
      "Requirement already satisfied: mpmath>=0.19 in c:\\users\\balan\\anaconda3\\envs\\ai_ml\\lib\\site-packages (from sympy>=1.3->qiskit>=1.1.0->qiskit-aer) (1.3.0)\n",
      "Requirement already satisfied: setuptools in c:\\users\\balan\\anaconda3\\envs\\ai_ml\\lib\\site-packages (from pbr>=2.0.0->stevedore>=3.0.0->qiskit>=1.1.0->qiskit-aer) (70.2.0)\n",
      "Downloading qiskit_aer-0.17.1-cp311-cp311-win_amd64.whl (9.5 MB)\n",
      "   ---------------------------------------- 0.0/9.5 MB ? eta -:--:--\n",
      "   ---------------------------------------- 0.0/9.5 MB 640.0 kB/s eta 0:00:15\n",
      "   ---------------------------------------- 0.0/9.5 MB 960.0 kB/s eta 0:00:10\n",
      "   -- ------------------------------------- 0.6/9.5 MB 4.9 MB/s eta 0:00:02\n",
      "   ---- ----------------------------------- 1.2/9.5 MB 7.3 MB/s eta 0:00:02\n",
      "   ------ --------------------------------- 1.6/9.5 MB 8.3 MB/s eta 0:00:01\n",
      "   --------- ------------------------------ 2.3/9.5 MB 9.5 MB/s eta 0:00:01\n",
      "   ------------ --------------------------- 2.9/9.5 MB 9.8 MB/s eta 0:00:01\n",
      "   -------------- ------------------------- 3.4/9.5 MB 9.8 MB/s eta 0:00:01\n",
      "   ----------------- ---------------------- 4.1/9.5 MB 10.5 MB/s eta 0:00:01\n",
      "   ------------------- -------------------- 4.8/9.5 MB 10.8 MB/s eta 0:00:01\n",
      "   ---------------------- ----------------- 5.4/9.5 MB 11.1 MB/s eta 0:00:01\n",
      "   ------------------------- -------------- 6.0/9.5 MB 11.2 MB/s eta 0:00:01\n",
      "   --------------------------- ------------ 6.6/9.5 MB 11.5 MB/s eta 0:00:01\n",
      "   ------------------------------ --------- 7.3/9.5 MB 11.6 MB/s eta 0:00:01\n",
      "   --------------------------------- ------ 7.9/9.5 MB 11.7 MB/s eta 0:00:01\n",
      "   ----------------------------------- ---- 8.5/9.5 MB 11.8 MB/s eta 0:00:01\n",
      "   -------------------------------------- - 9.1/9.5 MB 11.9 MB/s eta 0:00:01\n",
      "   ---------------------------------------  9.5/9.5 MB 11.9 MB/s eta 0:00:01\n",
      "   ---------------------------------------- 9.5/9.5 MB 11.5 MB/s eta 0:00:00\n",
      "Installing collected packages: qiskit-aer\n",
      "Successfully installed qiskit-aer-0.17.1\n"
     ]
    },
    {
     "name": "stderr",
     "output_type": "stream",
     "text": [
      "WARNING: Skipping C:\\Users\\balan\\anaconda3\\envs\\AI_ML\\Lib\\site-packages\\wheel-0.43.0.dist-info due to invalid metadata entry 'name'\n",
      "WARNING: Skipping C:\\Users\\balan\\anaconda3\\envs\\AI_ML\\Lib\\site-packages\\wheel-0.43.0.dist-info due to invalid metadata entry 'name'\n"
     ]
    },
    {
     "name": "stdout",
     "output_type": "stream",
     "text": [
      "Requirement already satisfied: pylatexenc in c:\\users\\balan\\appdata\\roaming\\python\\python311\\site-packages (2.10)\n"
     ]
    },
    {
     "name": "stderr",
     "output_type": "stream",
     "text": [
      "WARNING: Skipping C:\\Users\\balan\\anaconda3\\envs\\AI_ML\\Lib\\site-packages\\wheel-0.43.0.dist-info due to invalid metadata entry 'name'\n",
      "WARNING: Skipping C:\\Users\\balan\\anaconda3\\envs\\AI_ML\\Lib\\site-packages\\wheel-0.43.0.dist-info due to invalid metadata entry 'name'\n"
     ]
    }
   ],
   "source": [
    "!pip install qiskit --upgrade  \n",
    "!pip install --user qiskit-aer\n",
    "!pip install --user pylatexenc"
   ]
  },
  {
   "cell_type": "code",
   "execution_count": 5,
   "id": "308c7723-ca00-4624-8f00-a42c6f1628dd",
   "metadata": {},
   "outputs": [
    {
     "name": "stdout",
     "output_type": "stream",
     "text": [
      "Name: qiskit-aer\n",
      "Version: 0.17.1\n",
      "Summary: Aer - High performance simulators for Qiskit\n",
      "Home-page: https://github.com/Qiskit/qiskit-aer\n",
      "Author: AER Development Team\n",
      "Author-email: qiskit@us.ibm.com\n",
      "License: Apache 2.0\n",
      "Location: C:\\Users\\balan\\AppData\\Roaming\\Python\\Python311\\site-packages\n",
      "Requires: numpy, psutil, python-dateutil, qiskit, scipy\n",
      "Required-by: \n"
     ]
    },
    {
     "name": "stderr",
     "output_type": "stream",
     "text": [
      "WARNING: Skipping C:\\Users\\balan\\anaconda3\\envs\\AI_ML\\Lib\\site-packages\\wheel-0.43.0.dist-info due to invalid metadata entry 'name'\n"
     ]
    }
   ],
   "source": [
    "!pip show qiskit-aer"
   ]
  },
  {
   "cell_type": "code",
   "execution_count": 1,
   "id": "c52fa787-7977-4e4b-8809-9b1478341333",
   "metadata": {},
   "outputs": [
    {
     "name": "stdout",
     "output_type": "stream",
     "text": [
      "qiskit-aer                      0.17.1\n"
     ]
    }
   ],
   "source": [
    "!pip list | grep qiskit-aer"
   ]
  },
  {
   "cell_type": "code",
   "execution_count": 78,
   "id": "d2d20a55-4f69-4b14-858a-52f3e9a5ca19",
   "metadata": {},
   "outputs": [
    {
     "name": "stdout",
     "output_type": "stream",
     "text": [
      "Collecting qiskit-algorithms\n",
      "  Downloading qiskit_algorithms-0.3.1-py3-none-any.whl.metadata (4.2 kB)\n",
      "Requirement already satisfied: qiskit>=0.44 in c:\\users\\balan\\anaconda3\\envs\\ai_ml\\lib\\site-packages (from qiskit-algorithms) (2.0.2)\n",
      "Requirement already satisfied: scipy>=1.4 in c:\\users\\balan\\appdata\\roaming\\python\\python311\\site-packages (from qiskit-algorithms) (1.15.3)\n",
      "Requirement already satisfied: numpy>=1.17 in c:\\users\\balan\\appdata\\roaming\\python\\python311\\site-packages (from qiskit-algorithms) (1.26.4)\n",
      "Requirement already satisfied: rustworkx>=0.15.0 in c:\\users\\balan\\anaconda3\\envs\\ai_ml\\lib\\site-packages (from qiskit>=0.44->qiskit-algorithms) (0.16.0)\n",
      "Requirement already satisfied: sympy>=1.3 in c:\\users\\balan\\anaconda3\\envs\\ai_ml\\lib\\site-packages (from qiskit>=0.44->qiskit-algorithms) (1.12)\n",
      "Requirement already satisfied: dill>=0.3 in c:\\users\\balan\\anaconda3\\envs\\ai_ml\\lib\\site-packages (from qiskit>=0.44->qiskit-algorithms) (0.3.8)\n",
      "Requirement already satisfied: python-dateutil>=2.8.0 in c:\\users\\balan\\appdata\\roaming\\python\\python311\\site-packages (from qiskit>=0.44->qiskit-algorithms) (2.9.0.post0)\n",
      "Requirement already satisfied: stevedore>=3.0.0 in c:\\users\\balan\\anaconda3\\envs\\ai_ml\\lib\\site-packages (from qiskit>=0.44->qiskit-algorithms) (5.4.1)\n",
      "Requirement already satisfied: typing-extensions in c:\\users\\balan\\appdata\\roaming\\python\\python311\\site-packages (from qiskit>=0.44->qiskit-algorithms) (4.13.2)\n",
      "Requirement already satisfied: symengine<0.14,>=0.11 in c:\\users\\balan\\anaconda3\\envs\\ai_ml\\lib\\site-packages (from qiskit>=0.44->qiskit-algorithms) (0.13.0)\n",
      "Requirement already satisfied: six>=1.5 in c:\\users\\balan\\appdata\\roaming\\python\\python311\\site-packages (from python-dateutil>=2.8.0->qiskit>=0.44->qiskit-algorithms) (1.17.0)\n",
      "Requirement already satisfied: pbr>=2.0.0 in c:\\users\\balan\\anaconda3\\envs\\ai_ml\\lib\\site-packages (from stevedore>=3.0.0->qiskit>=0.44->qiskit-algorithms) (6.1.1)\n",
      "Requirement already satisfied: mpmath>=0.19 in c:\\users\\balan\\anaconda3\\envs\\ai_ml\\lib\\site-packages (from sympy>=1.3->qiskit>=0.44->qiskit-algorithms) (1.3.0)\n",
      "Requirement already satisfied: setuptools in c:\\users\\balan\\anaconda3\\envs\\ai_ml\\lib\\site-packages (from pbr>=2.0.0->stevedore>=3.0.0->qiskit>=0.44->qiskit-algorithms) (70.2.0)\n",
      "Downloading qiskit_algorithms-0.3.1-py3-none-any.whl (310 kB)\n",
      "   ---------------------------------------- 0.0/310.5 kB ? eta -:--:--\n",
      "   - -------------------------------------- 10.2/310.5 kB ? eta -:--:--\n",
      "   --------- ------------------------------ 71.7/310.5 kB 1.3 MB/s eta 0:00:01\n",
      "   ---------------------------------------  307.2/310.5 kB 3.2 MB/s eta 0:00:01\n",
      "   ---------------------------------------- 310.5/310.5 kB 2.8 MB/s eta 0:00:00\n",
      "Installing collected packages: qiskit-algorithms\n",
      "Successfully installed qiskit-algorithms-0.3.1\n"
     ]
    },
    {
     "name": "stderr",
     "output_type": "stream",
     "text": [
      "WARNING: Skipping C:\\Users\\balan\\anaconda3\\envs\\AI_ML\\Lib\\site-packages\\wheel-0.43.0.dist-info due to invalid metadata entry 'name'\n",
      "WARNING: Skipping C:\\Users\\balan\\anaconda3\\envs\\AI_ML\\Lib\\site-packages\\wheel-0.43.0.dist-info due to invalid metadata entry 'name'\n"
     ]
    }
   ],
   "source": [
    "!pip install qiskit-algorithms"
   ]
  },
  {
   "cell_type": "code",
   "execution_count": 51,
   "id": "aa5083de-4662-45f5-85da-d5f74a451cb8",
   "metadata": {
    "scrolled": true
   },
   "outputs": [
    {
     "name": "stdout",
     "output_type": "stream",
     "text": [
      "AerSimulator initialized: AerSimulator('aer_simulator')\n"
     ]
    }
   ],
   "source": [
    "from qiskit_aer import AerSimulator\n",
    "\n",
    "# Initialize the simulator\n",
    "simulator = AerSimulator()\n",
    "\n",
    "# Qiskit 1.0 no longer supports Aer.backends(), so listing available simulators is unnecessary\n",
    "print(\"AerSimulator initialized:\", simulator)"
   ]
  },
  {
   "cell_type": "markdown",
   "id": "d9ff762d-df6c-4418-93a1-47dd4fdab81d",
   "metadata": {},
   "source": [
    "## 2.2 📜 Importing Core Libraries"
   ]
  },
  {
   "cell_type": "code",
   "execution_count": 41,
   "id": "de158f0c-a022-4fb5-a98e-75d7f2038670",
   "metadata": {},
   "outputs": [],
   "source": [
    "from qiskit import QuantumCircuit, transpile\n",
    "from qiskit_aer import AerSimulator\n",
    "import numpy as np\n",
    "import matplotlib.pyplot as plt"
   ]
  },
  {
   "cell_type": "markdown",
   "id": "69ba97b7-075c-49b2-ad36-95c77b1ab7d4",
   "metadata": {},
   "source": [
    "## 2.3 🔍 Checking Qiskit Version & Available Backends\n",
    "Verify your Qiskit installation and check available quantum simulators:"
   ]
  },
  {
   "cell_type": "code",
   "execution_count": 43,
   "id": "ccab1d88-deb2-4074-bf30-0336f380e32d",
   "metadata": {},
   "outputs": [
    {
     "name": "stdout",
     "output_type": "stream",
     "text": [
      "Qiskit Version: 2.0.2\n",
      "Available Simulators: AerSimulator('aer_simulator')\n"
     ]
    }
   ],
   "source": [
    "import qiskit\n",
    "print(\"Qiskit Version:\", qiskit.__version__)\n",
    "\n",
    "from qiskit_aer import AerSimulator\n",
    "\n",
    "# Initialize the simulator\n",
    "simulator = AerSimulator()\n",
    "\n",
    "# List available simulators (Qiskit 1.0 no longer supports Aer.backends())\n",
    "print(\"Available Simulators:\", simulator)"
   ]
  },
  {
   "cell_type": "markdown",
   "id": "3dad8fcc-8571-4d6b-940e-68e16b1a0860",
   "metadata": {},
   "source": [
    "# Chapter 3: 🔬 Fundamental Quantum Concepts"
   ]
  },
  {
   "cell_type": "markdown",
   "id": "08080bc1-cb42-4a2d-a9d7-8b7a2d7b9a92",
   "metadata": {},
   "source": [
    "## 3.1 ⚛️ Qubits & Superposition "
   ]
  },
  {
   "cell_type": "markdown",
   "id": "3beca3d2-a299-4f4c-8c7b-e2ef3e3ec7e5",
   "metadata": {},
   "source": [
    "Quantum computing operates on **qubits**, which behave fundamentally differently from classical bits. In this section, we'll explore **superposition, quantum gates, and measurements**.\n",
    "\n",
    "--- \n",
    "Unlike classical bits (`0` or `1`), **qubits** can exist in a quantum state known as **superposition**, where they hold both `|0⟩` and `|1⟩` simultaneously:\n",
    "\n",
    "$$ |\\psi\\rangle = \\alpha |0\\rangle + \\beta |1\\rangle $$\n",
    "\n",
    "where **α** and **β** are probability amplitudes that define the likelihood of measuring `|0⟩` or `|1⟩`.\n",
    "\n",
    "---  \n",
    "\n",
    "**Qubits** (quantum bits) are the fundamental units of information in quantum computing, and they behave according to the principles of **quantum mechanics**, making them vastly different from classical bits.  \n",
    "\n",
    "Let's explore the fascinating **mathematical and physical properties** of **qubits, unitary operations, and quantum gates**.\n",
    "\n",
    "---\n",
    "\n",
    "## 🧑‍🔬 **Qubits: The Foundation of Quantum Computing**\n",
    "A **qubit** (quantum bit) is the fundamental unit of quantum information. Unlike classical bits (which are strictly **0 or 1**), qubits can exist in a **superposition** of both states:\n",
    "\n",
    "\\[\n",
    "|\\psi\\rangle = \\alpha|0\\rangle + \\beta|1\\rangle\n",
    "\\]\n",
    "\n",
    "where:\n",
    "- **α and β** are complex probability amplitudes.\n",
    "- **|0⟩ and |1⟩** are standard basis states.\n",
    "- **The total probability must satisfy**: \n",
    "\n",
    "\\[\n",
    "|\\alpha|^2 + |\\beta|^2 = 1\n",
    "\\]\n",
    "\n",
    "This property enables **parallel computation** and **quantum interference**, making quantum computing exponentially powerful.\n",
    "\n",
    "**Physical Representation of Qubits**\n",
    "Qubits can be **physically implemented** in various ways, including:\n",
    "✔ **Superconducting circuits** (IBM Q, Google Sycamore)  \n",
    "✔ **Trapped ions** (IonQ, Quantinuum)  \n",
    "✔ **Photonic systems** (Xanadu)  \n",
    "✔ **Topological qubits** (Microsoft’s quantum effort)  \n",
    "\n",
    "Each implementation manipulates quantum states **using electromagnetic fields, laser pulses, or RF signals**.\n",
    "\n",
    "---\n",
    "\n",
    "## 🔁 **Unitary Operations: Preserving Quantum Information**\n",
    "Quantum computations are governed by **unitary operations**, which represent reversible transformations of quantum states.\n",
    "\n",
    "A matrix **U** is **unitary** if:\n",
    "\n",
    "\n",
    "$$\n",
    "U^{\\dagger}U = UU^{\\dagger} = I\n",
    "$$\n",
    "\n",
    "\n",
    "where:\n",
    "- **$U^{\\dagger} $** is the **Hermitian conjugate (complex conjugate and transpose)**.\n",
    "- **$ I $** is the identity matrix.\n",
    "\n",
    "Unitary operators ensure **information is not lost** in quantum computation—meaning **quantum processes are reversible**.\n",
    "\n",
    "---\n",
    "\n",
    "## 🚪 **Quantum Gates: Manipulating Qubits**\n",
    "Quantum gates apply **unitary transformations** to qubits and are represented by matrices.\n",
    "\n",
    "### ✨ **Single-Qubit Gates**\n",
    "| Gate | Matrix | Effect |\n",
    "|------|--------|--------|\n",
    "| **Hadamard (H)** | $\\frac{1}{\\sqrt{2}} \\begin{bmatrix} 1 & 1 \\\\ 1 & -1 \\end{bmatrix}$ | Creates **superposition** |\n",
    "| **Pauli-X** | $\\begin{bmatrix} 0 & 1 \\\\ 1 & 0 \\end{bmatrix}$ | **Flips qubit** (like NOT gate) |\n",
    "| **Pauli-Y** | $\\begin{bmatrix} 0 & -i \\\\ i & 0 \\end{bmatrix}$ | Applies **complex phase flip** |\n",
    "| **Pauli-Z** | $\\begin{bmatrix} 1 & 0 \\\\ 0 & -1 \\end{bmatrix}$ | **Phase flip** without changing amplitude |\n",
    "\n",
    "### 🔗 **Multi-Qubit Gates**\n",
    "| Gate | Matrix | Effect |\n",
    "|------|--------|--------|\n",
    "| **CNOT** | $\\begin{bmatrix} 1 & 0 & 0 & 0 \\\\ 0 & 1 & 0 & 0 \\\\ 0 & 0 & 0 & 1 \\\\ 0 & 0 & 1 & 0 \\end{bmatrix}$ | **Entangles two qubits** |\n",
    "| **SWAP** | $\\begin{bmatrix} 1 & 0 & 0 & 0 \\\\ 0 & 0 & 1 & 0 \\\\ 0 & 1 & 0 & 0 \\\\ 0 & 0 & 0 & 1 \\end{bmatrix}$ | **Swaps two qubits' states** |\n",
    "| **Toffoli** | 8×8 matrix | **Controlled-controlled NOT** (key for universal computing) |\n",
    "\n",
    "Since **quantum gates are unitary**, they **preserve information** and allow **reversible computation**.\n",
    "\n",
    "---\n",
    "\n",
    "## 🌎 **Why Does This Matter?**\n",
    "✔ **Qubits enable exponential speed-up** (e.g., Shor’s Algorithm for factoring)  \n",
    "✔ **Unitary operations preserve quantum coherence** (avoiding information loss)  \n",
    "✔ **Quantum gates form the backbone of quantum algorithms**  \n",
    "\n",
    "This combination leads to groundbreaking applications in **cryptography, material science, and artificial intelligence**.\n",
    "\n",
    "\n",
    "### 🔬 **Key Quantum Mechanical Aspects of Qubits**\n",
    "#### ⚛️ **1. Superposition: Qubits Exist in Multiple States**\n",
    "Unlike classical bits (`0` or `1`), qubits can exist in a **superposition** of both states simultaneously:\n",
    "$$ |\\psi\\rangle = \\alpha |0\\rangle + \\beta |1\\rangle $$\n",
    "where **α** and **β** are complex probability amplitudes, determining the likelihood of measuring the qubit as `|0⟩` or `|1⟩`.  \n",
    "- A qubit in **superposition** allows quantum computers to explore multiple possibilities **at once**.\n",
    "\n",
    "#### 🔗 **2. Entanglement: Instantaneous Correlation Between Qubits**\n",
    "Qubits can be **entangled**, meaning their states become correlated **instantaneously**, even if separated by large distances.  \n",
    "- Measuring one entangled qubit **affects** the state of the other, no matter the distance!  \n",
    "- Entanglement is crucial for **quantum teleportation, quantum cryptography**, and boosting computational efficiency.\n",
    "\n",
    "#### 🔄 **3. Quantum Interference: Manipulating Probability Amplitudes**\n",
    "Quantum algorithms use **interference** to amplify correct solutions and cancel incorrect ones.\n",
    "- Qubits evolve via **unitary transformations** governed by quantum gates.\n",
    "- Constructive interference **boosts** desired outcomes, while destructive interference **eliminates** incorrect states.\n",
    "\n",
    "#### 🎭 **4. Measurement: Collapse of Quantum States**\n",
    "When a qubit is **measured**, its superposition **collapses** into either `|0⟩` or `|1⟩`, losing its quantum properties.\n",
    "- Before measurement, it holds **probabilistic values**.\n",
    "- After measurement, it behaves **classically**, giving a definitive result.\n",
    "\n",
    "#### 🔁 **5. Quantum Gates: Operations Based on Linear Algebra**\n",
    "Quantum gates **manipulate qubits** in ways classical logic gates cannot:\n",
    "- **Hadamard (H) gate** → Creates **superposition**.\n",
    "- **Pauli-X gate** → Acts like a **classical NOT**.\n",
    "- **CNOT gate** → Entangles qubits.\n",
    "- **Quantum Fourier Transform (QFT)** → Used in **Shor’s algorithm** for factoring large numbers.\n",
    "\n",
    "### 🏆 **Why These Properties Matter?**\n",
    "✔ Enable **parallel computation** beyond classical limits.  \n",
    "✔ Allow quantum computers to **solve problems exponentially faster**.  \n",
    "✔ Form the basis of quantum algorithms like **Grover’s search, Shor’s factorization, and quantum cryptography**.\n",
    "\n",
    "The **Bloch sphere** is a powerful way to **visualize qubits** and understand their quantum states. 🚀  \n",
    "\n",
    "### 🔵 **The Bloch Sphere: Geometric Representation of Qubits**  \n",
    "Instead of just **0** and **1**, qubits exist in **continuous quantum states** represented as points on a sphere.  \n",
    "\n",
    "A general qubit state is:  \n",
    "$$ |\\psi\\rangle = \\cos(\\theta/2) |0\\rangle + e^{i\\phi} \\sin(\\theta/2) |1\\rangle $$  \n",
    "where **θ** and **φ** determine the qubit’s position on the Bloch sphere.  \n",
    "\n",
    "**Key Bloch Sphere Insights:**  \n",
    "- **Poles** → `|0⟩` (North) and `|1⟩` (South) are classical states.  \n",
    "- **Superposition states** → Exist **on the surface**, not just at the poles.  \n",
    "- **Quantum gates** → Rotate the qubit’s position on the sphere!  \n",
    "\n",
    "### 🔍 **Visualizing a Qubit on the Bloch Sphere**  \n",
    "Run this code to **plot a Bloch sphere visualization**:"
   ]
  },
  {
   "cell_type": "code",
   "execution_count": 3,
   "id": "2302402f-ccbf-42cc-b6de-492f644913a6",
   "metadata": {},
   "outputs": [
    {
     "data": {
      "image/png": "[encoded data removed]",
      "text/plain": [
       "<Figure size 500x500 with 1 Axes>"
      ]
     },
     "execution_count": 3,
     "metadata": {},
     "output_type": "execute_result"
    }
   ],
   "source": [
    "from qiskit.visualization import plot_bloch_vector\n",
    "import numpy as np\n",
    "\n",
    "# Define a superposition state\n",
    "theta = np.pi / 4  # Angle for superposition\n",
    "phi = np.pi / 3    # Phase angle\n",
    "\n",
    "# Convert to Bloch sphere coordinates\n",
    "bloch_vector = [np.sin(theta) * np.cos(phi), np.sin(theta) * np.sin(phi), np.cos(theta)]\n",
    "\n",
    "# Plot the Bloch sphere visualization\n",
    "plot_bloch_vector(bloch_vector, title=\"Qubit State on Bloch Sphere\")"
   ]
  },
  {
   "cell_type": "markdown",
   "id": "07c3f6a2-a48b-4f2f-a353-7b8545c911b9",
   "metadata": {},
   "source": [
    "This will **show the qubit’s quantum state** on a **3D Bloch sphere**, helping you visualize **how quantum gates affect qubit positions**.  "
   ]
  },
  {
   "cell_type": "markdown",
   "id": "0eef26a5-4748-44a4-aadb-8efe5baa0172",
   "metadata": {},
   "source": [
    "## 3.2 🔍 Visualizing Superposition"
   ]
  },
  {
   "cell_type": "code",
   "execution_count": 13,
   "id": "b4f8e917-475e-430d-8eeb-45431e592fa3",
   "metadata": {},
   "outputs": [
    {
     "data": {
      "image/png": "[encoded data removed]",
      "text/plain": [
       "<Figure size 185.453x117.056 with 1 Axes>"
      ]
     },
     "execution_count": 13,
     "metadata": {},
     "output_type": "execute_result"
    }
   ],
   "source": [
    "from qiskit import QuantumCircuit\n",
    "qc = QuantumCircuit(1)  \n",
    "qc.h(0)  # Apply Hadamard gate to create superposition\n",
    "qc.draw(\"mpl\")"
   ]
  },
  {
   "cell_type": "markdown",
   "id": "10aa3966-c07c-4d95-84f6-60eab36f407c",
   "metadata": {},
   "source": [
    "## 3.3 🎭 Quantum Gates: Manipulating Qubits  "
   ]
  },
  {
   "cell_type": "markdown",
   "id": "0159b607-31b2-4628-b9bb-d41c3a3e6f78",
   "metadata": {},
   "source": [
    "\n",
    "Quantum gates modify qubits similarly to how logic gates function in classical computing. Some essential gates include:\n",
    "\n",
    "- **Hadamard Gate (H)** → Creates **superposition** (`|0⟩ → |+⟩`), with $$|+⟩ = \\frac{1}{\\sqrt(2)}\\cdot(|0⟩+|1⟩)$$\n",
    "- **Pauli-X Gate (X)** → Equivalent to a classical **NOT gate** (`|0⟩ ↔ |1⟩`)\n",
    "- **CNOT Gate (CX)** → Entangles two qubits for quantum operations\n",
    "\n",
    "**Quantum gates** are not just abstract mathematical operations—they have **real physical implementations** based on the principles of **quantum mechanics**. Unlike classical logic gates that manipulate **binary bits**, quantum gates modify **qubits**, leveraging phenomena like **superposition, entanglement, and interference**.\n",
    "\n",
    "---\n",
    "\n",
    "### 🔬 **Physical Aspects of Quantum Gates**\n",
    "#### 🏗️ **1. Quantum Gates are Reversible & Unitary**\n",
    "- Quantum gates **never erase** information—they **always preserve** the quantum state.\n",
    "- Mathematically, they are represented by **unitary matrices (U)**, meaning:\n",
    "  $$ UU^\\dagger = I $$\n",
    "  where **U** is the transformation matrix and **U†** is its conjugate transpose.\n",
    "\n",
    "---\n",
    "\n",
    "#### ⚡ **2. Implementing Quantum Gates Physically**\n",
    "Quantum gates are implemented using **microwave pulses, laser manipulation, or controlled interactions** depending on the qubit type.  \n",
    "**Different qubit technologies require different physical methods to apply gates:**\n",
    "\n",
    "| **Qubit Type**          | **Gate Implementation** |\n",
    "|------------------------|------------------------|\n",
    "| **Superconducting Qubits** | Microwave pulses & resonators |\n",
    "| **Trapped Ions**       | Laser beams & electromagnetic traps |\n",
    "| **Photonic Qubits**    | Beam splitters & phase shifters |\n",
    "| **Spin Qubits**        | Magnetic fields & spin manipulation |\n",
    "\n",
    "---\n",
    "\n",
    "#### 🎭 **3. Quantum Gates as Rotations on the Bloch Sphere**\n",
    "Instead of flipping bits like classical gates, quantum gates **rotate** qubits on the Bloch sphere.\n",
    "\n",
    "| **Gate**         | **Bloch Sphere Effect** |\n",
    "|----------------|----------------------|\n",
    "| **Hadamard (H)** | Rotates qubit to **superposition** |\n",
    "| **Pauli-X (X)** | 180° rotation around **X-axis** |\n",
    "| **Pauli-Y (Y)** | 180° rotation around **Y-axis** |\n",
    "| **Pauli-Z (Z)** | 180° rotation around **Z-axis** |\n",
    "| **CNOT (CX)** | **Entangles** two qubits |\n",
    "\n",
    "Each gate **changes the probability amplitudes** of `|0⟩` and `|1⟩`, affecting the outcome when measured.\n",
    "\n",
    "---\n",
    "\n",
    "#### 🔗 **4. Entanglement through Multi-Qubit Gates**\n",
    "Some gates, like **CNOT (Controlled-NOT), SWAP, and Toffoli**, create **entanglement** by **linking qubit states**.\n",
    "\n",
    "✔ **CNOT Gate** → If the **control qubit** is `|1⟩`, it flips the target qubit.  \n",
    "✔ **SWAP Gate** → Exchanges the states of two qubits.  \n",
    "✔ **Toffoli Gate** → Quantum equivalent of an **AND gate**, used in quantum algorithms.\n",
    "\n",
    "These gates are fundamental in **quantum circuits, teleportation, and error correction**!\n",
    "\n",
    "---\n",
    "\n",
    "### 🏆 **Why Physical Quantum Gates Matter**\n",
    "✔ Enable **real quantum computation** beyond simulations.  \n",
    "✔ Provide insights into quantum hardware limitations (noise, decoherence).  \n",
    "✔ Help optimize **quantum algorithms** for future quantum processors.  "
   ]
  },
  {
   "cell_type": "markdown",
   "id": "3a59d510-577c-4d2f-b02f-829c42e98a75",
   "metadata": {},
   "source": [
    "## 3.4 🔍 Example: Applying Hadamard & Pauli-X  "
   ]
  },
  {
   "cell_type": "code",
   "execution_count": 15,
   "id": "ca75e2b0-e858-4818-87be-33e759e4af2e",
   "metadata": {},
   "outputs": [
    {
     "data": {
      "image/png": "[encoded data removed]",
      "text/plain": [
       "<Figure size 269.064x117.056 with 1 Axes>"
      ]
     },
     "execution_count": 15,
     "metadata": {},
     "output_type": "execute_result"
    }
   ],
   "source": [
    "qc = QuantumCircuit(1)\n",
    "qc.h(0)  # Hadamard: Creates superposition\n",
    "qc.x(0)  # Pauli-X: Flips qubit state\n",
    "qc.draw(\"mpl\")"
   ]
  },
  {
   "cell_type": "markdown",
   "id": "64cbe280-972c-412a-9f22-9eebebe5538f",
   "metadata": {},
   "source": [
    "## 3.5 🎯 Quantum Measurements  "
   ]
  },
  {
   "cell_type": "markdown",
   "id": "78fedb20-6a9f-4393-aad8-2b210be477b1",
   "metadata": {},
   "source": [
    "To extract information from a qubit, we **measure** it, collapsing its **superposition state** to either `|0⟩` or `|1⟩`.  \n",
    "\n",
    "Quantum measurement is one of the **most fascinating and fundamental** aspects of quantum mechanics. Unlike classical measurements, quantum measurements **collapse** a qubit’s state and introduce probabilistic outcomes. Here’s how it works from a **physical perspective**:\n",
    "\n",
    "---\n",
    "\n",
    "### ⚛️ **1. Measurement Collapse: Destroying Superposition**  \n",
    "Before measurement, a qubit exists in a **superposition**:\n",
    "$$ |\\psi\\rangle = \\alpha |0\\rangle + \\beta |1\\rangle $$\n",
    "where **α** and **β** are probability amplitudes.\n",
    "\n",
    "However, once measured, the qubit **collapses** to either `|0⟩` or `|1⟩`, eliminating superposition.\n",
    "\n",
    "✔ **Why?** Measurement forces the system to interact with the classical world, revealing only one outcome.  \n",
    "✔ **Probability?** The qubit will be `|0⟩` with probability **|α|²**, and `|1⟩` with probability **|β|²**.\n",
    "\n",
    "---\n",
    "\n",
    "### 🔬 **2. Physical Implementation of Quantum Measurement**  \n",
    "Different quantum hardware **physically measures qubits** using unique methods:\n",
    "\n",
    "| **Qubit Type**          | **Measurement Method** |\n",
    "|------------------------|------------------------|\n",
    "| **Superconducting Qubits** | Microwave readout |\n",
    "| **Trapped Ions**       | Laser fluorescence detection |\n",
    "| **Photonic Qubits**    | Single-photon detectors |\n",
    "| **Spin Qubits**        | Magnetic resonance |\n",
    "\n",
    "✔ **Superconducting qubits:** A resonator detects **whether a qubit is in `|0⟩` or `|1⟩`** via microwave shifts.  \n",
    "✔ **Trapped ions:** Laser pulses excite ions, causing a fluorescent signal when in state `|1⟩`.  \n",
    "✔ **Photonic qubits:** Beam splitters and detectors count photons to infer quantum states.  \n",
    "\n",
    "---\n",
    "\n",
    "### 🎭 **3. The No-Cloning Theorem: Quantum Measurements are Destructive**  \n",
    "Unlike classical data, quantum states **cannot be copied**—they are **destroyed** upon measurement.\n",
    "\n",
    "✔ **Implication?** Measuring a quantum state **prevents future manipulations**, making quantum cryptography (like **Quantum Key Distribution**) secure.  \n",
    "✔ **Example:** In quantum teleportation, qubit measurement **sends information** but erases the original state.\n",
    "\n",
    "---\n",
    "\n",
    "### 🚀 **4. Quantum Measurement Errors: Noise & Decoherence**  \n",
    "Quantum measurements are imperfect due to **decoherence**—interactions with the environment disturb the fragile quantum state.\n",
    "\n",
    "✔ **Readout errors** → Measurement devices may **misinterpret** `|0⟩` as `|1⟩`.  \n",
    "✔ **Noise interference** → External fields introduce randomness in measurement results.  \n",
    "✔ **Error mitigation** → **Repeated measurements** and **quantum error correction** help refine accuracy.\n",
    "\n",
    "---\n",
    "\n",
    "### 🏆 **Why Quantum Measurement Matters**  \n",
    "✔ Key to **extracting information** from quantum computers.  \n",
    "✔ Determines **final output** for algorithms like Grover’s search and Shor’s factorization.  \n",
    "✔ Vital for **quantum cryptography**, ensuring secure communication.\n",
    "\n",
    "Let's see how **quantum measurements** affect quantum circuits. 🚀  \n",
    "\n",
    "### 🎭 **Quantum Measurement in Action**\n",
    "Before measurement, a qubit exists in **superposition**—but once measured, it **collapses** to either `|0⟩` or `|1⟩`, eliminating quantum interference.\n",
    "\n",
    "### 🔍 **Example: Measuring a Qubit in Superposition**"
   ]
  },
  {
   "cell_type": "code",
   "execution_count": 39,
   "id": "52282e52-8a20-4bf9-bf99-9670174d4d4d",
   "metadata": {},
   "outputs": [
    {
     "name": "stdout",
     "output_type": "stream",
     "text": [
      "Measurement Results: {'0': 533, '1': 491}\n"
     ]
    },
    {
     "data": {
      "image/png": "[encoded data removed]",
      "text/plain": [
       "<Figure size 640x480 with 1 Axes>"
      ]
     },
     "execution_count": 39,
     "metadata": {},
     "output_type": "execute_result"
    }
   ],
   "source": [
    "from qiskit import QuantumCircuit, transpile\n",
    "from qiskit_aer import AerSimulator\n",
    "from qiskit.visualization import plot_histogram\n",
    "\n",
    "# Create a 1-qubit quantum circuit\n",
    "qc = QuantumCircuit(1, 1)\n",
    "\n",
    "# Apply Hadamard gate: creates superposition\n",
    "qc.h(0)\n",
    "\n",
    "# Measure the qubit\n",
    "qc.measure(0, 0)\n",
    "\n",
    "# Select the quantum simulator\n",
    "simulator = AerSimulator()\n",
    "\n",
    "# Transpile the circuit for the simulator\n",
    "compiled_circuit = transpile(qc, simulator)\n",
    "\n",
    "# Run the circuit\n",
    "job = simulator.run(compiled_circuit, shots=1024)\n",
    "result = job.result()\n",
    "counts = result.get_counts()\n",
    "\n",
    "# Display measurement outcomes\n",
    "print(\"Measurement Results:\", counts)\n",
    "plot_histogram(counts)"
   ]
  },
  {
   "cell_type": "markdown",
   "id": "edf5b85b-cd16-4c50-8c35-46460c109f27",
   "metadata": {},
   "source": [
    "### 🎯 **Expected Results**\n",
    "✔ About **50% |0⟩** and **50% |1⟩** → Because the qubit was in **perfect superposition**, measurement collapses it randomly to either state.  \n",
    "✔ The **histogram visualization** shows how measurement affects quantum probability.\n",
    "\n",
    "---\n",
    "\n",
    "### 🏆 **Why This Matters**\n",
    "✔ If the quantum state **wasn't measured**, interference effects would persist.  \n",
    "✔ Quantum algorithms (like Grover’s search) **use measurement carefully** to extract useful results.  \n",
    "✔ Quantum noise can cause **measurement errors**, leading to the need for **error correction**."
   ]
  },
  {
   "cell_type": "markdown",
   "id": "97f50147-3e07-4b8b-9b18-b1a4eea01f2d",
   "metadata": {},
   "source": [
    "## 3.6 🔍 Simulating a Measurement "
   ]
  },
  {
   "cell_type": "code",
   "execution_count": 45,
   "id": "404b7bb4-4f31-4c06-bf73-75d6faf84bc9",
   "metadata": {},
   "outputs": [
    {
     "name": "stdout",
     "output_type": "stream",
     "text": [
      "Measurement Outcomes: {'1': 494, '0': 530}\n"
     ]
    }
   ],
   "source": [
    "from qiskit import QuantumCircuit, transpile\n",
    "from qiskit_aer import AerSimulator\n",
    "\n",
    "# Create a 1-qubit quantum circuit\n",
    "qc = QuantumCircuit(1, 1)\n",
    "qc.h(0)  # Create superposition\n",
    "qc.measure(0, 0)  # Measure the qubit\n",
    "\n",
    "# Select the quantum simulator\n",
    "simulator = AerSimulator()\n",
    "\n",
    "# Transpile the circuit for the simulator\n",
    "compiled_circuit = transpile(qc, simulator)\n",
    "\n",
    "# Run the circuit\n",
    "job = simulator.run(compiled_circuit, shots=1024)\n",
    "result = job.result()\n",
    "counts = result.get_counts()\n",
    "\n",
    "print(\"Measurement Outcomes:\", counts)"
   ]
  },
  {
   "cell_type": "markdown",
   "id": "c544455a-601b-4280-a96d-973340783079",
   "metadata": {},
   "source": [
    "🚀 **Up Next:** Now that we understand **qubits, gates, and measurements**, let's explore how quantum circuits can solve real-world problems!"
   ]
  },
  {
   "cell_type": "markdown",
   "id": "baae666d-28ad-43ce-bf54-e65efb24bb8e",
   "metadata": {},
   "source": [
    "## 3.7 🏗️ Your First Quantum Circuit!"
   ]
  },
  {
   "cell_type": "markdown",
   "id": "5f472be9-0fa1-4076-8bc5-8b7788b20578",
   "metadata": {},
   "source": [
    "### 3.7.1 Creating a Pythonic Quantum Circuit"
   ]
  },
  {
   "cell_type": "markdown",
   "id": "26357d56-7a22-4f3f-967f-2c8f1285a9bc",
   "metadata": {},
   "source": [
    "Let’s create a simple **Quantum Circuit** with **1 qubit** and apply a **Hadamard gate** to put it in **superposition**:"
   ]
  },
  {
   "cell_type": "code",
   "execution_count": 21,
   "id": "a6161ad8-d598-4816-829d-f34c60c76c5f",
   "metadata": {},
   "outputs": [
    {
     "data": {
      "image/png": "[encoded data removed]",
      "text/plain": [
       "<Figure size 269.064x200.667 with 1 Axes>"
      ]
     },
     "execution_count": 21,
     "metadata": {},
     "output_type": "execute_result"
    }
   ],
   "source": [
    "# Create a quantum circuit with 1 qubit\n",
    "qc = QuantumCircuit(1, 1)\n",
    "\n",
    "# Apply a Hadamard gate\n",
    "qc.h(0)\n",
    "\n",
    "# Measure the qubit\n",
    "qc.measure(0, 0)\n",
    "\n",
    "# Draw the circuit\n",
    "qc.draw(\"mpl\")"
   ]
  },
  {
   "cell_type": "markdown",
   "id": "347c8355-46f0-4a38-8250-49cddbaa3860",
   "metadata": {},
   "source": [
    "### 3.7.2 🚀 Running the Circuit on a Quantum Simulator  "
   ]
  },
  {
   "cell_type": "markdown",
   "id": "84966a50-c4e1-4fe3-9994-75518de2341e",
   "metadata": {},
   "source": [
    "Now, let's simulate the circuit execution and see the results:"
   ]
  },
  {
   "cell_type": "code",
   "execution_count": 47,
   "id": "a810be02-995a-408e-8748-b11f0980c24a",
   "metadata": {},
   "outputs": [
    {
     "name": "stdout",
     "output_type": "stream",
     "text": [
      "Measurement Outcomes: {'1': 497, '0': 527}\n"
     ]
    }
   ],
   "source": [
    "from qiskit import transpile\n",
    "from qiskit_aer import AerSimulator\n",
    "\n",
    "# Select the quantum simulator\n",
    "simulator = AerSimulator()\n",
    "\n",
    "# Transpile the circuit for the simulator\n",
    "compiled_circuit = transpile(qc, simulator)\n",
    "\n",
    "# Execute the circuit\n",
    "job = simulator.run(compiled_circuit, shots=1024)\n",
    "\n",
    "# Get results\n",
    "result = job.result()\n",
    "counts = result.get_counts()\n",
    "\n",
    "print(\"Measurement Outcomes:\", counts)"
   ]
  },
  {
   "cell_type": "markdown",
   "id": "30b56a5f-5fb1-4be2-9a09-f17669b9f6e7",
   "metadata": {},
   "source": [
    "# Chapter 4: ⚡ Hands-On with Quantum Circuits"
   ]
  },
  {
   "cell_type": "markdown",
   "id": "91ea771c-a9c3-4365-8f59-9d69ceb2e1e2",
   "metadata": {},
   "source": [
    "Now, let's apply what we've learned by **building and executing quantum circuits**! We'll explore how to create a **Bell state**, visualize circuits, and run them on quantum simulators."
   ]
  },
  {
   "cell_type": "markdown",
   "id": "fc78b2d3-3994-417f-903f-f2f4c1fac664",
   "metadata": {},
   "source": [
    "## 4.1 🔗 Creating a Bell State Circuit  \n",
    "The **Bell state** is a fundamental quantum **entangled state** that connects two qubits, making their measurements correlated:\n",
    "\n",
    "$$ |\\Phi^+\\rangle = \\frac{1}{\\sqrt{2}} (|00\\rangle + |11\\rangle) $$   \n",
    "\n",
    "Bell states and **quantum entanglement** are foundational concepts in quantum mechanics and quantum computing. They enable **instantaneous correlations** between qubits, a phenomenon that challenges classical intuition.\n",
    "\n",
    "---\n",
    "\n",
    "### 🔬 **Physical Aspects of Bell States & Entanglement**\n",
    "Bell states are **maximally entangled quantum states** where two qubits become **inseparably linked**. Measuring one **immediately affects** the other, regardless of distance.\n",
    "\n",
    "✔ **Real-world implementations** → Generated in **trapped ions, superconducting qubits, photonic systems**, and **spin qubits**  \n",
    "✔ **Experimental verification** → Bell’s theorem experiments have **confirmed entanglement** beyond classical physics  \n",
    "✔ **Quantum communication** → Enables **quantum teleportation & cryptography** (Quantum Key Distribution)  \n",
    "\n",
    "---\n",
    "\n",
    "### 🔢 **Mathematical Formulation of Bell States**\n",
    "Bell states are **special two-qubit states** defined as:\n",
    "\n",
    "$$ |\\Phi^+\\rangle = \\frac{1}{\\sqrt{2}}(|00\\rangle + |11\\rangle) $$  \n",
    "$$ |\\Phi^-\\rangle = \\frac{1}{\\sqrt{2}}(|00\\rangle - |11\\rangle) $$  \n",
    "$$ |\\Psi^+\\rangle = \\frac{1}{\\sqrt{2}}(|01\\rangle + |10\\rangle) $$  \n",
    "$$ |\\Psi^-\\rangle = \\frac{1}{\\sqrt{2}}(|01\\rangle - |10\\rangle) $$  \n",
    "\n",
    "These states exhibit **perfect correlation**, meaning measuring one qubit **fixes** the state of the other.\n",
    "\n",
    "---\n",
    "\n",
    "### 🔗 **How Bell States Are Created: Quantum Circuit**\n",
    "Bell states are generated using **Hadamard and CNOT gates**:\n",
    "\n",
    "```python\n",
    "from qiskit import QuantumCircuit\n",
    "\n",
    "# Create a 2-qubit quantum circuit\n",
    "qc = QuantumCircuit(2, 2)\n",
    "\n",
    "# Apply Hadamard gate (superposition)\n",
    "qc.h(0)\n",
    "\n",
    "# Apply CNOT gate (entanglement)\n",
    "qc.cx(0, 1)\n",
    "\n",
    "# Measure both qubits\n",
    "qc.measure([0, 1], [0, 1])\n",
    "\n",
    "qc.draw(\"mpl\")  # Visualize the Bell state circuit\n",
    "```\n",
    "✔ **Hadamard (H) gate** puts the first qubit in superposition  \n",
    "✔ **CNOT gate** entangles the second qubit with the first  \n",
    "\n",
    "Once entangled, **measuring qubit 0 instantly determines the state of qubit 1**, even if they are **light-years apart**.\n",
    "\n",
    "---\n",
    "\n",
    "### 🏆 **Why Bell States Matter**\n",
    "✔ **Quantum teleportation** → Enables transferring quantum information across vast distances  \n",
    "✔ **Quantum cryptography** → Forms the backbone of **secure quantum communication**  \n",
    "✔ **Quantum advantage** → Used in quantum algorithms for **speedup & optimization**  "
   ]
  },
  {
   "cell_type": "markdown",
   "id": "b74ab857-6458-44c2-bb1d-e4d9aefe9d9e",
   "metadata": {},
   "source": [
    "## 4.2 🏗️ **Building the Bell State Circuit**"
   ]
  },
  {
   "cell_type": "code",
   "execution_count": 25,
   "id": "101c8da8-e986-4d01-85a3-d12512a94b56",
   "metadata": {},
   "outputs": [
    {
     "data": {
      "image/png": "[encoded data removed]",
      "text/plain": [
       "<Figure size 454.517x284.278 with 1 Axes>"
      ]
     },
     "execution_count": 25,
     "metadata": {},
     "output_type": "execute_result"
    }
   ],
   "source": [
    "from qiskit import QuantumCircuit\n",
    "\n",
    "# Create a 2-qubit quantum circuit\n",
    "qc = QuantumCircuit(2, 2)\n",
    "\n",
    "# Apply Hadamard gate to the first qubit\n",
    "qc.h(0)\n",
    "\n",
    "# Apply CNOT gate (entangling the qubits)\n",
    "qc.cx(0, 1)\n",
    "\n",
    "# Measure both qubits\n",
    "qc.measure([0, 1], [0, 1])\n",
    "\n",
    "qc.draw(\"mpl\")  # Visualize the circuit"
   ]
  },
  {
   "cell_type": "markdown",
   "id": "0af395ef-d50b-4b43-870e-5d9fb016768f",
   "metadata": {},
   "source": [
    "## 4.3 🎨 Visualizing Quantum Circuits  \n",
    "Qiskit allows us to **draw quantum circuits** for better understanding.  \n",
    "Try visualizing different circuits using:"
   ]
  },
  {
   "cell_type": "code",
   "execution_count": 29,
   "id": "4da5836a-157b-4579-8601-a434a2e11d42",
   "metadata": {},
   "outputs": [
    {
     "data": {
      "text/html": [
       "<pre style=\"word-wrap: normal;white-space: pre;background: #fff0;line-height: 1.1;font-family: &quot;Courier New&quot;,Courier,monospace\">     ┌───┐     ┌─┐   \n",
       "q_0: ┤ H ├──■──┤M├───\n",
       "     └───┘┌─┴─┐└╥┘┌─┐\n",
       "q_1: ─────┤ X ├─╫─┤M├\n",
       "          └───┘ ║ └╥┘\n",
       "c: 2/═══════════╩══╩═\n",
       "                0  1 </pre>"
      ],
      "text/plain": [
       "     ┌───┐     ┌─┐   \n",
       "q_0: ┤ H ├──■──┤M├───\n",
       "     └───┘┌─┴─┐└╥┘┌─┐\n",
       "q_1: ─────┤ X ├─╫─┤M├\n",
       "          └───┘ ║ └╥┘\n",
       "c: 2/═══════════╩══╩═\n",
       "                0  1 "
      ]
     },
     "execution_count": 29,
     "metadata": {},
     "output_type": "execute_result"
    }
   ],
   "source": [
    "qc.draw(\"mpl\")  # Standard circuit visualization\n",
    "\n",
    "# If using Jupyter Notebook, try rendering the circuit in **text format**:\n",
    "qc.draw(\"text\")  # ASCII-style circuit representation"
   ]
  },
  {
   "cell_type": "markdown",
   "id": "84127b1d-53a1-4c8d-9c7e-83b7ee650454",
   "metadata": {},
   "source": [
    "## 4.4 🚀 Executing Circuits on a Simulator  \n",
    "Now, let’s **run our Bell state circuit** using a quantum simulator:"
   ]
  },
  {
   "cell_type": "code",
   "execution_count": 37,
   "id": "48892bb6-2d6e-44cb-9543-b004393e23fa",
   "metadata": {},
   "outputs": [
    {
     "name": "stdout",
     "output_type": "stream",
     "text": [
      "Measurement Outcomes: {'00': 511, '11': 513}\n"
     ]
    }
   ],
   "source": [
    "from qiskit import transpile\n",
    "from qiskit_aer import AerSimulator\n",
    "\n",
    "# Select the quantum simulator\n",
    "simulator = AerSimulator()\n",
    "\n",
    "# Transpile the quantum circuit for the simulator\n",
    "compiled_circuit = transpile(qc, simulator)\n",
    "\n",
    "# Execute the circuit\n",
    "job = simulator.run(compiled_circuit, shots=1024)\n",
    "\n",
    "# Retrieve results\n",
    "result = job.result()\n",
    "counts = result.get_counts()\n",
    "\n",
    "print(\"Measurement Outcomes:\", counts)  # Expected ~50% '00' and ~50% '11'"
   ]
  },
  {
   "cell_type": "markdown",
   "id": "7064bbdc-bb5d-4159-ab89-30c54ee8f2ce",
   "metadata": {},
   "source": [
    "✅ **Next Steps:** Now that we’ve created a Bell state and executed it on a simulator, let's explore **quantum algorithms** like Grover’s and Shor’s algorithms! 🚀😊  "
   ]
  },
  {
   "cell_type": "markdown",
   "id": "4e1d291c-3607-4f73-8684-8d63bcb3d086",
   "metadata": {},
   "source": [
    "# Chapter 5: 🤖 Quantum Algorithms & Applications"
   ]
  },
  {
   "cell_type": "markdown",
   "id": "2bfda966-809c-4478-b5a1-cde1e9940ec1",
   "metadata": {},
   "source": [
    "Quantum algorithms leverage **superposition, entanglement, and interference** to solve problems **faster** than classical counterparts. Here, we explore three groundbreaking quantum algorithms:\n",
    "\n",
    "\n",
    "## 5.1 🚀 Deutsch-Jozsa Algorithm (Quantum Speedup!)  \n",
    "The **Deutsch-Jozsa algorithm** demonstrates quantum speedup by determining whether a **black-box function** is **constant** or **balanced** in a **single evaluation**, whereas classical methods require multiple calls.\n",
    "\n",
    "### 🔍 Key Concept  \n",
    "- Uses **Hadamard gates** to place qubits in superposition  \n",
    "- Evaluates the function in **parallel**  \n",
    "- Provides a definite answer in **one quantum computation**\n",
    "\n",
    "The **Deutsch-Jozsa algorithm** is a quantum algorithm that provides an **exponential speedup** compared to classical methods for solving a specific problem: determining whether a given function is **constant or balanced** in a **single evaluation**, whereas a classical computer would require multiple queries.\n",
    "\n",
    "---\n",
    "\n",
    "## 🔢 **Mathematical Aspects of the Deutsch-Jozsa Algorithm**  \n",
    "\n",
    "### **Problem Definition**\n",
    "We are given a function:\n",
    "$$ f: \\{0,1\\}^n \\rightarrow \\{0,1\\} $$\n",
    "which takes **n-bit inputs** and produces either **0 or 1**. The function is **either**:  \n",
    "✔ **Constant:** Same output for all inputs (`f(x) = 0` for all `x` or `f(x) = 1` for all `x`).  \n",
    "✔ **Balanced:** Outputs **0 for half** the inputs and **1 for the other half**.  \n",
    "\n",
    "A classical computer would need **at least 2^(n-1) + 1 function calls** to determine this, but a quantum computer using **Deutsch-Jozsa** can solve it in **just ONE evaluation**!\n",
    "\n",
    "---\n",
    "\n",
    "### **Quantum Circuit Construction**\n",
    "The Deutsch-Jozsa algorithm uses **quantum parallelism** and **Hadamard transformations** to evaluate the function efficiently. The steps involve:\n",
    "\n",
    "#### **1️⃣ Initialize Qubits**\n",
    "- Use `n` **input qubits**, initialized to `|0⟩`.  \n",
    "- Use **one auxiliary qubit**, initialized to `|1⟩` to perform function evaluation.\n",
    "\n",
    "#### **2️⃣ Apply Hadamard Gates**\n",
    "- Hadamard (`H`) gates **create superposition** so all possible inputs exist simultaneously:\n",
    "$$ H^{\\otimes n} |0⟩ = \\frac{1}{\\sqrt{2^n}} \\sum_{x} |x⟩ $$\n",
    "This allows the quantum system to explore **all possible function evaluations at once**.\n",
    "\n",
    "#### **3️⃣ Apply Oracle**\n",
    "- The function `f(x)` is encoded using a **quantum oracle** that flips the phase:\n",
    "$$ U_f |x⟩ |y⟩ = |x⟩ |y \\oplus f(x)⟩ $$\n",
    "\n",
    "#### **4️⃣ Apply Hadamard Again**\n",
    "- A second Hadamard transform **extracts interference patterns** to reveal whether the function is **constant or balanced**.\n",
    "\n",
    "#### **5️⃣ Measure Output**\n",
    "- If **all qubits collapse to `|0⟩`**, the function is **constant**.  \n",
    "- If **any qubit has `|1⟩`**, the function is **balanced**.\n",
    "\n",
    "---\n",
    "## 🔬 **Physical Aspects of the Deutsch-Jozsa Algorithm**  \n",
    "\n",
    "✔ **Implemented Using Superconducting Qubits, Trapped Ions, or Photonic Systems**  \n",
    "✔ **Relies on Quantum Interference to Extract Useful Information**  \n",
    "✔ **Uses Oracles in Quantum Circuits to Perform Function Evaluation in Parallel**  \n",
    "✔ **Exploits Quantum Superposition and Entanglement for Speedup**\n",
    "\n",
    "---\n",
    "## 🏆 **Why Is This Important?**\n",
    "✔ **Shows Quantum Speedup in a Real Problem**  \n",
    "✔ **Demonstrates Quantum Parallelism & Interference Effects**  \n",
    "✔ **Forms the Basis for More Complex Algorithms Like Grover’s Search**  "
   ]
  },
  {
   "cell_type": "markdown",
   "id": "d95f9ebf-acff-463e-b1c9-dd34bfc7df72",
   "metadata": {},
   "source": [
    "### 🏗️ **Example: Deutsch-Jozsa Circuit**"
   ]
  },
  {
   "cell_type": "code",
   "execution_count": 60,
   "id": "89956ca0-b2e1-41ac-81bf-08efcfb5554d",
   "metadata": {},
   "outputs": [
    {
     "data": {
      "image/png": "[encoded data removed]",
      "text/plain": [
       "<Figure size 621.941x367.889 with 1 Axes>"
      ]
     },
     "execution_count": 60,
     "metadata": {},
     "output_type": "execute_result"
    }
   ],
   "source": [
    "from qiskit import QuantumCircuit\n",
    "\n",
    "# Create a 3-qubit quantum circuit\n",
    "qc = QuantumCircuit(3, 3)\n",
    "\n",
    "# Apply Hadamard gates to input qubits\n",
    "qc.h([0, 1])\n",
    "\n",
    "# Oracle (example balanced function)\n",
    "qc.cx(0, 2)\n",
    "qc.cx(1, 2)\n",
    "\n",
    "# Apply Hadamard gates again\n",
    "qc.h([0, 1])\n",
    "\n",
    "# Measure the qubits\n",
    "qc.measure([0, 1], [0, 1])\n",
    "\n",
    "qc.draw(\"mpl\")"
   ]
  },
  {
   "cell_type": "markdown",
   "id": "83d9f1f7-5555-4512-b386-670bceaba942",
   "metadata": {},
   "source": [
    "## 5.2 🔎 Grover's Algorithm (Quantum Search)  \n",
    "**Grover’s algorithm** provides a **quadratic speedup** in searching an unsorted database. It **amplifies** the probability of finding the correct item **faster than classical methods**.\n",
    "\n",
    "### 🎯 Key Concept  \n",
    "- Uses **oracle-based quantum gates** to identify solutions  \n",
    "- Applies an **amplitude amplification technique**  \n",
    "- Reduces search complexity from **O(N) → O(√N)**\n",
    "\n",
    "The **Grover algorithm** is a powerful quantum algorithm that provides a **quadratic speedup** for searching an unsorted database. It’s particularly useful for problems where classical brute-force search would take **O(N) operations**, while Grover’s algorithm achieves the same task in **O(√N) time complexity**.\n",
    "\n",
    "---\n",
    "\n",
    "## 🔢 **Mathematical Aspects of Grover’s Algorithm**\n",
    "Grover's algorithm operates on a set of **N possible states** and aims to find the correct one using quantum principles.\n",
    "\n",
    "### **1️⃣ Problem Setup**\n",
    "Imagine an **unordered database** with `N` entries. We want to find a marked item, where:  \n",
    "✔ **Classical search** → Requires checking up to **N entries** one by one.  \n",
    "✔ **Grover’s quantum search** → Finds the item in about **√N queries**, offering a **quadratic speedup**.\n",
    "\n",
    "### **2️⃣ Quantum State Representation**\n",
    "The system starts in **equal superposition**:\n",
    "$$ |\\psi\\rangle = \\frac{1}{\\sqrt{N}} \\sum_{x} |x\\rangle $$\n",
    "Each possible state (`x`) has an **equal probability amplitude**.\n",
    "\n",
    "### **3️⃣ Oracle (Marking the Solution)**\n",
    "An **oracle** flips the sign of the correct solution:\n",
    "$$ U_f |x\\rangle = (-1)^{f(x)} |x\\rangle $$\n",
    "If `x` is the correct solution, its amplitude is **inverted**.\n",
    "\n",
    "### **4️⃣ Grover Diffusion Operator (Amplifying the Solution)**\n",
    "To boost the probability of the correct answer, Grover’s algorithm applies **amplitude amplification**:\n",
    "$$ D = 2|\\psi\\rangle\\langle\\psi| - I $$\n",
    "This **constructively interferes** correct solutions and **destructively interferes** incorrect ones.\n",
    "\n",
    "### **5️⃣ Iterations & Measurement**\n",
    "Repeating the amplification **about √N times** increases the probability of measuring the correct state.  \n",
    "After **final measurement**, the system collapses to the **correct solution** with high probability.\n",
    "\n",
    "---\n",
    "\n",
    "## 🔬 **Physical Aspects of Grover’s Algorithm**\n",
    "✔ **Implemented in quantum systems** like **superconducting qubits, trapped ions, and photonic circuits**.  \n",
    "✔ **Oracle is built as a reversible quantum function** using **multi-qubit gates** (controlled phase shifts).  \n",
    "✔ **Quantum interference is physically observed**, demonstrating enhancement of correct states.  \n",
    "✔ **Used in quantum cryptography & optimization problems**.\n",
    "\n",
    "---\n",
    "\n",
    "### 🏆 **Why Grover’s Algorithm Matters**\n",
    "✔ **Quadratic speedup over classical search**.  \n",
    "✔ **Foundation for quantum-enhanced AI & data retrieval**.  \n",
    "✔ **Used in breaking classical cryptographic protocols**.  "
   ]
  },
  {
   "cell_type": "markdown",
   "id": "35ece9a6-9e31-49fc-824b-352c93df1c11",
   "metadata": {},
   "source": [
    "### 🏗️ **Example: Grover’s Quantum Circuit**"
   ]
  },
  {
   "cell_type": "code",
   "execution_count": 62,
   "id": "71cde6b9-7f01-49e1-aa7c-847fdc403449",
   "metadata": {},
   "outputs": [
    {
     "data": {
      "image/png": "[encoded data removed]",
      "text/plain": [
       "<Figure size 705.35x284.278 with 1 Axes>"
      ]
     },
     "execution_count": 62,
     "metadata": {},
     "output_type": "execute_result"
    }
   ],
   "source": [
    "from qiskit import QuantumCircuit\n",
    "\n",
    "# Create a Grover search circuit\n",
    "qc = QuantumCircuit(2, 2)\n",
    "\n",
    "# Apply Hadamard gates (superposition)\n",
    "qc.h([0, 1])\n",
    "\n",
    "# Oracle marking the solution (example)\n",
    "qc.cz(0, 1)\n",
    "\n",
    "# Grover diffusion operator\n",
    "qc.h([0, 1])\n",
    "qc.z([0, 1])\n",
    "qc.h([0, 1])\n",
    "\n",
    "# Measure the qubits\n",
    "qc.measure([0, 1], [0, 1])\n",
    "\n",
    "qc.draw(\"mpl\")"
   ]
  },
  {
   "cell_type": "markdown",
   "id": "045dcc08-b465-4ed9-9d61-5b54f058154a",
   "metadata": {},
   "source": [
    "## 5.3 🔢 Shor's Algorithm (Integer Factorization)  \n",
    "**Shor’s algorithm** efficiently **factorizes large numbers** using quantum techniques, posing a threat to classical cryptographic security (RSA encryption).\n",
    "\n",
    "### 🏆 Key Concept  \n",
    "- Uses **Quantum Fourier Transform (QFT)** for periodicity detection  \n",
    "- Finds the **prime factors** of large numbers exponentially faster  \n",
    "- Potentially **breaks classical encryption**\n",
    "\n",
    "**Shor’s algorithm** is one of the most famous quantum algorithms because it efficiently **factors large numbers**, posing a significant threat to classical cryptographic systems like **RSA encryption**. While classical factoring is exponentially slow, Shor’s algorithm runs in **polynomial time** using **quantum Fourier transforms**.\n",
    "\n",
    "---\n",
    "\n",
    "## 🔢 **Mathematical Aspects of Shor’s Algorithm**\n",
    "### **1️⃣ Problem Definition: Factoring a Large Integer N**\n",
    "Given an integer **N**, find its prime factors **p** and **q**, where:\n",
    "$$ N = p \\times q $$\n",
    "For large numbers (hundreds of digits), classical brute-force factoring is **impractical**.\n",
    "\n",
    "### **2️⃣ Quantum Speedup via Periodicity**\n",
    "Shor’s algorithm uses a quantum approach:\n",
    "✔ Find a random number **a** such that **1 < a < N**.  \n",
    "✔ Compute the function **f(x) = a^x mod N**.  \n",
    "✔ Identify the **period `r`** such that:\n",
    "$$ a^r \\equiv 1 \\pmod{N} $$  \n",
    "✔ If **r is even**, then:\n",
    "$$ p, q = \\gcd(a^{r/2} - 1, N) \\quad \\text{or} \\quad \\gcd(a^{r/2} + 1, N) $$\n",
    "✔ This efficiently gives prime factors of **N**.\n",
    "\n",
    "### **3️⃣ Quantum Fourier Transform (QFT)**\n",
    "To extract **r**, the algorithm uses a **Quantum Fourier Transform (QFT)**, which performs:\n",
    "$$ QFT |x\\rangle = \\frac{1}{\\sqrt{N}} \\sum_k e^{2\\pi i kx/N} |k\\rangle $$  \n",
    "This transforms **modular exponentiation** into a frequency domain where the period **r** can be detected quickly.\n",
    "\n",
    "---\n",
    "\n",
    "## 🔬 **Physical Aspects of Shor’s Algorithm**\n",
    "✔ **Implemented on quantum processors** using **superconducting qubits, trapped ions, and photonic qubits**.  \n",
    "✔ **QFT requires complex quantum gates**, using Hadamard & controlled phase rotations.  \n",
    "✔ **Quantum error correction is essential**, as decoherence impacts precision.  \n",
    "✔ **Threatens classical encryption**, since factoring large RSA keys becomes feasible.  \n",
    "\n",
    "---\n",
    "\n",
    "### 🏆 **Why Shor’s Algorithm Matters**\n",
    "✔ **Breaks RSA encryption**, prompting research into **post-quantum cryptography**.  \n",
    "✔ **Demonstrates real-world quantum advantage** in computational complexity.  \n",
    "✔ **Used in quantum number theory & optimization problems**.  "
   ]
  },
  {
   "cell_type": "markdown",
   "id": "b881bc0e-de22-4131-b406-c839bf3f39d7",
   "metadata": {},
   "source": [
    "### 🏗️ **Example: Factorizing a Simple Number**  "
   ]
  },
  {
   "cell_type": "code",
   "execution_count": 100,
   "id": "e62ee739-2434-48f2-917f-abe698bbcd87",
   "metadata": {},
   "outputs": [
    {
     "name": "stdout",
     "output_type": "stream",
     "text": [
      "Raw Measurement Counts: {'0000': 16367, '0111': 1146, '0011': 2291, '1011': 4811, '1101': 2152, '1001': 1142, '0101': 4764, '1111': 42, '0001': 53}\n",
      "Measured Period Values: [1, 3, 5, 7, 9, 11, 13, 15]\n",
      "Computed Factors of 15: [3, 5]\n"
     ]
    },
    {
     "data": {
      "image/png": "[encoded data removed]",
      "text/plain": [
       "<Figure size 640x480 with 1 Axes>"
      ]
     },
     "execution_count": 100,
     "metadata": {},
     "output_type": "execute_result"
    }
   ],
   "source": [
    "import numpy as np\n",
    "from math import gcd\n",
    "from qiskit import QuantumCircuit, transpile\n",
    "from qiskit_aer import AerSimulator\n",
    "from qiskit.visualization import plot_histogram\n",
    "from qiskit.circuit.library import QFT\n",
    "\n",
    "# Step 1: Choose N and a random 'a' such that 1 < a < N and gcd(a, N) = 1\n",
    "N = 15\n",
    "a = 11  # Select a better value of 'a' that ensures proper factorization\n",
    "\n",
    "# Step 2: Construct Quantum Circuit for Period Finding\n",
    "num_main_qubits = 4  # Qubits for exponent register\n",
    "num_auxiliary_qubits = 4  # Auxiliary qubits for modular exponentiation\n",
    "qc = QuantumCircuit(num_main_qubits + num_auxiliary_qubits, num_main_qubits)\n",
    "\n",
    "# Apply Hadamard gates for superposition\n",
    "qc.h(range(num_main_qubits))\n",
    "\n",
    "# Initialize auxiliary register to |1⟩ for modular exponentiation\n",
    "qc.x(num_main_qubits)\n",
    "\n",
    "# Implement Modular Exponentiation: Controlled multiplications for f(x) = a^x mod N\n",
    "for i in range(num_main_qubits):\n",
    "    qc.cx(i, num_main_qubits)  # Replace with full modular arithmetic implementation\n",
    "\n",
    "# Step 3: Apply Quantum Fourier Transform (QFT)\n",
    "qc.append(QFT(num_main_qubits, do_swaps=True), range(num_main_qubits))\n",
    "qc.measure(range(num_main_qubits), range(num_main_qubits))\n",
    "\n",
    "# Step 4: Simulate the Circuit\n",
    "simulator = AerSimulator()\n",
    "compiled_circuit = transpile(qc, simulator)\n",
    "job = simulator.run(compiled_circuit, shots=32768)  # Significantly increase shots\n",
    "result = job.result()\n",
    "counts = result.get_counts()\n",
    "\n",
    "# Step 5: Classical Post-Processing\n",
    "measured_values = [int(key, 2) for key in counts.keys() if int(key, 2) > 0]\n",
    "possible_periods = sorted(measured_values)\n",
    "\n",
    "# Extract period and compute factors\n",
    "factors = set()\n",
    "if possible_periods:\n",
    "    for period in possible_periods:\n",
    "        factor1 = gcd(a ** (period // 2) - 1, N)\n",
    "        factor2 = gcd(a ** (period // 2) + 1, N)\n",
    "        if factor1 > 1 and factor1 < N:\n",
    "            factors.add(factor1)\n",
    "        if factor2 > 1 and factor2 < N:\n",
    "            factors.add(factor2)\n",
    "\n",
    "# Output Results\n",
    "print(\"Raw Measurement Counts:\", counts)  # Debugging step\n",
    "print(\"Measured Period Values:\", possible_periods)\n",
    "print(f\"Computed Factors of {N}:\", list(factors))\n",
    "plot_histogram(counts)"
   ]
  },
  {
   "cell_type": "markdown",
   "id": "55558230-78ae-4440-bd83-2dfaf65f76fb",
   "metadata": {},
   "source": [
    "✅ **Next Steps:** Now that we’ve explored quantum algorithms, let’s dive into **running circuits on real quantum hardware!**"
   ]
  },
  {
   "cell_type": "markdown",
   "id": "449ec54d-2279-45f6-bd03-5c44a117e189",
   "metadata": {},
   "source": [
    "# Chapter 6: 🔬 Running on Real Quantum Hardware"
   ]
  },
  {
   "cell_type": "markdown",
   "id": "066381dd-dc5b-4434-a7d9-03cc01bc2fa7",
   "metadata": {},
   "source": [
    "Quantum computing isn't just theoretical—you can **run real quantum circuits on actual hardware!** IBM Quantum provides **cloud-accessible quantum processors**, allowing users to submit their circuits for execution.\n",
    "\n",
    "---\n",
    "\n",
    "## 🔗 Connecting to IBM Quantum  \n",
    "To access IBM’s quantum computers, **create an account** at [IBM Quantum](https://quantum-computing.ibm.com/) and retrieve your API token.\n",
    "\n",
    "### 🏗️ **Authenticating with IBM Quantum**  \n",
    "```python\n",
    "from qiskit import IBMQ\n",
    "\n",
    "# Load IBMQ account (replace 'MY_API_TOKEN' with your actual token)\n",
    "IBMQ.save_account('MY_API_TOKEN')\n",
    "IBMQ.load_account()\n",
    "```\n",
    "\n",
    "After running this, you can **query available backends** to see which quantum processors are accessible.\n",
    "\n",
    "### 🔍 **Checking Available Quantum Devices**\n",
    "```python\n",
    "provider = IBMQ.get_provider('ibm-q')\n",
    "print(\"Available Quantum Computers:\", provider.backends())\n",
    "```\n",
    "\n",
    "---\n",
    "\n",
    "## 🚀 Submitting Circuits to Actual Quantum Processors  \n",
    "Once connected, you can **execute circuits** on a real quantum computer.\n",
    "\n",
    "### 🏗️ **Example: Running a Quantum Circuit on an IBMQ Device**  \n",
    "```python\n",
    "from qiskit.providers.ibmq import least_busy\n",
    "from qiskit import Aer, execute\n",
    "\n",
    "# Select the least busy quantum backend\n",
    "backend = least_busy(provider.backends(filters=lambda x: x.configuration().n_qubits >= 5 and not x.configuration().simulator))\n",
    "\n",
    "print(\"Using Quantum Computer:\", backend.name())\n",
    "\n",
    "# Create a simple quantum circuit\n",
    "from qiskit import QuantumCircuit\n",
    "\n",
    "qc = QuantumCircuit(2, 2)\n",
    "qc.h(0)\n",
    "qc.cx(0, 1)\n",
    "qc.measure([0, 1], [0, 1])\n",
    "\n",
    "# Execute on the selected backend\n",
    "job = execute(qc, backend, shots=1024)\n",
    "print(\"Job submitted! ID:\", job.job_id())\n",
    "```\n",
    "\n",
    "---\n",
    "\n",
    "## 📊 Analyzing Results  \n",
    "After execution, retrieve and analyze your quantum results.\n",
    "\n",
    "### 🔍 **Fetching & Visualizing Results**  \n",
    "```python\n",
    "from qiskit.visualization import plot_histogram\n",
    "\n",
    "# Get job result\n",
    "result = job.result()\n",
    "counts = result.get_counts(qc)\n",
    "\n",
    "# Plot measurement results\n",
    "plot_histogram(counts)\n",
    "```\n",
    "\n",
    "---\n",
    "\n",
    "✅ **Next Steps:** Now that you've **executed real quantum circuits**, let's explore how quantum computing can solve advanced problems!  "
   ]
  },
  {
   "cell_type": "markdown",
   "id": "d3978955-30d5-4731-bfce-caac8fac2664",
   "metadata": {},
   "source": [
    "# Chapter 7: 🎯 Challenges & Next Steps"
   ]
  },
  {
   "cell_type": "markdown",
   "id": "afb68a0a-9df6-45f1-a617-36444ee4660b",
   "metadata": {},
   "source": [
    "Now that you've built and executed quantum circuits, it's time to **apply your knowledge** with a mini-project, explore further learning resources, and refine your Kaggle notebook.\n",
    "\n",
    "---\n",
    "\n",
    "## 🏗️ Mini-Project: Create Your Own Quantum Circuit!  \n",
    "Challenge yourself to **design a quantum circuit** using the concepts you've learned.\n",
    "\n",
    "### 🏆 **Suggested Goals**\n",
    "✔ Create a **custom quantum algorithm**  \n",
    "✔ Explore **multi-qubit entanglement** (Bell pairs, GHZ states)  \n",
    "✔ Implement **Grover's search** for a custom problem  \n",
    "✔ Submit your circuit to **IBM Quantum hardware**  \n",
    "\n",
    "#### 🚀 **Example Starter Code**\n",
    "```python\n",
    "from qiskit import QuantumCircuit\n",
    "\n",
    "# Create a 3-qubit quantum circuit\n",
    "qc = QuantumCircuit(3, 3)\n",
    "\n",
    "# Apply Hadamard gates to all qubits\n",
    "qc.h([0, 1, 2])\n",
    "\n",
    "# Apply CNOT to entangle qubits\n",
    "qc.cx(0, 1)\n",
    "qc.cx(1, 2)\n",
    "\n",
    "# Measure all qubits\n",
    "qc.measure([0, 1, 2], [0, 1, 2])\n",
    "\n",
    "qc.draw(\"mpl\")  # Visualize the circuit\n",
    "```\n",
    "🔹 Modify this **base circuit** to create your own **quantum experiment**!\n",
    "\n",
    "---\n",
    "\n",
    "## 📚 Further Learning Resources  \n",
    "\n",
    "### 📜 **Quantum Computing Papers & Tutorials**  \n",
    "- [Qiskit Documentation](https://qiskit.org/documentation/)  \n",
    "- [IBM Quantum Experience](https://quantum-computing.ibm.com/)  \n",
    "- [Quantum Algorithms](https://quantumalgorithmzoo.org/)  \n",
    "- [MIT Quantum Computing Course](https://ocw.mit.edu/courses/electrical-engineering-and-computer-science/6-443j-quantum-information-science-spring-2011/)  \n",
    "\n",
    "### 🎓 **Recommended Books & Learning Platforms**  \n",
    "✔ *Quantum Computing for Everyone* – Chris Bernhardt  \n",
    "✔ *Quantum Computation and Quantum Information* – Nielsen & Chuang  \n",
    "✔ Coursera, Udacity & edX **quantum courses**  \n",
    "\n",
    "---"
   ]
  },
  {
   "cell_type": "markdown",
   "id": "bbf161f8-8522-4308-9aec-2e1c74bd8321",
   "metadata": {},
   "source": [
    "# Chapter 8: Exercises"
   ]
  },
  {
   "cell_type": "markdown",
   "id": "601fa264-b335-4ae4-a76f-d9081f08867d",
   "metadata": {
    "jp-MarkdownHeadingCollapsed": true
   },
   "source": [
    "### 🧠 **Exercise 1: Creating a Bell State**\n",
    "#### 📌 **Task**  \n",
    "Create a quantum circuit that **entangles two qubits** using a **Bell state**."
   ]
  },
  {
   "cell_type": "markdown",
   "id": "b27e6ff2-dc01-4df4-9d40-c6578535175b",
   "metadata": {},
   "source": [
    "#### 💡 **Hint**  \n",
    "1️⃣ Apply a **Hadamard gate** to the first qubit to create **superposition**.  \n",
    "2️⃣ Use a **CNOT gate** to entangle the second qubit.  \n",
    "3️⃣ Measure both qubits to observe correlated outcomes."
   ]
  },
  {
   "cell_type": "markdown",
   "id": "4c61bf07-2d8a-4898-874c-2ddacdc0ab8c",
   "metadata": {},
   "source": [
    "#### 🔍 **Solution Code**\n",
    "```python\n",
    "from qiskit import QuantumCircuit, transpile\n",
    "from qiskit_aer import AerSimulator\n",
    "from qiskit.visualization import plot_histogram\n",
    "\n",
    "# Create a 2-qubit circuit\n",
    "qc = QuantumCircuit(2, 2)\n",
    "\n",
    "# Step 1: Apply Hadamard to q0\n",
    "qc.h(0)\n",
    "\n",
    "# Step 2: Apply CNOT to entangle q1\n",
    "qc.cx(0, 1)\n",
    "\n",
    "# Step 3: Measure both qubits\n",
    "qc.measure([0, 1], [0, 1])\n",
    "\n",
    "# Initialize the simulator\n",
    "simulator = AerSimulator()\n",
    "\n",
    "# Transpile the circuit for execution\n",
    "compiled_circuit = transpile(qc, simulator)\n",
    "\n",
    "# Run the circuit\n",
    "job = simulator.run(compiled_circuit, shots=1024)\n",
    "\n",
    "# Get results\n",
    "result = job.result()\n",
    "counts = result.get_counts()\n",
    "\n",
    "# Visualize results\n",
    "plot_histogram(counts)\n",
    "qc.draw(\"mpl\")\n",
    "```\n",
    "Expected Measurement Outcomes: **50% '00' and 50% '11'** (entangled state).  \n",
    "\n",
    "---"
   ]
  },
  {
   "cell_type": "markdown",
   "id": "3ace54b8-0eb1-47a2-88da-a5742e85654e",
   "metadata": {
    "jp-MarkdownHeadingCollapsed": true
   },
   "source": [
    "### 🏆 **Exercise 2: Quantum Superposition & Measurement**\n",
    "#### 📌 **Task**  \n",
    "Apply a **Hadamard gate** to a single qubit, then measure the outcome."
   ]
  },
  {
   "cell_type": "markdown",
   "id": "9b1947a3-0099-4e4c-8484-6f647fbe761d",
   "metadata": {},
   "source": [
    "#### 💡 **Hint**  \n",
    "✔ The Hadamard gate puts the qubit into an **equal superposition** of `|0⟩` and `|1⟩`.  \n",
    "✔ After measurement, the qubit **collapses** to either state randomly.  "
   ]
  },
  {
   "cell_type": "markdown",
   "id": "236334ba-66e0-4a44-8166-ef928709d14a",
   "metadata": {},
   "source": [
    "#### 🔍 **Solution Code**\n",
    "```python\n",
    "# Create a 1-qubit circuit\n",
    "qc = QuantumCircuit(1, 1)\n",
    "\n",
    "# Apply Hadamard gate\n",
    "qc.h(0)\n",
    "\n",
    "# Measure the qubit\n",
    "qc.measure(0, 0)\n",
    "\n",
    "# Simulate the circuit\n",
    "simulator = Aer.get_backend(\"qasm_simulator\")\n",
    "job = execute(qc, simulator, shots=1024)\n",
    "result = job.result()\n",
    "counts = result.get_counts(qc)\n",
    "\n",
    "# Display results\n",
    "print(\"Measurement Outcomes:\", counts)\n",
    "plot_histogram(counts)\n",
    "```\n",
    "Expected Results: **50% `|0⟩`, 50% `|1⟩`** (random due to superposition).  \n",
    "\n",
    "---"
   ]
  },
  {
   "cell_type": "markdown",
   "id": "c8af5642-f47a-46ba-adca-f895477dec44",
   "metadata": {
    "jp-MarkdownHeadingCollapsed": true
   },
   "source": [
    "### 🔎 **Exercise 3: Implementing Grover’s Algorithm**\n",
    "#### 📌 **Task**  \n",
    "Use Grover’s Algorithm to **search for a marked item** in a quantum system."
   ]
  },
  {
   "cell_type": "markdown",
   "id": "37df8e88-038e-44fd-92fd-37fd32ddd7e3",
   "metadata": {},
   "source": [
    "#### 💡 **Hint**  \n",
    "✔ Create **equal superposition** using Hadamard gates.  \n",
    "✔ Use an **oracle** to mark the solution by flipping its phase.  \n",
    "✔ Apply the **Grover Diffusion Operator** to amplify probabilities."
   ]
  },
  {
   "cell_type": "markdown",
   "id": "cfc710ac-363f-4654-b024-0add0c15561b",
   "metadata": {},
   "source": [
    "#### 🔍 **Solution Code**\n",
    "```python\n",
    "from qiskit import QuantumCircuit\n",
    "\n",
    "# Create a 2-qubit circuit\n",
    "qc = QuantumCircuit(2, 2)\n",
    "\n",
    "# Step 1: Apply Hadamard to both qubits (superposition)\n",
    "qc.h([0, 1])\n",
    "\n",
    "# Step 2: Oracle (Marking the solution)\n",
    "qc.cz(0, 1)\n",
    "\n",
    "# Step 3: Grover Diffusion Operator\n",
    "qc.h([0, 1])\n",
    "qc.z([0, 1])\n",
    "qc.h([0, 1])\n",
    "\n",
    "# Measure both qubits\n",
    "qc.measure([0, 1], [0, 1])\n",
    "\n",
    "qc.draw(\"mpl\")\n",
    "```\n",
    "Expected Outcome: **Marked solution appears with high probability** after amplification.  \n",
    "\n",
    "---"
   ]
  },
  {
   "cell_type": "markdown",
   "id": "784cfbdf-55c0-40cb-a36e-333a82eda853",
   "metadata": {
    "jp-MarkdownHeadingCollapsed": true
   },
   "source": [
    "### 🔢 **Exercise 4: Implementing Shor’s Algorithm (Factoring Numbers)**\n",
    "#### 📌 **Task**  \n",
    "Use **Shor’s Algorithm** to factor a small integer **N = 15** into its prime components."
   ]
  },
  {
   "cell_type": "markdown",
   "id": "aad0206f-12a2-4642-99ed-02c24702a7d7",
   "metadata": {},
   "source": [
    "#### 💡 **Hint**  \n",
    "✔ The quantum part of Shor’s Algorithm finds the **period `r`** in the function:\n",
    "   $$ f(x) = a^x \\mod N $$  \n",
    "✔ Quantum **Fourier Transform (QFT)** helps extract periodicity efficiently.  \n",
    "✔ Once `r` is found, use **greatest common divisors (GCD)** to compute the factors."
   ]
  },
  {
   "cell_type": "markdown",
   "id": "5ed5c1e4-5806-4ab8-84be-74d3fffc0252",
   "metadata": {},
   "source": [
    "#### 🔍 **Solution Code**\n",
    "```python\n",
    "from qiskit import QuantumCircuit, transpile\n",
    "from qiskit_aer import AerSimulator\n",
    "from qiskit.utils import QuantumInstance\n",
    "from qiskit.algorithms.factorizers import Shor\n",
    "\n",
    "# Define number to factorize\n",
    "N = 15  # Factoring 15 into 3 × 5\n",
    "\n",
    "# Initialize the quantum simulator\n",
    "simulator = AerSimulator()\n",
    "quantum_instance = QuantumInstance(simulator, shots=1024)\n",
    "\n",
    "# Run Shor's algorithm\n",
    "shor = Shor(quantum_instance=quantum_instance)\n",
    "result = shor.factor(N)\n",
    "\n",
    "print(\"Prime Factors:\", result.factors)\n",
    "```\n",
    "Expected Output: **Factors of 15 → [3, 5]**  \n",
    "\n",
    "---"
   ]
  },
  {
   "cell_type": "markdown",
   "id": "2dc7ae88-c6b2-41c7-8854-c8a43fd64994",
   "metadata": {
    "jp-MarkdownHeadingCollapsed": true
   },
   "source": [
    "### 🏆 **Exercise 5: Quantum Teleportation**  \n",
    "\n",
    "**Quantum teleportation** is a fascinating phenomenon that allows **the transmission of quantum states** from one qubit to another—without physically moving the particle itself. It relies on **entanglement, measurement, and classical communication**, and is a fundamental concept for **quantum communication and networking**.\n",
    "\n",
    "---\n",
    "\n",
    "## 🔢 **Mathematical Aspects of Quantum Teleportation**\n",
    "### **1️⃣ The Quantum State to Be Teleported**  \n",
    "Imagine we want to teleport an unknown qubit state:\n",
    "$$ |\\psi\\rangle = \\alpha |0\\rangle + \\beta |1\\rangle $$  \n",
    "where **α** and **β** are probability amplitudes.\n",
    "\n",
    "### **2️⃣ Entanglement Resource**\n",
    "We create **a Bell pair** between two qubits (`Q1` & `Q2`), shared between the sender and the receiver:\n",
    "$$ |\\text{Bell}\\rangle = \\frac{1}{\\sqrt{2}}(|00\\rangle + |11\\rangle) $$  \n",
    "This **entangled pair** ensures that the two qubits behave **in sync**, no matter how far apart they are.\n",
    "\n",
    "### **3️⃣ Applying the Teleportation Protocol**\n",
    "✔ The sender **entangles the unknown qubit** with their half of the Bell pair.  \n",
    "✔ A **measurement collapses the system**, producing **classical bits** (`0,1`).  \n",
    "✔ The sender transmits **two classical bits** to the receiver.  \n",
    "✔ Depending on the measurement results, the receiver applies **Pauli correction gates (X or Z)** to recover the original state.\n",
    "\n",
    "### **4️⃣ The Key Quantum Transformation**\n",
    "After measurement, the **receiver's qubit** is left in a transformed version of the original state:\n",
    "$$ X^a Z^b |\\psi\\rangle $$\n",
    "where **X and Z gates** correct the final quantum state.\n",
    "\n",
    "---\n",
    "\n",
    "## 🔬 **Physical Aspects of Quantum Teleportation**\n",
    "✔ **Implemented with superconducting qubits, trapped ions, or photonic systems**  \n",
    "✔ **Entanglement is generated** through controlled interactions or beam splitters  \n",
    "✔ **Quantum measurement collapses superposition**, affecting the entangled partner  \n",
    "✔ **Classical communication is required**, meaning teleportation is **not faster than light**  \n",
    "\n",
    "💡 **Important!** Teleportation only moves **quantum information**, but the **actual particle remains at its original position**.\n",
    "\n",
    "---\n",
    "\n",
    "## 🔎 **Algorithmic Steps for Quantum Teleportation**\n",
    "1️⃣ **Prepare the qubit to teleport (`Q0`)**  \n",
    "2️⃣ **Create an entangled Bell pair (`Q1` & `Q2`)**  \n",
    "3️⃣ **Apply a CNOT gate & Hadamard gate on (`Q0` & `Q1`)**  \n",
    "4️⃣ **Measure `Q0` and `Q1`, obtaining two classical bits**  \n",
    "5️⃣ **Send classical bits to receiver**  \n",
    "6️⃣ **Receiver applies X/Z gates to reconstruct the original state on `Q2`**\n",
    "\n",
    "---\n",
    "\n",
    "✅ **Now that you understand quantum teleportation, let’s try implementing it in Qiskit!** 🚀😊\n",
    "\n",
    "#### 📌 **Task**  \n",
    "Use **quantum teleportation** to transfer the quantum state of one qubit to another."
   ]
  },
  {
   "cell_type": "markdown",
   "id": "9d277708-c8ad-4803-8617-8c58eb138b28",
   "metadata": {},
   "source": [
    "#### 💡 **Hint**  \n",
    "✔ **Entangle two qubits** using a Bell state (`Hadamard + CNOT`).  \n",
    "✔ **Apply teleportation gates** to transfer quantum information.  \n",
    "✔ **Measure the sender qubit**, and apply appropriate correction gates to the receiver."
   ]
  },
  {
   "cell_type": "markdown",
   "id": "5a0f295a-4983-47eb-9310-9e13f7664071",
   "metadata": {},
   "source": [
    "#### 🔍 **Solution Code**\n",
    "```python\n",
    "from qiskit import QuantumCircuit\n",
    "\n",
    "# Create a 3-qubit circuit\n",
    "qc = QuantumCircuit(3, 3)\n",
    "\n",
    "# Step 1: Prepare qubit state to teleport (Apply Hadamard gate)\n",
    "qc.h(0)\n",
    "\n",
    "# Step 2: Create Bell pair (entangle q1 & q2)\n",
    "qc.h(1)\n",
    "qc.cx(1, 2)\n",
    "\n",
    "# Step 3: Apply teleportation steps\n",
    "qc.cx(0, 1)  # CNOT between qubit 0 and 1\n",
    "qc.h(0)      # Hadamard on qubit 0\n",
    "\n",
    "# Step 4: Measure qubit 0 and 1\n",
    "qc.measure([0, 1], [0, 1])\n",
    "\n",
    "# Step 5: Apply correction gates based on measurement results\n",
    "qc.cx(1, 2)  # If q1 is 1, flip q2\n",
    "qc.cz(0, 2)  # If q0 is 1, apply phase correction\n",
    "\n",
    "qc.draw(\"mpl\")\n",
    "```\n",
    "Expected Outcome: **Qubit 2 has the same quantum state as Qubit 0 before measurement**—successful **quantum teleportation!** ✨  \n",
    "\n",
    "---"
   ]
  }
 ],
 "metadata": {
  "kernelspec": {
   "display_name": "Python [conda env:base]",
   "language": "python",
   "name": "conda-base-py"
  },
  "language_info": {
   "codemirror_mode": {
    "name": "ipython",
    "version": 3
   },
   "file_extension": ".py",
   "mimetype": "text/x-python",
   "name": "python",
   "nbconvert_exporter": "python",
   "pygments_lexer": "ipython3",
   "version": "3.11.9"
  }
 },
 "nbformat": 4,
 "nbformat_minor": 5
}
