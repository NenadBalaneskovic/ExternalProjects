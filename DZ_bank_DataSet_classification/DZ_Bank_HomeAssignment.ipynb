{
 "cells": [
  {
   "cell_type": "markdown",
   "id": "6bf12494-190e-4018-b558-a6f673cce299",
   "metadata": {},
   "source": [
    "# 0. Loading section"
   ]
  },
  {
   "cell_type": "code",
   "execution_count": null,
   "id": "3fb39d11-849c-4bed-b3cf-86d20362e1dc",
   "metadata": {},
   "outputs": [],
   "source": [
    "!pip install --user --upgrade pip setuptools keyring\n",
    "!pip install --user pandas \n",
    "!pip install --user seaborn\n",
    "!pip install --user scikit-learn\n",
    "!pip install xgboost\n",
    "!pip install pandoc"
   ]
  },
  {
   "cell_type": "code",
   "execution_count": null,
   "id": "163d85a5-f133-43a7-b622-c4e23ec0ef87",
   "metadata": {},
   "outputs": [],
   "source": [
    "!pdflatex --version\n",
    "!pip install --upgrade pandoc"
   ]
  },
  {
   "cell_type": "code",
   "execution_count": null,
   "id": "191adaf1-f4ed-4d6c-a758-a4a8ce539469",
   "metadata": {},
   "outputs": [],
   "source": [
    "# !jupyter nbconvert --to pdf --debug DZ_Bank_HomeAssignment.ipynb"
   ]
  },
  {
   "cell_type": "markdown",
   "id": "77b3b21c-06d7-4618-8e2d-0904119b1cea",
   "metadata": {},
   "source": [
    "# 1. Phase 1"
   ]
  },
  {
   "cell_type": "markdown",
   "id": "3fd24d9f-0ba6-4ea0-a6fb-a452f525433e",
   "metadata": {},
   "source": [
    "We begin with Phase 1: Data Loading & Preprocessing.\n",
    "\n",
    "Objectives in Phase 1\n",
    "1️⃣ Load all CSV files into a data frame. 2️⃣ Handle missing values (e.g., \"unknown\" entries). 3️⃣ Convert categorical data into numerical format (one-hot encoding or label encoding). 4️⃣ Scale numerical features like balance and duration for better model performance. 5️⃣ Check for anomalies (negative balance values, duplicate entries, outliers)."
   ]
  },
  {
   "cell_type": "markdown",
   "id": "003203ac-20da-4d41-b201-3871dc15d9b1",
   "metadata": {},
   "source": [
    "Phase 1: Data Loading & Preprocessing\n",
    "We’ll handle: 1️⃣ Loading the CSV file correctly (ensuring headers are properly set). 2️⃣ Performing content analysis (checking column types and data structure). 3️⃣ Handling missing values (treating \"unknown\" as missing, imputing categorical/numeric data)."
   ]
  },
  {
   "cell_type": "markdown",
   "id": "a82c450d-f346-4b6d-a2d8-e67bad1987d4",
   "metadata": {},
   "source": [
    "Step 1: Load the CSV File\n",
    "Since the first row contains data instead of headers, we must explicitly define column names.\n",
    "\n",
    "Solution:\n",
    "\n",
    "Load the file using pandas with correct headers.\n",
    "\n",
    "Set semicolon (;) as the separator."
   ]
  },
  {
   "cell_type": "code",
   "execution_count": 371,
   "id": "11cea284-4f18-4837-913c-bf284e6d6dae",
   "metadata": {},
   "outputs": [
    {
     "name": "stdout",
     "output_type": "stream",
     "text": [
      "Dataset Shape: (45211, 17)\n",
      "   age           job  marital  education default  balance housing loan  \\\n",
      "0   58    management  married   tertiary      no     2143     yes   no   \n",
      "1   44    technician   single  secondary      no       29     yes   no   \n",
      "2   33  entrepreneur  married  secondary      no        2     yes  yes   \n",
      "3   47   blue-collar  married    unknown      no     1506     yes   no   \n",
      "4   33       unknown   single    unknown      no        1      no   no   \n",
      "\n",
      "   contact  day month  duration  campaign  pdays  previous poutcome   y  \n",
      "0  unknown    5   may       261         1     -1         0  unknown  no  \n",
      "1  unknown    5   may       151         1     -1         0  unknown  no  \n",
      "2  unknown    5   may        76         1     -1         0  unknown  no  \n",
      "3  unknown    5   may        92         1     -1         0  unknown  no  \n",
      "4  unknown    5   may       198         1     -1         0  unknown  no  \n"
     ]
    }
   ],
   "source": [
    "import pandas as pd\n",
    "\n",
    "# Define column names based on part 1 (as headers are missing)\n",
    "columns = [\"age\", \"job\", \"marital\", \"education\", \"default\", \"balance\", \"housing\", \"loan\", \n",
    "           \"contact\", \"day\", \"month\", \"duration\", \"campaign\", \"pdays\", \"previous\", \n",
    "           \"poutcome\", \"y\"]\n",
    "\n",
    "# Load the CSV file with explicit headers\n",
    "df = pd.read_csv(\"bank-full.csv\", sep=\";\", names=columns, header=0)\n",
    "\n",
    "# Display basic info\n",
    "print(f\"Dataset Shape: {df.shape}\")\n",
    "print(df.head())"
   ]
  },
  {
   "cell_type": "markdown",
   "id": "40c36db0-0e44-4898-89e1-b97598a1a3e3",
   "metadata": {},
   "source": [
    "Key implementation aspects: ✅ \"names=columns\" ensures the correct column headers are assigned. ✅ \"header=None\" would prevent pandas from treating the first row as headers."
   ]
  },
  {
   "cell_type": "markdown",
   "id": "de99b640-4e0d-4443-94e3-ed022ddac835",
   "metadata": {},
   "source": [
    "Step 2: Content Analysis\n",
    "To understand the dataset structure, we’ll inspect data types, missing values, and unique values."
   ]
  },
  {
   "cell_type": "code",
   "execution_count": 373,
   "id": "3c679e96-1572-4647-9c5d-b1993570d101",
   "metadata": {},
   "outputs": [
    {
     "name": "stdout",
     "output_type": "stream",
     "text": [
      "age           int64\n",
      "job          object\n",
      "marital      object\n",
      "education    object\n",
      "default      object\n",
      "balance       int64\n",
      "housing      object\n",
      "loan         object\n",
      "contact      object\n",
      "day           int64\n",
      "month        object\n",
      "duration      int64\n",
      "campaign      int64\n",
      "pdays         int64\n",
      "previous      int64\n",
      "poutcome     object\n",
      "y            object\n",
      "dtype: object\n",
      "Missing values per column:\n",
      " age          0\n",
      "job          0\n",
      "marital      0\n",
      "education    0\n",
      "default      0\n",
      "balance      0\n",
      "housing      0\n",
      "loan         0\n",
      "contact      0\n",
      "day          0\n",
      "month        0\n",
      "duration     0\n",
      "campaign     0\n",
      "pdays        0\n",
      "previous     0\n",
      "poutcome     0\n",
      "y            0\n",
      "dtype: int64\n",
      "Unique values in job: ['management' 'technician' 'entrepreneur' 'blue-collar' 'unknown'\n",
      " 'retired' 'admin.' 'services' 'self-employed' 'unemployed' 'housemaid'\n",
      " 'student']\n",
      "Unique values in marital: ['married' 'single' 'divorced']\n",
      "Unique values in education: ['tertiary' 'secondary' 'unknown' 'primary']\n",
      "Unique values in default: ['no' 'yes']\n",
      "Unique values in housing: ['yes' 'no']\n",
      "Unique values in loan: ['no' 'yes']\n",
      "Unique values in contact: ['unknown' 'cellular' 'telephone']\n",
      "Unique values in month: ['may' 'jun' 'jul' 'aug' 'oct' 'nov' 'dec' 'jan' 'feb' 'mar' 'apr' 'sep']\n",
      "Unique values in poutcome: ['unknown' 'failure' 'other' 'success']\n",
      "Unique values in y: ['no' 'yes']\n"
     ]
    }
   ],
   "source": [
    "# Check data types\n",
    "print(df.dtypes)\n",
    "\n",
    "# Identify missing values\n",
    "print(\"Missing values per column:\\n\", df.isna().sum())\n",
    "\n",
    "# Check unique values for categorical columns\n",
    "for col in df.select_dtypes(include=[\"object\"]).columns:\n",
    "    print(f\"Unique values in {col}: {df[col].unique()}\")\n"
   ]
  },
  {
   "cell_type": "markdown",
   "id": "075f4354-3a57-426b-81b2-c1cceb472c26",
   "metadata": {},
   "source": [
    "Observations: ✅ Ensures all columns have expected data types. ✅ Identifies \"unknown\" values that need treatment."
   ]
  },
  {
   "cell_type": "markdown",
   "id": "066a2631-cb76-4a86-9120-57cbbb744278",
   "metadata": {},
   "source": [
    "Step 3: Handling Missing Values Approach:\n",
    "\n",
    "Convert \"unknown\" values to NaN.\n",
    "\n",
    "Drop rows with excessive missing values.\n",
    "\n",
    "Impute categorical/numeric missing data."
   ]
  },
  {
   "cell_type": "code",
   "execution_count": 375,
   "id": "e5a28a45-e393-4408-a0bc-7dc13c5178b2",
   "metadata": {},
   "outputs": [
    {
     "name": "stdout",
     "output_type": "stream",
     "text": [
      "Missing values handled successfully.\n",
      "   age           job  marital  education default  balance housing loan  \\\n",
      "0   58    management  married   tertiary      no     2143     yes   no   \n",
      "1   44    technician   single  secondary      no       29     yes   no   \n",
      "2   33  entrepreneur  married  secondary      no        2     yes  yes   \n",
      "5   35    management  married   tertiary      no      231     yes   no   \n",
      "6   28    management   single   tertiary      no      447     yes  yes   \n",
      "\n",
      "    contact  day month  duration  campaign  pdays  previous poutcome   y  \n",
      "0  cellular    5   may       261         1     -1         0  failure  no  \n",
      "1  cellular    5   may       151         1     -1         0  failure  no  \n",
      "2  cellular    5   may        76         1     -1         0  failure  no  \n",
      "5  cellular    5   may       139         1     -1         0  failure  no  \n",
      "6  cellular    5   may       217         1     -1         0  failure  no  \n"
     ]
    }
   ],
   "source": [
    "# Convert \"unknown\" to NaN\n",
    "df.replace(\"unknown\", pd.NA, inplace=True)\n",
    "\n",
    "# Drop rows with excessive missing values\n",
    "df.dropna(thresh=len(df.columns) - 2, inplace=True)  # Drops rows missing values in 2 or more columns\n",
    "\n",
    "# Fill categorical missing values with the most frequent value (mode)\n",
    "for col in df.select_dtypes(include=[\"object\"]).columns:\n",
    "    df[col].fillna(df[col].mode()[0], inplace=True)\n",
    "\n",
    "# Fill numerical missing values with median\n",
    "for col in df.select_dtypes(include=[\"number\"]).columns:\n",
    "    df[col].fillna(df[col].median(), inplace=True)\n",
    "\n",
    "print(\"Missing values handled successfully.\")\n",
    "print(df.head())\n"
   ]
  },
  {
   "cell_type": "markdown",
   "id": "bab6949a-5a5c-45df-8337-07240143e65c",
   "metadata": {},
   "source": [
    "Implementation aspects: ✅ \"unknown\" converted to NaN for proper processing. ✅ Mode-based filling for categorical data (most frequent value). ✅ Median-based filling for numerical values (avoids extreme outliers)."
   ]
  },
  {
   "cell_type": "markdown",
   "id": "ae49e957-9b4d-4dfb-b17e-d83f94dc6474",
   "metadata": {},
   "source": [
    "Final Overview\n",
    "✅ Loaded the entire dataset without merging multiple files. ✅ Ensured correct headers. ✅ Analyzed the data structure and identified missing values. ✅ Handled missing values efficiently.\n",
    "\n",
    "Now, the dataset is clean and ready for Phase 2: Exploratory Data Analysis (EDA)!"
   ]
  },
  {
   "cell_type": "markdown",
   "id": "88fb46db-8eef-4578-acc9-3c9f98ccef4b",
   "metadata": {},
   "source": [
    "# 2. Phase 2"
   ]
  },
  {
   "cell_type": "markdown",
   "id": "13724ed2-b385-4456-a915-59a54dbc3bd5",
   "metadata": {},
   "source": [
    "Phase 2: Exploratory Data Analysis (EDA)\n",
    "Now that the dataset is cleaned, we’ll explore its structure, uncover patterns, and determine key predictors. The main goals of EDA are: 1️⃣ Understand Feature Distributions → Inspect numerical and categorical data. 2️⃣ Identify Correlations → Detect relationships between features and the target variable. 3️⃣ Check Class Imbalance → Assess distribution of \"y\" values (term deposit subscription). 4️⃣ Spot Outliers & Trends → Find anomalies or important tendencies."
   ]
  },
  {
   "cell_type": "markdown",
   "id": "05f06739-ee84-4f5c-8e83-ac11b1d69150",
   "metadata": {},
   "source": [
    "Step 1: Overview of the Dataset  \n",
    "We start by inspecting basic statistics about numerical and categorical columns."
   ]
  },
  {
   "cell_type": "code",
   "execution_count": 377,
   "id": "884fff8c-4084-41e1-b5d7-5f44713fd7aa",
   "metadata": {},
   "outputs": [
    {
     "name": "stdout",
     "output_type": "stream",
     "text": [
      "Dataset Overview:\n",
      "<class 'pandas.core.frame.DataFrame'>\n",
      "RangeIndex: 45211 entries, 0 to 45210\n",
      "Data columns (total 17 columns):\n",
      " #   Column     Non-Null Count  Dtype \n",
      "---  ------     --------------  ----- \n",
      " 0   age        45211 non-null  int64 \n",
      " 1   job        45211 non-null  object\n",
      " 2   marital    45211 non-null  object\n",
      " 3   education  45211 non-null  object\n",
      " 4   default    45211 non-null  object\n",
      " 5   balance    45211 non-null  int64 \n",
      " 6   housing    45211 non-null  object\n",
      " 7   loan       45211 non-null  object\n",
      " 8   contact    45211 non-null  object\n",
      " 9   day        45211 non-null  int64 \n",
      " 10  month      45211 non-null  object\n",
      " 11  duration   45211 non-null  int64 \n",
      " 12  campaign   45211 non-null  int64 \n",
      " 13  pdays      45211 non-null  int64 \n",
      " 14  previous   45211 non-null  int64 \n",
      " 15  poutcome   45211 non-null  object\n",
      " 16  y          45211 non-null  object\n",
      "dtypes: int64(7), object(10)\n",
      "memory usage: 5.9+ MB\n",
      "None\n",
      "\n",
      "Summary Statistics:\n",
      "                age        balance           day      duration      campaign  \\\n",
      "count  45211.000000   45211.000000  45211.000000  45211.000000  45211.000000   \n",
      "mean      40.936210    1362.272058     15.806419    258.163080      2.763841   \n",
      "std       10.618762    3044.765829      8.322476    257.527812      3.098021   \n",
      "min       18.000000   -8019.000000      1.000000      0.000000      1.000000   \n",
      "25%       33.000000      72.000000      8.000000    103.000000      1.000000   \n",
      "50%       39.000000     448.000000     16.000000    180.000000      2.000000   \n",
      "75%       48.000000    1428.000000     21.000000    319.000000      3.000000   \n",
      "max       95.000000  102127.000000     31.000000   4918.000000     63.000000   \n",
      "\n",
      "              pdays      previous  \n",
      "count  45211.000000  45211.000000  \n",
      "mean      40.197828      0.580323  \n",
      "std      100.128746      2.303441  \n",
      "min       -1.000000      0.000000  \n",
      "25%       -1.000000      0.000000  \n",
      "50%       -1.000000      0.000000  \n",
      "75%       -1.000000      0.000000  \n",
      "max      871.000000    275.000000  \n"
     ]
    }
   ],
   "source": [
    "import pandas as pd\n",
    "\n",
    "# Load the CSV file\n",
    "df = pd.read_csv(\"bank-full.csv\", sep=\";\")\n",
    "\n",
    "# Display general info\n",
    "print(\"Dataset Overview:\")\n",
    "print(df.info())  # Column types, missing values, structure\n",
    "print(\"\\nSummary Statistics:\")\n",
    "print(df.describe())  # Mean, std, min, max for numerical columns\n"
   ]
  },
  {
   "cell_type": "markdown",
   "id": "65136ed0-cea1-44c1-8ce3-eaaba64d2fc0",
   "metadata": {},
   "source": [
    "Key Insights: ✅ df.info() helps identify missing values & column types. ✅ df.describe() summarizes numerical columns (age, balance, duration, etc.)."
   ]
  },
  {
   "cell_type": "markdown",
   "id": "41b6d953-d8ac-4a53-97e3-f44d0f20d628",
   "metadata": {},
   "source": [
    "Step 2: Visualizing Feature Distributions\n",
    "-> Goal: Check how key numerical features are distributed."
   ]
  },
  {
   "cell_type": "code",
   "execution_count": 379,
   "id": "b3653997-e943-4214-b4ec-3863e27ed4ef",
   "metadata": {},
   "outputs": [
    {
     "data": {
      "image/png": "[encoded data removed]",
      "text/plain": [
       "<Figure size 576x360 with 1 Axes>"
      ]
     },
     "metadata": {},
     "output_type": "display_data"
    },
    {
     "data": {
      "image/png": "[encoded data removed]",
      "text/plain": [
       "<Figure size 576x360 with 1 Axes>"
      ]
     },
     "metadata": {},
     "output_type": "display_data"
    }
   ],
   "source": [
    "import matplotlib.pyplot as plt\n",
    "import seaborn as sns\n",
    "\n",
    "# Set visualization style\n",
    "sns.set(style=\"whitegrid\")\n",
    "\n",
    "# Plot age distribution\n",
    "plt.figure(figsize=(8, 5))\n",
    "sns.histplot(df[\"age\"], bins=30, kde=True, color=\"blue\")\n",
    "plt.title(\"Age Distribution\")\n",
    "plt.xlabel(\"Age\")\n",
    "plt.ylabel(\"Frequency\")\n",
    "plt.show()\n",
    "\n",
    "# Plot balance distribution\n",
    "plt.figure(figsize=(8, 5))\n",
    "sns.histplot(df[\"balance\"], bins=30, kde=True, color=\"green\")\n",
    "plt.title(\"Balance Distribution\")\n",
    "plt.xlabel(\"Balance\")\n",
    "plt.ylabel(\"Frequency\")\n",
    "plt.show()\n"
   ]
  },
  {
   "cell_type": "markdown",
   "id": "5eec555a-290a-45e2-977d-43f161e12962",
   "metadata": {},
   "source": [
    "Why This Matters? ✅ Age Distribution → See if there are age groups more likely to subscribe. ✅ Balance Distribution → Detect skewed financial indicators affecting outcomes. Interpretation: the largest bulk of customers are aged between 30 - 55. Balance distribution is skewed to the left, within the €-interval [0, 1000]."
   ]
  },
  {
   "cell_type": "markdown",
   "id": "8e1e33e4-16d0-4792-a346-e8932b678295",
   "metadata": {},
   "source": [
    "Step 3: Checking Class Imbalance\n",
    "-> Goal: Ensure \"y\" (subscription outcome) is balanced."
   ]
  },
  {
   "cell_type": "code",
   "execution_count": 381,
   "id": "9d8ba124-3bed-4fa9-9109-10396e9c610f",
   "metadata": {},
   "outputs": [
    {
     "name": "stdout",
     "output_type": "stream",
     "text": [
      "no     88.30152\n",
      "yes    11.69848\n",
      "Name: y, dtype: float64\n"
     ]
    },
    {
     "data": {
      "image/png": "[encoded data removed]",
      "text/plain": [
       "<Figure size 432x288 with 1 Axes>"
      ]
     },
     "metadata": {},
     "output_type": "display_data"
    }
   ],
   "source": [
    "# Count occurrences of \"yes\" vs. \"no\"\n",
    "print(df[\"y\"].value_counts(normalize=True) * 100)  # Percentages\n",
    "sns.countplot(x=df[\"y\"], palette=[\"red\", \"green\"])\n",
    "plt.title(\"Subscription Outcome ('y') Distribution\")\n",
    "plt.xlabel(\"Subscribed (yes/no)\")\n",
    "plt.ylabel(\"Count\")\n",
    "plt.show()\n"
   ]
  },
  {
   "cell_type": "markdown",
   "id": "2e8eb25f-d6f8-488f-a8a1-9d8ccf2b69f0",
   "metadata": {},
   "source": [
    "Why Check This? ✅ If imbalanced, model training might favor majority class. ✅ Balancing strategies (undersampling, oversampling) may be needed. Interpretation: the target set is highly imbalanced which needs to be taken into account in the modeling phase."
   ]
  },
  {
   "cell_type": "markdown",
   "id": "9c09614f-b969-41c3-8a41-4f5bd8c2184a",
   "metadata": {},
   "source": [
    "Step 4: Correlation Analysis\n",
    "-> Goal: Find how numerical features relate to \"y\"."
   ]
  },
  {
   "cell_type": "code",
   "execution_count": 383,
   "id": "ee79284c-f950-48bf-a084-9c449576dc00",
   "metadata": {},
   "outputs": [
    {
     "data": {
      "image/png": "[encoded data removed]",
      "text/plain": [
       "<Figure size 720x432 with 2 Axes>"
      ]
     },
     "metadata": {},
     "output_type": "display_data"
    }
   ],
   "source": [
    "import numpy as np\n",
    "\n",
    "# Convert categorical target variable to numerical\n",
    "df[\"y\"] = df[\"y\"].map({\"yes\": 1, \"no\": 0})\n",
    "\n",
    "# Compute correlation matrix\n",
    "corr_matrix = df.corr()\n",
    "\n",
    "# Plot heatmap\n",
    "plt.figure(figsize=(10, 6))\n",
    "sns.heatmap(corr_matrix, annot=True, cmap=\"coolwarm\", fmt=\".2f\", linewidths=0.5)\n",
    "plt.title(\"Feature Correlation Heatmap\")\n",
    "plt.show()\n"
   ]
  },
  {
   "cell_type": "markdown",
   "id": "c7800fdf-59db-4957-821c-c905b7f6ad5f",
   "metadata": {},
   "source": [
    "🔹 Key Features to Focus On:  \n",
    "✅ Duration (duration) – This has a relatively strong positive correlation with the target variable (y = subscribed). Longer call durations seem to indicate higher likelihood of subscription.  ✅ Previous Contacts (previous) – A moderate correlation suggests that past engagement with the bank influences subscription probability. If someone has been contacted before, they might be more receptive. ✅ Pdays (pdays) – This feature correlates with previous, meaning that the number of days since last contact has an effect on customer engagement. ✅ Balance (balance) – Although weaker, it might be useful in combination with other financial factors, as wealthier individuals may be more likely to subscribe. ✅ Campaign (campaign) – The number of marketing efforts directed at a client has some impact, but too many contacts might lead to negative engagement (over-contact)."
   ]
  },
  {
   "cell_type": "markdown",
   "id": "64ee78d7-1bcc-4359-8c04-32ba16c00db1",
   "metadata": {},
   "source": [
    "🔹 How to Proceed?\n",
    "✔ Focus on high-correlation variables (duration, previous, pdays)."
   ]
  },
  {
   "cell_type": "markdown",
   "id": "884cb688-8ca9-4143-a848-61deeec3ceea",
   "metadata": {},
   "source": [
    "Why Check This? ✅ Shows which features are strongly correlated with subscriptions. ✅ Helps select relevant predictors for model training."
   ]
  },
  {
   "cell_type": "markdown",
   "id": "42637f2f-3673-4caa-956f-aa0659a5b69d",
   "metadata": {},
   "source": [
    "Next Steps\n",
    "At this point, we will: ✔ Confirm key predictors impacting subscription rates. ✔ Refine features to improve model performance. ✔ Decide on strategies for handling class imbalance.\n",
    "\n",
    "Now we can move to Phase 3: Splitting the Dataset & Model Selection!"
   ]
  },
  {
   "cell_type": "markdown",
   "id": "a6690c86-c1d7-4a7e-a961-133c1579e0b6",
   "metadata": {},
   "source": [
    "# 3. Phase 3"
   ]
  },
  {
   "cell_type": "markdown",
   "id": "8b870604-6a73-4b5a-a032-b4fed46056a0",
   "metadata": {},
   "source": [
    "Phase 3: Splitting the Dataset & Model Selection   \n",
    "Now that we’ve explored the dataset, we’ll move on to: 1️⃣ Splitting the Data → Divide into training and testing sets. 2️⃣ Selecting the Right Model → Choose suitable classification algorithms. 3️⃣ Feature Engineering → Improve predictive performance."
   ]
  },
  {
   "cell_type": "markdown",
   "id": "d9248556-f5b0-425c-9764-05b14c56a869",
   "metadata": {},
   "source": [
    "Step 1: Splitting the Data\n",
    "-> Why? To train and evaluate the model effectively, we split the dataset into training (80%) and testing (20%) sets."
   ]
  },
  {
   "cell_type": "code",
   "execution_count": 385,
   "id": "6450c9cf-dbe9-4174-9e18-7011f3e61552",
   "metadata": {},
   "outputs": [
    {
     "name": "stdout",
     "output_type": "stream",
     "text": [
      "Training set: (36168, 16), (36168,)\n",
      "Testing set: (9043, 16), (9043,)\n"
     ]
    },
    {
     "data": {
      "text/plain": [
       "3344     0\n",
       "17965    0\n",
       "18299    0\n",
       "10221    0\n",
       "32192    1\n",
       "Name: y, dtype: int64"
      ]
     },
     "execution_count": 385,
     "metadata": {},
     "output_type": "execute_result"
    }
   ],
   "source": [
    "from sklearn.model_selection import train_test_split\n",
    "\n",
    "# Define feature set (X) and target variable (y)\n",
    "X = df.drop(columns=[\"y\"])  # Features\n",
    "y = df[\"y\"]  # Target variable\n",
    "\n",
    "# Split the dataset into training & testing sets (80/20 split)\n",
    "X_train, X_test, y_train, y_test = train_test_split(X, y, test_size=0.2, random_state=42)\n",
    "\n",
    "print(f\"Training set: {X_train.shape}, {y_train.shape}\")\n",
    "print(f\"Testing set: {X_test.shape}, {y_test.shape}\")\n",
    "\n",
    "X_test.head()\n",
    "y_train.head()"
   ]
  },
  {
   "cell_type": "markdown",
   "id": "cdabf91b-3aca-4179-b5f2-52fbb9265eaf",
   "metadata": {},
   "source": [
    "Key Steps: ✅ train_test_split() randomly separates data into training & test sets. ✅ Ensures model generalization by evaluating on unseen data."
   ]
  },
  {
   "cell_type": "markdown",
   "id": "8056d1eb-5a54-402a-83f7-5f86606a3bdb",
   "metadata": {},
   "source": [
    "Step 2: Choosing the Right Model\n",
    "Classification Models to Consider:   ✔ Logistic Regression → Simple, interpretable baseline. ✔ Random Forest → Handles feature importance & complex interactions. ✔ XGBoost → Advanced boosting model for high accuracy."
   ]
  },
  {
   "cell_type": "code",
   "execution_count": 387,
   "id": "6e4659be-5e5b-47fb-989f-ffafb78b56e2",
   "metadata": {},
   "outputs": [
    {
     "name": "stdout",
     "output_type": "stream",
     "text": [
      "Models initialized successfully.\n"
     ]
    }
   ],
   "source": [
    "from sklearn.linear_model import LogisticRegression\n",
    "from sklearn.ensemble import RandomForestClassifier\n",
    "from xgboost import XGBClassifier\n",
    "\n",
    "# Initialize models\n",
    "log_reg = LogisticRegression()\n",
    "rf_clf = RandomForestClassifier()\n",
    "xgb_clf = XGBClassifier()\n",
    "\n",
    "print(\"Models initialized successfully.\")\n"
   ]
  },
  {
   "cell_type": "markdown",
   "id": "6a7dd701-ca22-49fe-bb48-4de0dda61306",
   "metadata": {},
   "source": [
    "Why These Models? ✅ Logistic Regression → Great baseline with strong interpretability. ✅ Random Forest → Handles non-linearity, robust against overfitting. ✅ XGBoost → Advanced gradient boosting, excelling in performance."
   ]
  },
  {
   "cell_type": "markdown",
   "id": "f6bc5309-c816-40da-b1ac-e95207f21178",
   "metadata": {},
   "source": [
    "Step 3: Feature Engineering ->\n",
    "Improving Predictive Power:  ✔ Scaling numerical features for consistency. ✔ Encoding categorical variables for compatibility. ✔ Feature selection to retain only relevant attributes."
   ]
  },
  {
   "cell_type": "code",
   "execution_count": 389,
   "id": "be96a9e9-c40c-4e68-a7d3-70684f2f36ac",
   "metadata": {},
   "outputs": [
    {
     "name": "stdout",
     "output_type": "stream",
     "text": [
      "Feature scaling applied.\n"
     ]
    }
   ],
   "source": [
    "from sklearn.preprocessing import StandardScaler\n",
    "\n",
    "# Scale numerical columns\n",
    "num_cols = [\"age\", \"balance\", \"duration\", \"campaign\", \"previous\"]\n",
    "scaler = StandardScaler()\n",
    "X_train[num_cols] = scaler.fit_transform(X_train[num_cols])\n",
    "X_test[num_cols] = scaler.transform(X_test[num_cols])\n",
    "\n",
    "print(\"Feature scaling applied.\")\n"
   ]
  },
  {
   "cell_type": "markdown",
   "id": "93c59bea-61d0-4cea-99bc-90c2697d74b3",
   "metadata": {},
   "source": [
    "Why This Matters? ✅ Scaling prevents large values from dominating models. ✅ Ensures fair weight distribution across features."
   ]
  },
  {
   "cell_type": "markdown",
   "id": "10ff4fd2-dfbe-4406-b9d4-2ff1fc7ac402",
   "metadata": {},
   "source": [
    "Next Steps\n",
    "✔ Train models and compare accuracy, precision, recall, F1-score. ✔ Optimize hyperparameters for better results. ✔ Evaluate model performance on test data."
   ]
  },
  {
   "cell_type": "markdown",
   "id": "85140749-0707-4e9a-91f2-c2a543c1b66f",
   "metadata": {},
   "source": [
    "# 4. Phase 4"
   ]
  },
  {
   "cell_type": "markdown",
   "id": "e8936486-1c06-4cf6-b7b9-386990c9bab8",
   "metadata": {},
   "source": [
    "Phase 4: Model Training & Performance Evaluation ->  Now that the dataset is split and features are scaled, we’ll move on to: 1️⃣ Training multiple models (Logistic Regression, Random Forest, XGBoost). 2️⃣ Evaluating model performance using accuracy, precision, recall, F1-score. 3️⃣ Optimizing hyperparameters for best results."
   ]
  },
  {
   "cell_type": "markdown",
   "id": "f5bc2950-dd18-4c43-a611-f98f896dfcf5",
   "metadata": {},
   "source": [
    "Step 1: Train the Models\n",
    "Approach: We’ll start with Logistic Regression, Random Forest, and XGBoost and compare their results.\n"
   ]
  },
  {
   "cell_type": "markdown",
   "id": "b37be52e-6316-4ad7-88e3-37737e1a487f",
   "metadata": {},
   "source": [
    "View the train data set:"
   ]
  },
  {
   "cell_type": "code",
   "execution_count": 391,
   "id": "34584a19-0e5d-4e18-a726-22f8c9b4eb8d",
   "metadata": {},
   "outputs": [
    {
     "data": {
      "text/html": [
       "<div>\n",
       "<style scoped>\n",
       "    .dataframe tbody tr th:only-of-type {\n",
       "        vertical-align: middle;\n",
       "    }\n",
       "\n",
       "    .dataframe tbody tr th {\n",
       "        vertical-align: top;\n",
       "    }\n",
       "\n",
       "    .dataframe thead th {\n",
       "        text-align: right;\n",
       "    }\n",
       "</style>\n",
       "<table border=\"1\" class=\"dataframe\">\n",
       "  <thead>\n",
       "    <tr style=\"text-align: right;\">\n",
       "      <th></th>\n",
       "      <th>age</th>\n",
       "      <th>job</th>\n",
       "      <th>marital</th>\n",
       "      <th>education</th>\n",
       "      <th>default</th>\n",
       "      <th>balance</th>\n",
       "      <th>housing</th>\n",
       "      <th>loan</th>\n",
       "      <th>contact</th>\n",
       "      <th>day</th>\n",
       "      <th>month</th>\n",
       "      <th>duration</th>\n",
       "      <th>campaign</th>\n",
       "      <th>pdays</th>\n",
       "      <th>previous</th>\n",
       "      <th>poutcome</th>\n",
       "    </tr>\n",
       "  </thead>\n",
       "  <tbody>\n",
       "    <tr>\n",
       "      <th>3344</th>\n",
       "      <td>0.006515</td>\n",
       "      <td>blue-collar</td>\n",
       "      <td>married</td>\n",
       "      <td>primary</td>\n",
       "      <td>no</td>\n",
       "      <td>-0.169381</td>\n",
       "      <td>yes</td>\n",
       "      <td>no</td>\n",
       "      <td>unknown</td>\n",
       "      <td>15</td>\n",
       "      <td>may</td>\n",
       "      <td>-0.719756</td>\n",
       "      <td>-0.565886</td>\n",
       "      <td>-1</td>\n",
       "      <td>-0.244772</td>\n",
       "      <td>unknown</td>\n",
       "    </tr>\n",
       "    <tr>\n",
       "      <th>17965</th>\n",
       "      <td>0.759937</td>\n",
       "      <td>technician</td>\n",
       "      <td>married</td>\n",
       "      <td>primary</td>\n",
       "      <td>no</td>\n",
       "      <td>0.017848</td>\n",
       "      <td>yes</td>\n",
       "      <td>no</td>\n",
       "      <td>cellular</td>\n",
       "      <td>30</td>\n",
       "      <td>jul</td>\n",
       "      <td>0.047138</td>\n",
       "      <td>-0.245389</td>\n",
       "      <td>-1</td>\n",
       "      <td>-0.244772</td>\n",
       "      <td>unknown</td>\n",
       "    </tr>\n",
       "    <tr>\n",
       "      <th>18299</th>\n",
       "      <td>0.100693</td>\n",
       "      <td>admin.</td>\n",
       "      <td>married</td>\n",
       "      <td>secondary</td>\n",
       "      <td>no</td>\n",
       "      <td>0.820681</td>\n",
       "      <td>no</td>\n",
       "      <td>no</td>\n",
       "      <td>cellular</td>\n",
       "      <td>31</td>\n",
       "      <td>jul</td>\n",
       "      <td>-0.493970</td>\n",
       "      <td>0.395606</td>\n",
       "      <td>-1</td>\n",
       "      <td>-0.244772</td>\n",
       "      <td>unknown</td>\n",
       "    </tr>\n",
       "    <tr>\n",
       "      <th>10221</th>\n",
       "      <td>-0.370196</td>\n",
       "      <td>management</td>\n",
       "      <td>single</td>\n",
       "      <td>tertiary</td>\n",
       "      <td>no</td>\n",
       "      <td>-0.489588</td>\n",
       "      <td>yes</td>\n",
       "      <td>no</td>\n",
       "      <td>unknown</td>\n",
       "      <td>11</td>\n",
       "      <td>jun</td>\n",
       "      <td>0.459781</td>\n",
       "      <td>2.639088</td>\n",
       "      <td>-1</td>\n",
       "      <td>-0.244772</td>\n",
       "      <td>unknown</td>\n",
       "    </tr>\n",
       "    <tr>\n",
       "      <th>32192</th>\n",
       "      <td>1.419181</td>\n",
       "      <td>blue-collar</td>\n",
       "      <td>married</td>\n",
       "      <td>primary</td>\n",
       "      <td>no</td>\n",
       "      <td>0.706889</td>\n",
       "      <td>no</td>\n",
       "      <td>no</td>\n",
       "      <td>cellular</td>\n",
       "      <td>15</td>\n",
       "      <td>apr</td>\n",
       "      <td>0.027674</td>\n",
       "      <td>-0.245389</td>\n",
       "      <td>-1</td>\n",
       "      <td>-0.244772</td>\n",
       "      <td>unknown</td>\n",
       "    </tr>\n",
       "  </tbody>\n",
       "</table>\n",
       "</div>"
      ],
      "text/plain": [
       "            age          job  marital  education default   balance housing  \\\n",
       "3344   0.006515  blue-collar  married    primary      no -0.169381     yes   \n",
       "17965  0.759937   technician  married    primary      no  0.017848     yes   \n",
       "18299  0.100693       admin.  married  secondary      no  0.820681      no   \n",
       "10221 -0.370196   management   single   tertiary      no -0.489588     yes   \n",
       "32192  1.419181  blue-collar  married    primary      no  0.706889      no   \n",
       "\n",
       "      loan   contact  day month  duration  campaign  pdays  previous poutcome  \n",
       "3344    no   unknown   15   may -0.719756 -0.565886     -1 -0.244772  unknown  \n",
       "17965   no  cellular   30   jul  0.047138 -0.245389     -1 -0.244772  unknown  \n",
       "18299   no  cellular   31   jul -0.493970  0.395606     -1 -0.244772  unknown  \n",
       "10221   no   unknown   11   jun  0.459781  2.639088     -1 -0.244772  unknown  \n",
       "32192   no  cellular   15   apr  0.027674 -0.245389     -1 -0.244772  unknown  "
      ]
     },
     "execution_count": 391,
     "metadata": {},
     "output_type": "execute_result"
    }
   ],
   "source": [
    "X_train.head()"
   ]
  },
  {
   "cell_type": "markdown",
   "id": "1afdca12-f4fb-44af-8e44-456ff38b67ae",
   "metadata": {},
   "source": [
    "Step 2: Perform One-hot encoding:"
   ]
  },
  {
   "cell_type": "code",
   "execution_count": 393,
   "id": "4b209ac4-1d9a-4c9c-b1c9-0d83dc0632fe",
   "metadata": {},
   "outputs": [
    {
     "name": "stdout",
     "output_type": "stream",
     "text": [
      "Categorical features successfully one-hot encoded.\n"
     ]
    }
   ],
   "source": [
    "categorical_cols = [\"job\", \"marital\", \"education\", \"default\", \"housing\", \"loan\", \"contact\", \"month\", \"poutcome\"]\n",
    "X_train = pd.get_dummies(X_train, columns=categorical_cols, drop_first=True)\n",
    "X_test = pd.get_dummies(X_test, columns=categorical_cols, drop_first=True)\n",
    "\n",
    "print(\"Categorical features successfully one-hot encoded.\")\n"
   ]
  },
  {
   "cell_type": "markdown",
   "id": "60ccbf08-66ce-4358-94db-ce13914a7479",
   "metadata": {},
   "source": [
    "## 4.1 Checks of encoded data and trimming"
   ]
  },
  {
   "cell_type": "markdown",
   "id": "dd243a95-803a-4ca3-bef0-3ade25349381",
   "metadata": {},
   "source": [
    "a) View the encoded data set:"
   ]
  },
  {
   "cell_type": "code",
   "execution_count": 395,
   "id": "318dc068-db7f-4523-a5f0-2d48bfed048e",
   "metadata": {},
   "outputs": [
    {
     "data": {
      "text/html": [
       "<div>\n",
       "<style scoped>\n",
       "    .dataframe tbody tr th:only-of-type {\n",
       "        vertical-align: middle;\n",
       "    }\n",
       "\n",
       "    .dataframe tbody tr th {\n",
       "        vertical-align: top;\n",
       "    }\n",
       "\n",
       "    .dataframe thead th {\n",
       "        text-align: right;\n",
       "    }\n",
       "</style>\n",
       "<table border=\"1\" class=\"dataframe\">\n",
       "  <thead>\n",
       "    <tr style=\"text-align: right;\">\n",
       "      <th></th>\n",
       "      <th>age</th>\n",
       "      <th>balance</th>\n",
       "      <th>day</th>\n",
       "      <th>duration</th>\n",
       "      <th>campaign</th>\n",
       "      <th>pdays</th>\n",
       "      <th>previous</th>\n",
       "      <th>job_blue-collar</th>\n",
       "      <th>job_entrepreneur</th>\n",
       "      <th>job_housemaid</th>\n",
       "      <th>...</th>\n",
       "      <th>month_jul</th>\n",
       "      <th>month_jun</th>\n",
       "      <th>month_mar</th>\n",
       "      <th>month_may</th>\n",
       "      <th>month_nov</th>\n",
       "      <th>month_oct</th>\n",
       "      <th>month_sep</th>\n",
       "      <th>poutcome_other</th>\n",
       "      <th>poutcome_success</th>\n",
       "      <th>poutcome_unknown</th>\n",
       "    </tr>\n",
       "  </thead>\n",
       "  <tbody>\n",
       "    <tr>\n",
       "      <th>3344</th>\n",
       "      <td>0.006515</td>\n",
       "      <td>-0.169381</td>\n",
       "      <td>15</td>\n",
       "      <td>-0.719756</td>\n",
       "      <td>-0.565886</td>\n",
       "      <td>-1</td>\n",
       "      <td>-0.244772</td>\n",
       "      <td>1</td>\n",
       "      <td>0</td>\n",
       "      <td>0</td>\n",
       "      <td>...</td>\n",
       "      <td>0</td>\n",
       "      <td>0</td>\n",
       "      <td>0</td>\n",
       "      <td>1</td>\n",
       "      <td>0</td>\n",
       "      <td>0</td>\n",
       "      <td>0</td>\n",
       "      <td>0</td>\n",
       "      <td>0</td>\n",
       "      <td>1</td>\n",
       "    </tr>\n",
       "    <tr>\n",
       "      <th>17965</th>\n",
       "      <td>0.759937</td>\n",
       "      <td>0.017848</td>\n",
       "      <td>30</td>\n",
       "      <td>0.047138</td>\n",
       "      <td>-0.245389</td>\n",
       "      <td>-1</td>\n",
       "      <td>-0.244772</td>\n",
       "      <td>0</td>\n",
       "      <td>0</td>\n",
       "      <td>0</td>\n",
       "      <td>...</td>\n",
       "      <td>1</td>\n",
       "      <td>0</td>\n",
       "      <td>0</td>\n",
       "      <td>0</td>\n",
       "      <td>0</td>\n",
       "      <td>0</td>\n",
       "      <td>0</td>\n",
       "      <td>0</td>\n",
       "      <td>0</td>\n",
       "      <td>1</td>\n",
       "    </tr>\n",
       "    <tr>\n",
       "      <th>18299</th>\n",
       "      <td>0.100693</td>\n",
       "      <td>0.820681</td>\n",
       "      <td>31</td>\n",
       "      <td>-0.493970</td>\n",
       "      <td>0.395606</td>\n",
       "      <td>-1</td>\n",
       "      <td>-0.244772</td>\n",
       "      <td>0</td>\n",
       "      <td>0</td>\n",
       "      <td>0</td>\n",
       "      <td>...</td>\n",
       "      <td>1</td>\n",
       "      <td>0</td>\n",
       "      <td>0</td>\n",
       "      <td>0</td>\n",
       "      <td>0</td>\n",
       "      <td>0</td>\n",
       "      <td>0</td>\n",
       "      <td>0</td>\n",
       "      <td>0</td>\n",
       "      <td>1</td>\n",
       "    </tr>\n",
       "    <tr>\n",
       "      <th>10221</th>\n",
       "      <td>-0.370196</td>\n",
       "      <td>-0.489588</td>\n",
       "      <td>11</td>\n",
       "      <td>0.459781</td>\n",
       "      <td>2.639088</td>\n",
       "      <td>-1</td>\n",
       "      <td>-0.244772</td>\n",
       "      <td>0</td>\n",
       "      <td>0</td>\n",
       "      <td>0</td>\n",
       "      <td>...</td>\n",
       "      <td>0</td>\n",
       "      <td>1</td>\n",
       "      <td>0</td>\n",
       "      <td>0</td>\n",
       "      <td>0</td>\n",
       "      <td>0</td>\n",
       "      <td>0</td>\n",
       "      <td>0</td>\n",
       "      <td>0</td>\n",
       "      <td>1</td>\n",
       "    </tr>\n",
       "    <tr>\n",
       "      <th>32192</th>\n",
       "      <td>1.419181</td>\n",
       "      <td>0.706889</td>\n",
       "      <td>15</td>\n",
       "      <td>0.027674</td>\n",
       "      <td>-0.245389</td>\n",
       "      <td>-1</td>\n",
       "      <td>-0.244772</td>\n",
       "      <td>1</td>\n",
       "      <td>0</td>\n",
       "      <td>0</td>\n",
       "      <td>...</td>\n",
       "      <td>0</td>\n",
       "      <td>0</td>\n",
       "      <td>0</td>\n",
       "      <td>0</td>\n",
       "      <td>0</td>\n",
       "      <td>0</td>\n",
       "      <td>0</td>\n",
       "      <td>0</td>\n",
       "      <td>0</td>\n",
       "      <td>1</td>\n",
       "    </tr>\n",
       "  </tbody>\n",
       "</table>\n",
       "<p>5 rows × 42 columns</p>\n",
       "</div>"
      ],
      "text/plain": [
       "            age   balance  day  duration  campaign  pdays  previous  \\\n",
       "3344   0.006515 -0.169381   15 -0.719756 -0.565886     -1 -0.244772   \n",
       "17965  0.759937  0.017848   30  0.047138 -0.245389     -1 -0.244772   \n",
       "18299  0.100693  0.820681   31 -0.493970  0.395606     -1 -0.244772   \n",
       "10221 -0.370196 -0.489588   11  0.459781  2.639088     -1 -0.244772   \n",
       "32192  1.419181  0.706889   15  0.027674 -0.245389     -1 -0.244772   \n",
       "\n",
       "       job_blue-collar  job_entrepreneur  job_housemaid  ...  month_jul  \\\n",
       "3344                 1                 0              0  ...          0   \n",
       "17965                0                 0              0  ...          1   \n",
       "18299                0                 0              0  ...          1   \n",
       "10221                0                 0              0  ...          0   \n",
       "32192                1                 0              0  ...          0   \n",
       "\n",
       "       month_jun  month_mar  month_may  month_nov  month_oct  month_sep  \\\n",
       "3344           0          0          1          0          0          0   \n",
       "17965          0          0          0          0          0          0   \n",
       "18299          0          0          0          0          0          0   \n",
       "10221          1          0          0          0          0          0   \n",
       "32192          0          0          0          0          0          0   \n",
       "\n",
       "       poutcome_other  poutcome_success  poutcome_unknown  \n",
       "3344                0                 0                 1  \n",
       "17965               0                 0                 1  \n",
       "18299               0                 0                 1  \n",
       "10221               0                 0                 1  \n",
       "32192               0                 0                 1  \n",
       "\n",
       "[5 rows x 42 columns]"
      ]
     },
     "execution_count": 395,
     "metadata": {},
     "output_type": "execute_result"
    }
   ],
   "source": [
    "X_train.head()"
   ]
  },
  {
   "cell_type": "markdown",
   "id": "e57a7b56-7fb6-49c4-8a67-7e5fc833a03b",
   "metadata": {},
   "source": [
    "b) Are there still some non-numeric entries in X_train?"
   ]
  },
  {
   "cell_type": "code",
   "execution_count": 397,
   "id": "6604ad45-d1db-45f1-a3e6-074ed53892fc",
   "metadata": {},
   "outputs": [
    {
     "name": "stdout",
     "output_type": "stream",
     "text": [
      "Non-numeric columns in X_train: Index([], dtype='object')\n"
     ]
    }
   ],
   "source": [
    "print(\"Non-numeric columns in X_train:\", X_train.select_dtypes(include=[\"object\"]).columns)\n"
   ]
  },
  {
   "cell_type": "markdown",
   "id": "fda4346e-fdf7-4682-89ea-6b4b563fb298",
   "metadata": {},
   "source": [
    "c) Inspect the shape of training data sets and search for the occurrence of missing values:"
   ]
  },
  {
   "cell_type": "code",
   "execution_count": 399,
   "id": "d0844874-5a01-499f-9228-39c730b13c1f",
   "metadata": {},
   "outputs": [
    {
     "name": "stdout",
     "output_type": "stream",
     "text": [
      "Shape of X_train: (36168, 42)\n",
      "Shape of y_train: (36168,)\n",
      "Missing values in X_train: 0\n",
      "Missing values in y_train: 0\n"
     ]
    },
    {
     "data": {
      "text/plain": [
       "3344     0\n",
       "17965    0\n",
       "18299    0\n",
       "10221    0\n",
       "32192    1\n",
       "Name: y, dtype: int64"
      ]
     },
     "execution_count": 399,
     "metadata": {},
     "output_type": "execute_result"
    }
   ],
   "source": [
    "print(f\"Shape of X_train: {X_train.shape}\")\n",
    "print(f\"Shape of y_train: {y_train.shape}\")\n",
    "print(\"Missing values in X_train:\", X_train.isna().sum().sum())\n",
    "print(\"Missing values in y_train:\", y_train.isna().sum().sum())\n",
    "y_train.head()"
   ]
  },
  {
   "cell_type": "markdown",
   "id": "65f4a7a7-3cbe-43a6-b6ab-2fd6efe3bf9c",
   "metadata": {},
   "source": [
    "d) Trim the training data to ensure imput compatibility with classification models:"
   ]
  },
  {
   "cell_type": "code",
   "execution_count": 401,
   "id": "82643982-2172-45c0-8aa6-d4ea3659661e",
   "metadata": {},
   "outputs": [
    {
     "name": "stdout",
     "output_type": "stream",
     "text": [
      "New shape of X_train: (36168, 42)\n",
      "New shape of y_train: (36168,)\n"
     ]
    },
    {
     "data": {
      "text/plain": [
       "3344     0\n",
       "17965    0\n",
       "18299    0\n",
       "10221    0\n",
       "32192    1\n",
       "Name: y, dtype: int64"
      ]
     },
     "execution_count": 401,
     "metadata": {},
     "output_type": "execute_result"
    }
   ],
   "source": [
    "X_train = X_train.iloc[:36169]  # Trim X_train to match y_train's size\n",
    "y_train = y_train.iloc[:36168]  # Trim y_train to match X_train's size\n",
    "\n",
    "print(f\"New shape of X_train: {X_train.shape}\")\n",
    "print(f\"New shape of y_train: {y_train.shape}\")\n",
    "y_train.head()"
   ]
  },
  {
   "cell_type": "markdown",
   "id": "1c158b10-e60d-4bd8-b595-b68f11cbd671",
   "metadata": {},
   "source": [
    "e) Does y_train contain any missing values? Are all unique entries numeric?"
   ]
  },
  {
   "cell_type": "code",
   "execution_count": 403,
   "id": "33a1ccce-e2fd-48f9-b0f2-18547c5d9033",
   "metadata": {},
   "outputs": [
    {
     "name": "stdout",
     "output_type": "stream",
     "text": [
      "[0 1]\n",
      "0\n"
     ]
    },
    {
     "data": {
      "text/plain": [
       "3344     0\n",
       "17965    0\n",
       "18299    0\n",
       "10221    0\n",
       "32192    1\n",
       "Name: y, dtype: int64"
      ]
     },
     "execution_count": 403,
     "metadata": {},
     "output_type": "execute_result"
    }
   ],
   "source": [
    "print(y_train.unique())  # Show unique labels in y_train\n",
    "print(y_train.isna().sum())  # Check if there are missing values\n",
    "y_train.head()"
   ]
  },
  {
   "cell_type": "markdown",
   "id": "f33f9709-c9b2-43d5-859d-e7cd4be698ca",
   "metadata": {},
   "source": [
    "f) Treat the \"unknown\" entries by converting them to NaNs, reshape the training data and view the data sets again:"
   ]
  },
  {
   "cell_type": "code",
   "execution_count": 405,
   "id": "ee7e4477-3b23-4edb-8ae5-2af2ccb88ce3",
   "metadata": {},
   "outputs": [
    {
     "name": "stdout",
     "output_type": "stream",
     "text": [
      "New shape of X_train: (36168, 42)\n",
      "New shape of y_train: (36168,)\n"
     ]
    },
    {
     "data": {
      "text/plain": [
       "3344     0\n",
       "17965    0\n",
       "18299    0\n",
       "10221    0\n",
       "32192    1\n",
       "Name: y, dtype: int64"
      ]
     },
     "execution_count": 405,
     "metadata": {},
     "output_type": "execute_result"
    }
   ],
   "source": [
    "import pandas as pd\n",
    "\n",
    "# Convert 'unknown' to NaN\n",
    "y_train.replace(\"unknown\", pd.NA, inplace=True)\n",
    "\n",
    "# Drop rows where the target variable is missing\n",
    "y_train.dropna(inplace=True)\n",
    "X_train = X_train.loc[y_train.index]  # Ensure X_train and y_train remain aligned\n",
    "\n",
    "print(f\"New shape of X_train: {X_train.shape}\")\n",
    "print(f\"New shape of y_train: {y_train.shape}\")\n",
    "y_train.head()"
   ]
  },
  {
   "cell_type": "code",
   "execution_count": 407,
   "id": "016c7687-b814-4fdf-ba33-977de82cd9ae",
   "metadata": {},
   "outputs": [
    {
     "data": {
      "text/html": [
       "<div>\n",
       "<style scoped>\n",
       "    .dataframe tbody tr th:only-of-type {\n",
       "        vertical-align: middle;\n",
       "    }\n",
       "\n",
       "    .dataframe tbody tr th {\n",
       "        vertical-align: top;\n",
       "    }\n",
       "\n",
       "    .dataframe thead th {\n",
       "        text-align: right;\n",
       "    }\n",
       "</style>\n",
       "<table border=\"1\" class=\"dataframe\">\n",
       "  <thead>\n",
       "    <tr style=\"text-align: right;\">\n",
       "      <th></th>\n",
       "      <th>age</th>\n",
       "      <th>balance</th>\n",
       "      <th>day</th>\n",
       "      <th>duration</th>\n",
       "      <th>campaign</th>\n",
       "      <th>pdays</th>\n",
       "      <th>previous</th>\n",
       "      <th>job_blue-collar</th>\n",
       "      <th>job_entrepreneur</th>\n",
       "      <th>job_housemaid</th>\n",
       "      <th>...</th>\n",
       "      <th>month_jul</th>\n",
       "      <th>month_jun</th>\n",
       "      <th>month_mar</th>\n",
       "      <th>month_may</th>\n",
       "      <th>month_nov</th>\n",
       "      <th>month_oct</th>\n",
       "      <th>month_sep</th>\n",
       "      <th>poutcome_other</th>\n",
       "      <th>poutcome_success</th>\n",
       "      <th>poutcome_unknown</th>\n",
       "    </tr>\n",
       "  </thead>\n",
       "  <tbody>\n",
       "    <tr>\n",
       "      <th>3344</th>\n",
       "      <td>0.006515</td>\n",
       "      <td>-0.169381</td>\n",
       "      <td>15</td>\n",
       "      <td>-0.719756</td>\n",
       "      <td>-0.565886</td>\n",
       "      <td>-1</td>\n",
       "      <td>-0.244772</td>\n",
       "      <td>1</td>\n",
       "      <td>0</td>\n",
       "      <td>0</td>\n",
       "      <td>...</td>\n",
       "      <td>0</td>\n",
       "      <td>0</td>\n",
       "      <td>0</td>\n",
       "      <td>1</td>\n",
       "      <td>0</td>\n",
       "      <td>0</td>\n",
       "      <td>0</td>\n",
       "      <td>0</td>\n",
       "      <td>0</td>\n",
       "      <td>1</td>\n",
       "    </tr>\n",
       "    <tr>\n",
       "      <th>17965</th>\n",
       "      <td>0.759937</td>\n",
       "      <td>0.017848</td>\n",
       "      <td>30</td>\n",
       "      <td>0.047138</td>\n",
       "      <td>-0.245389</td>\n",
       "      <td>-1</td>\n",
       "      <td>-0.244772</td>\n",
       "      <td>0</td>\n",
       "      <td>0</td>\n",
       "      <td>0</td>\n",
       "      <td>...</td>\n",
       "      <td>1</td>\n",
       "      <td>0</td>\n",
       "      <td>0</td>\n",
       "      <td>0</td>\n",
       "      <td>0</td>\n",
       "      <td>0</td>\n",
       "      <td>0</td>\n",
       "      <td>0</td>\n",
       "      <td>0</td>\n",
       "      <td>1</td>\n",
       "    </tr>\n",
       "    <tr>\n",
       "      <th>18299</th>\n",
       "      <td>0.100693</td>\n",
       "      <td>0.820681</td>\n",
       "      <td>31</td>\n",
       "      <td>-0.493970</td>\n",
       "      <td>0.395606</td>\n",
       "      <td>-1</td>\n",
       "      <td>-0.244772</td>\n",
       "      <td>0</td>\n",
       "      <td>0</td>\n",
       "      <td>0</td>\n",
       "      <td>...</td>\n",
       "      <td>1</td>\n",
       "      <td>0</td>\n",
       "      <td>0</td>\n",
       "      <td>0</td>\n",
       "      <td>0</td>\n",
       "      <td>0</td>\n",
       "      <td>0</td>\n",
       "      <td>0</td>\n",
       "      <td>0</td>\n",
       "      <td>1</td>\n",
       "    </tr>\n",
       "    <tr>\n",
       "      <th>10221</th>\n",
       "      <td>-0.370196</td>\n",
       "      <td>-0.489588</td>\n",
       "      <td>11</td>\n",
       "      <td>0.459781</td>\n",
       "      <td>2.639088</td>\n",
       "      <td>-1</td>\n",
       "      <td>-0.244772</td>\n",
       "      <td>0</td>\n",
       "      <td>0</td>\n",
       "      <td>0</td>\n",
       "      <td>...</td>\n",
       "      <td>0</td>\n",
       "      <td>1</td>\n",
       "      <td>0</td>\n",
       "      <td>0</td>\n",
       "      <td>0</td>\n",
       "      <td>0</td>\n",
       "      <td>0</td>\n",
       "      <td>0</td>\n",
       "      <td>0</td>\n",
       "      <td>1</td>\n",
       "    </tr>\n",
       "    <tr>\n",
       "      <th>32192</th>\n",
       "      <td>1.419181</td>\n",
       "      <td>0.706889</td>\n",
       "      <td>15</td>\n",
       "      <td>0.027674</td>\n",
       "      <td>-0.245389</td>\n",
       "      <td>-1</td>\n",
       "      <td>-0.244772</td>\n",
       "      <td>1</td>\n",
       "      <td>0</td>\n",
       "      <td>0</td>\n",
       "      <td>...</td>\n",
       "      <td>0</td>\n",
       "      <td>0</td>\n",
       "      <td>0</td>\n",
       "      <td>0</td>\n",
       "      <td>0</td>\n",
       "      <td>0</td>\n",
       "      <td>0</td>\n",
       "      <td>0</td>\n",
       "      <td>0</td>\n",
       "      <td>1</td>\n",
       "    </tr>\n",
       "  </tbody>\n",
       "</table>\n",
       "<p>5 rows × 42 columns</p>\n",
       "</div>"
      ],
      "text/plain": [
       "            age   balance  day  duration  campaign  pdays  previous  \\\n",
       "3344   0.006515 -0.169381   15 -0.719756 -0.565886     -1 -0.244772   \n",
       "17965  0.759937  0.017848   30  0.047138 -0.245389     -1 -0.244772   \n",
       "18299  0.100693  0.820681   31 -0.493970  0.395606     -1 -0.244772   \n",
       "10221 -0.370196 -0.489588   11  0.459781  2.639088     -1 -0.244772   \n",
       "32192  1.419181  0.706889   15  0.027674 -0.245389     -1 -0.244772   \n",
       "\n",
       "       job_blue-collar  job_entrepreneur  job_housemaid  ...  month_jul  \\\n",
       "3344                 1                 0              0  ...          0   \n",
       "17965                0                 0              0  ...          1   \n",
       "18299                0                 0              0  ...          1   \n",
       "10221                0                 0              0  ...          0   \n",
       "32192                1                 0              0  ...          0   \n",
       "\n",
       "       month_jun  month_mar  month_may  month_nov  month_oct  month_sep  \\\n",
       "3344           0          0          1          0          0          0   \n",
       "17965          0          0          0          0          0          0   \n",
       "18299          0          0          0          0          0          0   \n",
       "10221          1          0          0          0          0          0   \n",
       "32192          0          0          0          0          0          0   \n",
       "\n",
       "       poutcome_other  poutcome_success  poutcome_unknown  \n",
       "3344                0                 0                 1  \n",
       "17965               0                 0                 1  \n",
       "18299               0                 0                 1  \n",
       "10221               0                 0                 1  \n",
       "32192               0                 0                 1  \n",
       "\n",
       "[5 rows x 42 columns]"
      ]
     },
     "execution_count": 407,
     "metadata": {},
     "output_type": "execute_result"
    }
   ],
   "source": [
    "#The additional mapping y_train = y_train.map({\"yes\": 1, \"no\": 0}) is apparently unnecessary\n",
    "X_train.head()"
   ]
  },
  {
   "cell_type": "markdown",
   "id": "96581df5-2790-4f16-ad03-0f70d6cd50ab",
   "metadata": {},
   "source": [
    "g) Does \"unknown\" still occur in X_train?"
   ]
  },
  {
   "cell_type": "code",
   "execution_count": 409,
   "id": "2d34c5f0-6996-4269-a834-be253cc7f89a",
   "metadata": {},
   "outputs": [
    {
     "name": "stdout",
     "output_type": "stream",
     "text": [
      "age                    0\n",
      "balance                0\n",
      "day                    0\n",
      "duration               0\n",
      "campaign               0\n",
      "pdays                  0\n",
      "previous               0\n",
      "job_blue-collar        0\n",
      "job_entrepreneur       0\n",
      "job_housemaid          0\n",
      "job_management         0\n",
      "job_retired            0\n",
      "job_self-employed      0\n",
      "job_services           0\n",
      "job_student            0\n",
      "job_technician         0\n",
      "job_unemployed         0\n",
      "job_unknown            0\n",
      "marital_married        0\n",
      "marital_single         0\n",
      "education_secondary    0\n",
      "education_tertiary     0\n",
      "education_unknown      0\n",
      "default_yes            0\n",
      "housing_yes            0\n",
      "loan_yes               0\n",
      "contact_telephone      0\n",
      "contact_unknown        0\n",
      "month_aug              0\n",
      "month_dec              0\n",
      "month_feb              0\n",
      "month_jan              0\n",
      "month_jul              0\n",
      "month_jun              0\n",
      "month_mar              0\n",
      "month_may              0\n",
      "month_nov              0\n",
      "month_oct              0\n",
      "month_sep              0\n",
      "poutcome_other         0\n",
      "poutcome_success       0\n",
      "poutcome_unknown       0\n",
      "dtype: int64\n"
     ]
    }
   ],
   "source": [
    "print(X_train.isin([\"unknown\"]).sum())  # Count occurrences of \"unknown\""
   ]
  },
  {
   "cell_type": "markdown",
   "id": "995ca15e-7c79-41b8-aa92-096005e3e7c7",
   "metadata": {},
   "source": [
    "h) Inspect all data types in X_train:"
   ]
  },
  {
   "cell_type": "code",
   "execution_count": 411,
   "id": "ebd18eac-9992-40f2-87db-95ac01b3fff8",
   "metadata": {},
   "outputs": [
    {
     "name": "stdout",
     "output_type": "stream",
     "text": [
      "age                    float64\n",
      "balance                float64\n",
      "day                      int64\n",
      "duration               float64\n",
      "campaign               float64\n",
      "pdays                    int64\n",
      "previous               float64\n",
      "job_blue-collar          uint8\n",
      "job_entrepreneur         uint8\n",
      "job_housemaid            uint8\n",
      "job_management           uint8\n",
      "job_retired              uint8\n",
      "job_self-employed        uint8\n",
      "job_services             uint8\n",
      "job_student              uint8\n",
      "job_technician           uint8\n",
      "job_unemployed           uint8\n",
      "job_unknown              uint8\n",
      "marital_married          uint8\n",
      "marital_single           uint8\n",
      "education_secondary      uint8\n",
      "education_tertiary       uint8\n",
      "education_unknown        uint8\n",
      "default_yes              uint8\n",
      "housing_yes              uint8\n",
      "loan_yes                 uint8\n",
      "contact_telephone        uint8\n",
      "contact_unknown          uint8\n",
      "month_aug                uint8\n",
      "month_dec                uint8\n",
      "month_feb                uint8\n",
      "month_jan                uint8\n",
      "month_jul                uint8\n",
      "month_jun                uint8\n",
      "month_mar                uint8\n",
      "month_may                uint8\n",
      "month_nov                uint8\n",
      "month_oct                uint8\n",
      "month_sep                uint8\n",
      "poutcome_other           uint8\n",
      "poutcome_success         uint8\n",
      "poutcome_unknown         uint8\n",
      "dtype: object\n"
     ]
    }
   ],
   "source": [
    "print(X_train.dtypes)\n"
   ]
  },
  {
   "cell_type": "markdown",
   "id": "2dda39a6-4b7b-48c9-8214-b644538c8e7e",
   "metadata": {},
   "source": [
    "i) Inspect the data type of y_train (target):"
   ]
  },
  {
   "cell_type": "code",
   "execution_count": 413,
   "id": "28dc2ff9-28ea-40f9-9eab-0ae7a8e9b44a",
   "metadata": {},
   "outputs": [
    {
     "name": "stdout",
     "output_type": "stream",
     "text": [
      "int64\n",
      "[0 1]\n"
     ]
    }
   ],
   "source": [
    "print(y_train.dtype)\n",
    "print(y_train.unique())  # See if any unexpected values exist\n"
   ]
  },
  {
   "cell_type": "markdown",
   "id": "df64711c-d58e-4996-a516-2462909f0268",
   "metadata": {},
   "source": [
    "Conclusion: The input (training) data sets appear well-formatted and ready for processing. "
   ]
  },
  {
   "cell_type": "markdown",
   "id": "912bc96b-bed4-4a1c-9d5a-ae7d77f077b7",
   "metadata": {},
   "source": [
    "## 4.2 Training and evaluating model performance"
   ]
  },
  {
   "cell_type": "markdown",
   "id": "e3e19637-862a-46f6-874e-89e07dd0aade",
   "metadata": {},
   "source": [
    "Step 0: Recast the target into int32:"
   ]
  },
  {
   "cell_type": "code",
   "execution_count": 415,
   "id": "84766906-1f98-4239-b125-cf29b7f9a10c",
   "metadata": {},
   "outputs": [
    {
     "name": "stdout",
     "output_type": "stream",
     "text": [
      "int32\n"
     ]
    }
   ],
   "source": [
    "y_train = y_train.astype(int)\n",
    "print(y_train.dtype)  # Should now return int64 or int32\n"
   ]
  },
  {
   "cell_type": "markdown",
   "id": "1bf5e685-23cf-4c16-890f-1ae397d1d6b5",
   "metadata": {},
   "source": [
    "Step 1: Initialize and train the models:"
   ]
  },
  {
   "cell_type": "code",
   "execution_count": 417,
   "id": "728827bf-4e17-4436-bac6-b93fd8cadf77",
   "metadata": {},
   "outputs": [
    {
     "name": "stderr",
     "output_type": "stream",
     "text": [
      "C:\\Users\\balan\\.conda\\envs\\rstudio\\lib\\site-packages\\sklearn\\linear_model\\_logistic.py:818: ConvergenceWarning: lbfgs failed to converge (status=1):\n",
      "STOP: TOTAL NO. of ITERATIONS REACHED LIMIT.\n",
      "\n",
      "Increase the number of iterations (max_iter) or scale the data as shown in:\n",
      "    https://scikit-learn.org/stable/modules/preprocessing.html\n",
      "Please also refer to the documentation for alternative solver options:\n",
      "    https://scikit-learn.org/stable/modules/linear_model.html#logistic-regression\n",
      "  extra_warning_msg=_LOGISTIC_SOLVER_CONVERGENCE_MSG,\n"
     ]
    },
    {
     "name": "stdout",
     "output_type": "stream",
     "text": [
      "Model training completed.\n"
     ]
    }
   ],
   "source": [
    "from sklearn.linear_model import LogisticRegression\n",
    "from sklearn.ensemble import RandomForestClassifier\n",
    "from xgboost import XGBClassifier\n",
    "\n",
    "# Initialize models\n",
    "log_reg = LogisticRegression(class_weight=\"balanced\", random_state=42)\n",
    "\n",
    "rf_clf = RandomForestClassifier(class_weight=\"balanced\", n_estimators=200, max_depth=5, random_state=42)\n",
    "\n",
    "scale_pos_weight = y_train.value_counts()[0] / y_train.value_counts()[1]  # Compute imbalance ratio\n",
    "xgb_clf = XGBClassifier(scale_pos_weight=scale_pos_weight, n_estimators=200, max_depth=5, learning_rate=0.1, random_state=42)\n",
    "\n",
    "# Train each model\n",
    "log_reg.fit(X_train, y_train)\n",
    "rf_clf.fit(X_train, y_train)\n",
    "xgb_clf.fit(X_train, y_train)\n",
    "\n",
    "print(\"Model training completed.\")\n"
   ]
  },
  {
   "cell_type": "markdown",
   "id": "a3ad3112-0ff0-4087-9f0d-5c19ff573fce",
   "metadata": {},
   "source": [
    "Why These Models? ✅ Logistic Regression → Great baseline with strong interpretability. ✅ Random Forest → Handles non-linearity, robust against overfitting. ✅ XGBoost → Advanced boosting, excelling in performance."
   ]
  },
  {
   "cell_type": "markdown",
   "id": "29acba94-e86d-4e29-bb3f-e08bd661ff4f",
   "metadata": {},
   "source": [
    "Step 2: Evaluate Model Performance\n",
    "-> Approach: We use accuracy, precision, recall, F1-score to compare models."
   ]
  },
  {
   "cell_type": "markdown",
   "id": "fe778bc2-be51-4cc4-80fa-317ac0c06b15",
   "metadata": {},
   "source": [
    "Step 2.1: Investigate the test target data set"
   ]
  },
  {
   "cell_type": "code",
   "execution_count": 419,
   "id": "1fe5ef84-3b1e-4cd9-99c0-5deb2db250a3",
   "metadata": {},
   "outputs": [
    {
     "name": "stdout",
     "output_type": "stream",
     "text": [
      "Shape of y_test: (9043,)\n"
     ]
    }
   ],
   "source": [
    "print(f\"Shape of y_test: {y_test.shape}\")\n",
    "y_test.reset_index(drop=True, inplace=True)\n",
    "\n"
   ]
  },
  {
   "cell_type": "code",
   "execution_count": 421,
   "id": "c6129903-adf0-40ab-9835-f99f5ac4da2d",
   "metadata": {},
   "outputs": [
    {
     "name": "stdout",
     "output_type": "stream",
     "text": [
      "0    0\n",
      "1    0\n",
      "2    0\n",
      "3    0\n",
      "4    0\n",
      "Name: y, dtype: int64\n"
     ]
    }
   ],
   "source": [
    "print(y_test.head())  # Display the first few rows\n"
   ]
  },
  {
   "cell_type": "code",
   "execution_count": 423,
   "id": "32e52f89-1e34-423c-8f7c-8033dab710a6",
   "metadata": {},
   "outputs": [
    {
     "name": "stdout",
     "output_type": "stream",
     "text": [
      "<class 'pandas.core.series.Series'>\n",
      "(9043,)\n"
     ]
    }
   ],
   "source": [
    "print(type(y_test))  # Should be pandas.Series or numpy.ndarray\n",
    "print(y_test.shape)  # Expected shape: (9044,)\n"
   ]
  },
  {
   "cell_type": "markdown",
   "id": "55beee6c-a897-490d-861c-80816ae10139",
   "metadata": {},
   "source": [
    "The type of y_test appears appropriate."
   ]
  },
  {
   "cell_type": "markdown",
   "id": "86a2139d-0881-4779-9795-893928cf5b1c",
   "metadata": {},
   "source": [
    "Step 2.2: Perform standard integer conversion on y_test:"
   ]
  },
  {
   "cell_type": "code",
   "execution_count": 425,
   "id": "5d0c02b1-153b-4808-942c-529410a0abda",
   "metadata": {},
   "outputs": [],
   "source": [
    "# Convert all nested Series elements into standard integers\n",
    "y_test = y_test.apply(lambda x: x.iloc[0] if isinstance(x, pd.Series) else x)\n"
   ]
  },
  {
   "cell_type": "markdown",
   "id": "85bb83fd-2c8e-4119-97d3-3f8160917901",
   "metadata": {},
   "source": [
    "Step 2.3: Deal with non-numeric and missing values in y_test:"
   ]
  },
  {
   "cell_type": "code",
   "execution_count": 427,
   "id": "0fcaddd2-52bb-4dfa-8974-837a129da286",
   "metadata": {},
   "outputs": [
    {
     "name": "stdout",
     "output_type": "stream",
     "text": [
      "[0 1]\n"
     ]
    }
   ],
   "source": [
    "y_test = y_test[y_test.isin([0, 1])]  # Keep only 0s and 1s\n",
    "print(y_test.unique())  # Check if non-numeric entries like \"management\" appear\n"
   ]
  },
  {
   "cell_type": "code",
   "execution_count": 429,
   "id": "3e93d52e-438c-4db9-8e9d-4910ed12dd62",
   "metadata": {},
   "outputs": [
    {
     "name": "stdout",
     "output_type": "stream",
     "text": [
      "<class 'pandas.core.series.Series'>\n",
      "(9043,)\n"
     ]
    }
   ],
   "source": [
    "print(type(y_test))  # Should be pandas.Series or numpy.ndarray\n",
    "print(y_test.shape)  # Expected shape: (9044,)\n"
   ]
  },
  {
   "cell_type": "code",
   "execution_count": 431,
   "id": "3dca9a20-5e45-4c37-a5f3-544af29fa5f3",
   "metadata": {},
   "outputs": [
    {
     "name": "stdout",
     "output_type": "stream",
     "text": [
      "Unique values in y_test: [0 1]\n"
     ]
    }
   ],
   "source": [
    "print(\"Unique values in y_test:\", y_test.unique())\n"
   ]
  },
  {
   "cell_type": "code",
   "execution_count": 433,
   "id": "a404622a-2757-44d6-8923-e79354f96973",
   "metadata": {},
   "outputs": [
    {
     "name": "stdout",
     "output_type": "stream",
     "text": [
      "Missing values in y_test: 0\n"
     ]
    }
   ],
   "source": [
    "print(\"Missing values in y_test:\", y_test.isna().sum())\n"
   ]
  },
  {
   "cell_type": "code",
   "execution_count": 435,
   "id": "40359720-dade-45ba-bc13-5465f0208691",
   "metadata": {},
   "outputs": [
    {
     "data": {
      "text/plain": [
       "pandas.core.series.Series"
      ]
     },
     "execution_count": 435,
     "metadata": {},
     "output_type": "execute_result"
    }
   ],
   "source": [
    "y_test = y_test.astype(int)\n",
    "type(y_test)"
   ]
  },
  {
   "cell_type": "code",
   "execution_count": 437,
   "id": "c2d0b6ab-e3e4-4e6a-8a35-686b54f42ecc",
   "metadata": {},
   "outputs": [
    {
     "name": "stdout",
     "output_type": "stream",
     "text": [
      "Unique values in y_test: [0 1]\n",
      "Data type of y_test: int32\n"
     ]
    }
   ],
   "source": [
    "print(\"Unique values in y_test:\", y_test.unique())  # Should be only [0, 1]\n",
    "print(\"Data type of y_test:\", y_test.dtype)  # Should be int64 or int32\n"
   ]
  },
  {
   "cell_type": "markdown",
   "id": "8af35f40-da41-420e-aa00-c0aede08f0b5",
   "metadata": {},
   "source": [
    "Conclusion: There are no missing values, all entries are numeric of type int32 and stored as pandas Series."
   ]
  },
  {
   "cell_type": "markdown",
   "id": "133efd23-178d-42f0-8953-aebb2e9eb914",
   "metadata": {},
   "source": [
    "Step 2.4: Perform model accuracy evaluation and comparison:"
   ]
  },
  {
   "cell_type": "code",
   "execution_count": 439,
   "id": "789200d9-4687-482d-872d-4d014bb88bae",
   "metadata": {},
   "outputs": [
    {
     "name": "stdout",
     "output_type": "stream",
     "text": [
      "📊 Logistic Regression Performance:\n",
      "Accuracy: 0.840\n",
      "Precision: 0.417\n",
      "Recall: 0.819\n",
      "F1-score: 0.553\n",
      "\n",
      "📊 Random Forest Performance:\n",
      "Accuracy: 0.808\n",
      "Precision: 0.368\n",
      "Recall: 0.818\n",
      "F1-score: 0.507\n",
      "\n",
      "📊 XGBoost Performance:\n",
      "Accuracy: 0.862\n",
      "Precision: 0.462\n",
      "Recall: 0.865\n",
      "F1-score: 0.602\n",
      "\n"
     ]
    }
   ],
   "source": [
    "from sklearn.metrics import accuracy_score, precision_score, recall_score, f1_score\n",
    "\n",
    "# Make predictions\n",
    "y_pred_log = log_reg.predict(X_test)\n",
    "y_pred_rf = rf_clf.predict(X_test)\n",
    "y_pred_xgb = xgb_clf.predict(X_test)\n",
    "\n",
    "# Evaluate models\n",
    "def evaluate_model(y_true, y_pred, model_name):\n",
    "    print(f\"📊 {model_name} Performance:\")\n",
    "    print(f\"Accuracy: {accuracy_score(y_true, y_pred):.3f}\")\n",
    "    print(f\"Precision: {precision_score(y_true, y_pred):.3f}\")\n",
    "    print(f\"Recall: {recall_score(y_true, y_pred):.3f}\")\n",
    "    print(f\"F1-score: {f1_score(y_true, y_pred):.3f}\\n\")\n",
    "\n",
    "# Evaluate all models\n",
    "evaluate_model(y_test, y_pred_log, \"Logistic Regression\")\n",
    "evaluate_model(y_test, y_pred_rf, \"Random Forest\")\n",
    "evaluate_model(y_test, y_pred_xgb, \"XGBoost\")\n",
    "\n"
   ]
  },
  {
   "cell_type": "markdown",
   "id": "1305af91-0be3-4f34-a6d1-083b2a0f4661",
   "metadata": {},
   "source": [
    "Why These Metrics Matter? ✅ Accuracy → Overall correctness of predictions. ✅ Precision → Percentage of correctly predicted positives. ✅ Recall → How well the model finds all positives. ✅ F1-score → Balance between precision & recall."
   ]
  },
  {
   "cell_type": "markdown",
   "id": "32a6c0e5-092a-415a-ab99-584a938766ce",
   "metadata": {},
   "source": [
    "Step 3: Hyperparameter Tuning\n",
    "-> Approach: We improve models using Grid Search & Random Search."
   ]
  },
  {
   "cell_type": "code",
   "execution_count": 441,
   "id": "249841ea-de8b-4414-a068-36a2736e6dcd",
   "metadata": {},
   "outputs": [
    {
     "name": "stdout",
     "output_type": "stream",
     "text": [
      "Best Random Forest Parameters: {'max_depth': 20, 'min_samples_split': 5, 'n_estimators': 200}\n"
     ]
    }
   ],
   "source": [
    "from sklearn.model_selection import GridSearchCV\n",
    "\n",
    "# Define hyperparameters for Random Forest\n",
    "rf_params = {\n",
    "    \"n_estimators\": [50, 100, 200],\n",
    "    \"max_depth\": [None, 10, 20],\n",
    "    \"min_samples_split\": [2, 5, 10]\n",
    "}\n",
    "\n",
    "# Hyperparameter tuning using Grid Search\n",
    "grid_search = GridSearchCV(RandomForestClassifier(), rf_params, cv=5, scoring=\"accuracy\")\n",
    "grid_search.fit(X_train, y_train)\n",
    "\n",
    "# Print best parameters\n",
    "print(f\"Best Random Forest Parameters: {grid_search.best_params_}\")\n"
   ]
  },
  {
   "cell_type": "markdown",
   "id": "2204df01-e62e-4b61-887c-e22d5c34f5b5",
   "metadata": {},
   "source": [
    "Why Tune Hyperparameters? ✅ Improves accuracy and avoids underfitting/overfitting. ✅ Optimizes model efficiency for real-world predictions."
   ]
  },
  {
   "cell_type": "markdown",
   "id": "5b27e361-85e1-417f-8e3e-aa3936750ca3",
   "metadata": {},
   "source": [
    "Next Steps\n",
    "✔ Compare model performance and pick the best classifier. ✔ Fine-tune hyperparameters for optimal results. ✔ Prepare model for real-world deployment & forecasting.\n",
    "\n",
    "Now we can proceed with Phase 5: Forecasting & Insights Presentation!"
   ]
  },
  {
   "cell_type": "markdown",
   "id": "7ebc3ce2-cb0f-407f-9a51-10d10c0165cd",
   "metadata": {},
   "source": [
    "# 5. Phase 5"
   ]
  },
  {
   "cell_type": "markdown",
   "id": "2a767b2a-3c66-44bc-91b6-334acbfe6305",
   "metadata": {},
   "source": [
    "Key Objectives in Phase 5\n",
    "✅ Generate Forecasts: Use our trained models to predict future outcomes and trends. ✅ Analyze Model Performance: Compare evaluation metrics (e.g., accuracy, precision, recall) to determine the best-performing model. ✅ Extract Actionable Insights: Interpret results to make data-driven recommendations. ✅ Visualize Findings: Use charts and graphs to clearly present insights. ✅ Create a Compelling Narrative: Structure our presentation to communicate results effectively."
   ]
  },
  {
   "cell_type": "markdown",
   "id": "6a44c759-5ba6-4c50-90f6-e323d04594bb",
   "metadata": {},
   "source": [
    "🔹 Step 1: Compare Model Performance\n",
    "Evaluate and compare models based on key metrics:\n",
    "\n",
    "Accuracy – Overall correctness of predictions.\n",
    "\n",
    "Precision & Recall – Essential for imbalanced datasets.\n",
    "\n",
    "F1-score – Harmonic mean of precision & recall.\n",
    "\n",
    "ROC-AUC – Performance across different thresholds.\n",
    "\n",
    "We start with the computation of classification metrics:"
   ]
  },
  {
   "cell_type": "code",
   "execution_count": 167,
   "id": "5f958fda-eb4b-4389-a751-4289f646d10f",
   "metadata": {},
   "outputs": [
    {
     "name": "stdout",
     "output_type": "stream",
     "text": [
      "\n",
      "🔹 Logistic Regression\n",
      "Accuracy: 0.8399867300674555\n",
      "ROC-AUC: 0.8311192775350545\n",
      "              precision    recall  f1-score   support\n",
      "\n",
      "           0       0.97      0.84      0.90      7952\n",
      "           1       0.42      0.82      0.55      1091\n",
      "\n",
      "    accuracy                           0.84      9043\n",
      "   macro avg       0.69      0.83      0.73      9043\n",
      "weighted avg       0.90      0.84      0.86      9043\n",
      "\n",
      "\n",
      "🔹 Random Forest\n",
      "Accuracy: 0.8084706402742453\n",
      "ROC-AUC: 0.8124084216573502\n",
      "              precision    recall  f1-score   support\n",
      "\n",
      "           0       0.97      0.81      0.88      7952\n",
      "           1       0.37      0.82      0.51      1091\n",
      "\n",
      "    accuracy                           0.81      9043\n",
      "   macro avg       0.67      0.81      0.69      9043\n",
      "weighted avg       0.90      0.81      0.84      9043\n",
      "\n",
      "\n",
      "🔹 XGBoost\n",
      "Accuracy: 0.862213867079509\n",
      "ROC-AUC: 0.8635285014394339\n",
      "              precision    recall  f1-score   support\n",
      "\n",
      "           0       0.98      0.86      0.92      7952\n",
      "           1       0.46      0.87      0.60      1091\n",
      "\n",
      "    accuracy                           0.86      9043\n",
      "   macro avg       0.72      0.86      0.76      9043\n",
      "weighted avg       0.92      0.86      0.88      9043\n",
      "\n"
     ]
    }
   ],
   "source": [
    "from sklearn.metrics import classification_report, accuracy_score, roc_auc_score\n",
    "\n",
    "# Compare models\n",
    "models = {\"Logistic Regression\": y_pred_log, \"Random Forest\": y_pred_rf, \"XGBoost\": y_pred_xgb}\n",
    "for model_name, y_pred in models.items():\n",
    "    print(f\"\\n🔹 {model_name}\")\n",
    "    print(\"Accuracy:\", accuracy_score(y_test, y_pred))\n",
    "    print(\"ROC-AUC:\", roc_auc_score(y_test, y_pred))\n",
    "    print(classification_report(y_test, y_pred))\n"
   ]
  },
  {
   "cell_type": "markdown",
   "id": "80b0ba04-bebf-4180-9368-8886d8bbfb48",
   "metadata": {},
   "source": [
    "### CAUTION!  \n",
    "One could use the standard GridSearch when applying hyperparameter tuning of XG_Boost, however, often it triggers a segmentation fallout, as does the following code:\n",
    "\n",
    "<<from sklearn.model_selection import GridSearchCV\n",
    "\n",
    "param_grid = {\n",
    "    \"n_estimators\": [50, 100],\n",
    "    \"max_depth\": [2, 3],\n",
    "    \"learning_rate\": [0.3, 0.5]\n",
    "}\n",
    "\n",
    "best_model = XGBClassifier(tree_method=\"hist\", max_bin=256)  # Optimized for low-memory environments\n",
    "grid_search = GridSearchCV(best_model, param_grid, cv=5, scoring=\"accuracy\", n_jobs=-1)\n",
    "grid_search.fit(X_train, y_train)\n",
    "\n",
    "print(\"Best Parameters:\", grid_search.best_params_)\">>\n"
   ]
  },
  {
   "cell_type": "markdown",
   "id": "6352ac7d-b603-42b0-aa17-5c006dd2246c",
   "metadata": {},
   "source": [
    "🔹 Step 2: Alternative: RandomizedSearch -> Fine-Tune Hyperparameters\n",
    "Once the best classifier is selected, optimize it using GridSearchCV or RandomizedSearchCV to find the ideal hyperparameters:"
   ]
  },
  {
   "cell_type": "code",
   "execution_count": 169,
   "id": "a9e3a1dd-d661-4431-b789-ce3c2e484c4f",
   "metadata": {},
   "outputs": [
    {
     "name": "stdout",
     "output_type": "stream",
     "text": [
      "Best Parameters: {'n_estimators': 200, 'max_depth': 3, 'learning_rate': 0.2}\n"
     ]
    }
   ],
   "source": [
    "from sklearn.model_selection import RandomizedSearchCV\n",
    "\n",
    "param_grid = {\n",
    "    \"n_estimators\": [100, 200],\n",
    "    \"max_depth\": [3, 5],\n",
    "    \"learning_rate\": [0.01, 0.1, 0.2]\n",
    "}\n",
    "\n",
    "best_model = XGBClassifier(tree_method=\"hist\", max_bin=256)  # Optimized for low-memory environments\n",
    "random_search = RandomizedSearchCV(best_model, param_distributions=param_grid, cv=5, scoring=\"accuracy\", n_jobs=1, n_iter=2)\n",
    "random_search.fit(X_train, y_train)\n",
    "\n",
    "print(\"Best Parameters:\", random_search.best_params_)"
   ]
  },
  {
   "cell_type": "markdown",
   "id": "a6c68a63-6d4c-44d9-a627-ee31fd7016aa",
   "metadata": {},
   "source": [
    "🔹 Step 3: Prepare for Real-World Deployment & Forecasting\n",
    "Save & Export Model:"
   ]
  },
  {
   "cell_type": "code",
   "execution_count": 171,
   "id": "ac4a47c3-f285-4a67-8978-80909d829949",
   "metadata": {},
   "outputs": [
    {
     "data": {
      "text/plain": [
       "['final_model.pkl']"
      ]
     },
     "execution_count": 171,
     "metadata": {},
     "output_type": "execute_result"
    }
   ],
   "source": [
    "import joblib\n",
    "joblib.dump(best_model, \"final_model.pkl\")\n"
   ]
  },
  {
   "cell_type": "markdown",
   "id": "ae1692b1-b686-40be-9f50-91ff0ea24f57",
   "metadata": {},
   "source": [
    "Remark: Predict Future Outcomes via"
   ]
  },
  {
   "cell_type": "markdown",
   "id": "3782016b-46ad-4b51-bb92-39c9a87c473f",
   "metadata": {},
   "source": [
    "future_predictions = best_model.predict(new_data)\n"
   ]
  },
  {
   "cell_type": "markdown",
   "id": "834e3241-0d6c-440e-a133-65d6d2214724",
   "metadata": {},
   "source": [
    "Finally, inspect the X_test data set since it will be used in the next phase:"
   ]
  },
  {
   "cell_type": "code",
   "execution_count": 79,
   "id": "0c38b213-d4e2-4fad-b9b2-4d3dfe0d3e42",
   "metadata": {},
   "outputs": [
    {
     "data": {
      "text/html": [
       "<div>\n",
       "<style scoped>\n",
       "    .dataframe tbody tr th:only-of-type {\n",
       "        vertical-align: middle;\n",
       "    }\n",
       "\n",
       "    .dataframe tbody tr th {\n",
       "        vertical-align: top;\n",
       "    }\n",
       "\n",
       "    .dataframe thead th {\n",
       "        text-align: right;\n",
       "    }\n",
       "</style>\n",
       "<table border=\"1\" class=\"dataframe\">\n",
       "  <thead>\n",
       "    <tr style=\"text-align: right;\">\n",
       "      <th></th>\n",
       "      <th>age</th>\n",
       "      <th>balance</th>\n",
       "      <th>day</th>\n",
       "      <th>duration</th>\n",
       "      <th>campaign</th>\n",
       "      <th>pdays</th>\n",
       "      <th>previous</th>\n",
       "      <th>job_blue_collar</th>\n",
       "      <th>job_entrepreneur</th>\n",
       "      <th>job_housemaid</th>\n",
       "      <th>...</th>\n",
       "      <th>month_jul</th>\n",
       "      <th>month_jun</th>\n",
       "      <th>month_mar</th>\n",
       "      <th>month_may</th>\n",
       "      <th>month_nov</th>\n",
       "      <th>month_oct</th>\n",
       "      <th>month_sep</th>\n",
       "      <th>poutcome_other</th>\n",
       "      <th>poutcome_success</th>\n",
       "      <th>poutcome_unknown</th>\n",
       "    </tr>\n",
       "  </thead>\n",
       "  <tbody>\n",
       "    <tr>\n",
       "      <th>3776</th>\n",
       "      <td>-0.087663</td>\n",
       "      <td>-0.258364</td>\n",
       "      <td>16</td>\n",
       "      <td>-0.252612</td>\n",
       "      <td>-0.565886</td>\n",
       "      <td>-1</td>\n",
       "      <td>-0.244772</td>\n",
       "      <td>1</td>\n",
       "      <td>0</td>\n",
       "      <td>0</td>\n",
       "      <td>...</td>\n",
       "      <td>0</td>\n",
       "      <td>0</td>\n",
       "      <td>0</td>\n",
       "      <td>1</td>\n",
       "      <td>0</td>\n",
       "      <td>0</td>\n",
       "      <td>0</td>\n",
       "      <td>0</td>\n",
       "      <td>0</td>\n",
       "      <td>1</td>\n",
       "    </tr>\n",
       "    <tr>\n",
       "      <th>9928</th>\n",
       "      <td>0.571581</td>\n",
       "      <td>0.755184</td>\n",
       "      <td>9</td>\n",
       "      <td>-0.676934</td>\n",
       "      <td>-0.245389</td>\n",
       "      <td>-1</td>\n",
       "      <td>-0.244772</td>\n",
       "      <td>0</td>\n",
       "      <td>0</td>\n",
       "      <td>0</td>\n",
       "      <td>...</td>\n",
       "      <td>0</td>\n",
       "      <td>1</td>\n",
       "      <td>0</td>\n",
       "      <td>0</td>\n",
       "      <td>0</td>\n",
       "      <td>0</td>\n",
       "      <td>0</td>\n",
       "      <td>0</td>\n",
       "      <td>0</td>\n",
       "      <td>1</td>\n",
       "    </tr>\n",
       "    <tr>\n",
       "      <th>33409</th>\n",
       "      <td>-1.500329</td>\n",
       "      <td>-0.272258</td>\n",
       "      <td>20</td>\n",
       "      <td>-0.120255</td>\n",
       "      <td>-0.565886</td>\n",
       "      <td>-1</td>\n",
       "      <td>-0.244772</td>\n",
       "      <td>0</td>\n",
       "      <td>0</td>\n",
       "      <td>0</td>\n",
       "      <td>...</td>\n",
       "      <td>0</td>\n",
       "      <td>0</td>\n",
       "      <td>0</td>\n",
       "      <td>0</td>\n",
       "      <td>0</td>\n",
       "      <td>0</td>\n",
       "      <td>0</td>\n",
       "      <td>0</td>\n",
       "      <td>0</td>\n",
       "      <td>1</td>\n",
       "    </tr>\n",
       "    <tr>\n",
       "      <th>31885</th>\n",
       "      <td>0.100693</td>\n",
       "      <td>0.136271</td>\n",
       "      <td>9</td>\n",
       "      <td>0.210638</td>\n",
       "      <td>-0.565886</td>\n",
       "      <td>336</td>\n",
       "      <td>0.177056</td>\n",
       "      <td>0</td>\n",
       "      <td>0</td>\n",
       "      <td>0</td>\n",
       "      <td>...</td>\n",
       "      <td>0</td>\n",
       "      <td>0</td>\n",
       "      <td>0</td>\n",
       "      <td>0</td>\n",
       "      <td>0</td>\n",
       "      <td>0</td>\n",
       "      <td>0</td>\n",
       "      <td>0</td>\n",
       "      <td>0</td>\n",
       "      <td>0</td>\n",
       "    </tr>\n",
       "    <tr>\n",
       "      <th>15738</th>\n",
       "      <td>1.419181</td>\n",
       "      <td>-0.378442</td>\n",
       "      <td>21</td>\n",
       "      <td>-0.529005</td>\n",
       "      <td>-0.245389</td>\n",
       "      <td>-1</td>\n",
       "      <td>-0.244772</td>\n",
       "      <td>0</td>\n",
       "      <td>0</td>\n",
       "      <td>0</td>\n",
       "      <td>...</td>\n",
       "      <td>1</td>\n",
       "      <td>0</td>\n",
       "      <td>0</td>\n",
       "      <td>0</td>\n",
       "      <td>0</td>\n",
       "      <td>0</td>\n",
       "      <td>0</td>\n",
       "      <td>0</td>\n",
       "      <td>0</td>\n",
       "      <td>1</td>\n",
       "    </tr>\n",
       "  </tbody>\n",
       "</table>\n",
       "<p>5 rows × 42 columns</p>\n",
       "</div>"
      ],
      "text/plain": [
       "            age   balance  day  duration  campaign  pdays  previous  \\\n",
       "3776  -0.087663 -0.258364   16 -0.252612 -0.565886     -1 -0.244772   \n",
       "9928   0.571581  0.755184    9 -0.676934 -0.245389     -1 -0.244772   \n",
       "33409 -1.500329 -0.272258   20 -0.120255 -0.565886     -1 -0.244772   \n",
       "31885  0.100693  0.136271    9  0.210638 -0.565886    336  0.177056   \n",
       "15738  1.419181 -0.378442   21 -0.529005 -0.245389     -1 -0.244772   \n",
       "\n",
       "       job_blue_collar  job_entrepreneur  job_housemaid  ...  month_jul  \\\n",
       "3776                 1                 0              0  ...          0   \n",
       "9928                 0                 0              0  ...          0   \n",
       "33409                0                 0              0  ...          0   \n",
       "31885                0                 0              0  ...          0   \n",
       "15738                0                 0              0  ...          1   \n",
       "\n",
       "       month_jun  month_mar  month_may  month_nov  month_oct  month_sep  \\\n",
       "3776           0          0          1          0          0          0   \n",
       "9928           1          0          0          0          0          0   \n",
       "33409          0          0          0          0          0          0   \n",
       "31885          0          0          0          0          0          0   \n",
       "15738          0          0          0          0          0          0   \n",
       "\n",
       "       poutcome_other  poutcome_success  poutcome_unknown  \n",
       "3776                0                 0                 1  \n",
       "9928                0                 0                 1  \n",
       "33409               0                 0                 1  \n",
       "31885               0                 0                 0  \n",
       "15738               0                 0                 1  \n",
       "\n",
       "[5 rows x 42 columns]"
      ]
     },
     "execution_count": 79,
     "metadata": {},
     "output_type": "execute_result"
    }
   ],
   "source": [
    "X_test.head()"
   ]
  },
  {
   "cell_type": "markdown",
   "id": "b858e20e-5cf5-449c-a69a-ec125771a534",
   "metadata": {},
   "source": [
    "# 6. Phase 6: Visualization"
   ]
  },
  {
   "cell_type": "markdown",
   "id": "982e78cf-5a08-4433-ae13-4b4489fc664f",
   "metadata": {},
   "source": [
    "Data visualization is crucial for interpreting model performance and forecasting trends effectively."
   ]
  },
  {
   "cell_type": "markdown",
   "id": "921fb2d8-b770-4e7c-a8f7-e737e41f6eb8",
   "metadata": {},
   "source": [
    "🔹 Step 1: Visualizing Model Performance\n",
    "Use matplotlib and seaborn to display key evaluation metrics:"
   ]
  },
  {
   "cell_type": "code",
   "execution_count": 173,
   "id": "493ad93b-3a1c-42c9-a5eb-c98f127cd630",
   "metadata": {},
   "outputs": [
    {
     "data": {
      "image/png": "[encoded data removed]",
      "text/plain": [
       "<Figure size 432x288 with 2 Axes>"
      ]
     },
     "metadata": {},
     "output_type": "display_data"
    }
   ],
   "source": [
    "import matplotlib.pyplot as plt\n",
    "import seaborn as sns\n",
    "from sklearn.metrics import confusion_matrix\n",
    "\n",
    "# generate predictions from the best model\n",
    "best_model.fit(X_train, y_train)\n",
    "y_pred_best = best_model.predict(X_test)  # Generate final predictions\n",
    "\n",
    "\n",
    "# Confusion Matrix\n",
    "plt.figure(figsize=(6,4))\n",
    "sns.heatmap(confusion_matrix(y_test, y_pred_best), annot=True, fmt=\"d\", cmap=\"Blues\")\n",
    "plt.xlabel(\"Predicted\")\n",
    "plt.ylabel(\"Actual\")\n",
    "plt.title(\"Confusion Matrix - Best Model\")\n",
    "plt.show()\n"
   ]
  },
  {
   "cell_type": "markdown",
   "id": "d2745a5f-2e1b-4193-9a52-7b7e38e4c311",
   "metadata": {},
   "source": [
    "🔹 Step 2: Forecasting Future Trends  \n",
    "We use our trained model to generate future predictions:"
   ]
  },
  {
   "cell_type": "markdown",
   "id": "b9ed3e72-9d0f-497e-ad52-2c1f193411bf",
   "metadata": {},
   "source": [
    "a) Duration feature"
   ]
  },
  {
   "cell_type": "code",
   "execution_count": 177,
   "id": "b3fb702f-0aaf-4a40-8a17-ef9726a5e2cc",
   "metadata": {},
   "outputs": [
    {
     "data": {
      "image/png": "[encoded data removed]",
      "text/plain": [
       "<Figure size 720x360 with 1 Axes>"
      ]
     },
     "metadata": {},
     "output_type": "display_data"
    }
   ],
   "source": [
    "import matplotlib.pyplot as plt\n",
    "\n",
    "# Generate predictions\n",
    "future_predictions = best_model.predict(X_test)\n",
    "\n",
    "# Select a meaningful feature from X_test for x-axis\n",
    "feature = X_test.iloc[:, 3]  # Adjust based on a relevant column\n",
    "\n",
    "# Create scatter plot with distinct markers\n",
    "plt.figure(figsize=(10,5))\n",
    "plt.scatter(feature, y_test, label=\"Actual Outcomes\", marker=\"x\", color=\"blue\", alpha=0.9, linewidths=2)\n",
    "plt.scatter(feature, future_predictions, label=\"Predicted Outcomes\", marker=\"o\", edgecolors=\"red\", facecolors=\"none\", alpha=0.3, s=120)  # Larger circles\n",
    "\n",
    "# Labels and legend\n",
    "plt.xlabel(\"Feature (duration sec)\")\n",
    "plt.ylabel(\"Binary Outcome (0 or 1)\")\n",
    "plt.title(\"Actual vs. Predicted Outcomes (Enhanced Visibility)\")\n",
    "plt.legend()\n",
    "plt.grid(True)\n",
    "\n",
    "# Show the plot\n",
    "plt.show()\n",
    "\n",
    "\n",
    "\n"
   ]
  },
  {
   "cell_type": "markdown",
   "id": "956bcf03-a8a1-4dbe-ac29-6f52801c4c48",
   "metadata": {},
   "source": [
    "I would say that up to 2.5 - 3 sec of contact duration with a potential bank customer would allow more reliable \n",
    "prediction of his/her behavior when it comes to client's subscription to a term deposit.\n",
    "\n",
    "This interpretation makes sense—if the classification prediction plot indicates a stronger correlation between **contact duration** (specifically within the first **2.5–3 seconds**) and the likelihood of a customer subscribing to a term deposit, it suggests that shorter interactions already provide reliable insights into customer behavior.\n",
    "\n",
    "### **✔ Why This Could Be Correct**\n",
    "- **Early responses matter** – If customers who engage within the first few seconds tend to show clear patterns (e.g., acceptance vs. rejection), the model might be learning strong indicators early.\n",
    "- **Attention span & decision-making** – Many customers tend to make a **quick decision** when confronted with an offer, meaning prolonged conversations may not always be necessary.\n",
    "- **Behavioral economics factor** – If a customer remains engaged beyond this duration, they might be exhibiting hesitation or needing further persuasion, leading to different prediction dynamics.\n",
    "\n",
    "### **🔹 Suggestions for Further Validation**\n",
    "1️⃣ **Check the distribution of contact durations:**  \n",
    "   - Does predictive strength drop **after 3 seconds**, or does it improve?  \n",
    "   - Are interactions shorter than 2.5 seconds **high-confidence predictions** (clear “yes” or “no” answers)?  \n",
    "\n",
    "2️⃣ **Compare accuracy across different time intervals:**  \n",
    "   - Plot performance for durations like **1–2 sec, 3–5 sec, 6+ sec**, to confirm predictive strength.  \n",
    "\n",
    "3️⃣ **Incorporate other customer variables:**  \n",
    "   - Does **customer age, job, or previous term deposit subscription** influence how predictive short interactions are?  "
   ]
  },
  {
   "cell_type": "markdown",
   "id": "bcc510dc-bbe1-48f7-95ad-a280c6cc6e15",
   "metadata": {},
   "source": [
    "b) Previous feature"
   ]
  },
  {
   "cell_type": "code",
   "execution_count": 443,
   "id": "acd58d91-0c1e-46ff-9832-e83e4ab425a0",
   "metadata": {},
   "outputs": [
    {
     "data": {
      "image/png": "[encoded data removed]",
      "text/plain": [
       "<Figure size 720x360 with 1 Axes>"
      ]
     },
     "metadata": {},
     "output_type": "display_data"
    }
   ],
   "source": [
    "import matplotlib.pyplot as plt\n",
    "\n",
    "# Generate predictions\n",
    "future_predictions = best_model.predict(X_test)\n",
    "\n",
    "# Select a meaningful feature from X_test for x-axis\n",
    "feature = X_test.iloc[:, 6]  # Adjust based on a relevant column\n",
    "\n",
    "# Create scatter plot with distinct markers\n",
    "plt.figure(figsize=(10,5))\n",
    "plt.scatter(feature, y_test, label=\"Actual Outcomes\", marker=\"x\", color=\"blue\", alpha=0.9, linewidths=2)\n",
    "plt.scatter(feature, future_predictions, label=\"Predicted Outcomes\", marker=\"o\", edgecolors=\"red\", facecolors=\"none\", alpha=0.3, s=120)  # Larger circles\n",
    "\n",
    "# Labels and legend\n",
    "plt.xlabel(\"Feature (previous)\")\n",
    "plt.ylabel(\"Binary Outcome (0 or 1)\")\n",
    "plt.title(\"Actual vs. Predicted Outcomes (Enhanced Visibility)\")\n",
    "plt.legend()\n",
    "plt.grid(True)\n",
    "\n",
    "# Show the plot\n",
    "plt.show()"
   ]
  },
  {
   "cell_type": "markdown",
   "id": "6a430e3a-bd67-48f4-b711-fea9d65df2e8",
   "metadata": {},
   "source": [
    "Apparently, the prediction reliability deteriorates with increasing number of previous contacts, within an interval between [0, 5] contacts the model is quite reliable in predicting the subscription trend."
   ]
  },
  {
   "cell_type": "markdown",
   "id": "3cfba4e5-c099-4963-88c0-f4b6e84f4463",
   "metadata": {},
   "source": [
    "c) Pdays feature"
   ]
  },
  {
   "cell_type": "code",
   "execution_count": 445,
   "id": "bd1ec511-05b4-4930-8652-1893b1401319",
   "metadata": {},
   "outputs": [
    {
     "data": {
      "image/png": "[encoded data removed]",
      "text/plain": [
       "<Figure size 720x360 with 1 Axes>"
      ]
     },
     "metadata": {},
     "output_type": "display_data"
    }
   ],
   "source": [
    "import matplotlib.pyplot as plt\n",
    "\n",
    "# Generate predictions\n",
    "future_predictions = best_model.predict(X_test)\n",
    "\n",
    "# Select a meaningful feature from X_test for x-axis\n",
    "feature = X_test.iloc[:, 5]  # Adjust based on a relevant column\n",
    "\n",
    "# Create scatter plot with distinct markers\n",
    "plt.figure(figsize=(10,5))\n",
    "plt.scatter(feature, y_test, label=\"Actual Outcomes\", marker=\"x\", color=\"blue\", alpha=0.9, linewidths=2)\n",
    "plt.scatter(feature, future_predictions, label=\"Predicted Outcomes\", marker=\"o\", edgecolors=\"red\", facecolors=\"none\", alpha=0.3, s=120)  # Larger circles\n",
    "\n",
    "# Labels and legend\n",
    "plt.xlabel(\"Feature (pdays)\")\n",
    "plt.ylabel(\"Binary Outcome (0 or 1)\")\n",
    "plt.title(\"Actual vs. Predicted Outcomes (Enhanced Visibility)\")\n",
    "plt.legend()\n",
    "plt.grid(True)\n",
    "\n",
    "# Show the plot\n",
    "plt.show()"
   ]
  },
  {
   "cell_type": "markdown",
   "id": "3e2b461b-bf1d-4cfb-9cc3-ac97e321d2b9",
   "metadata": {},
   "source": [
    "The above plot suggests that for a number of passed days of up to 100 we may assume that the model is capable of reliably reproducing the subscription trend, however with increasing pdays-gaps the subscription forecasting also tends to deteriorate. This indicates that the temporal proximity to a campaign plays a crucial role in the course of customer (client) acquisitions."
   ]
  },
  {
   "cell_type": "markdown",
   "id": "2c63411e-e295-4360-97d9-b0cc7985ab47",
   "metadata": {},
   "source": [
    "🔹 Step 3: Building graphical representations\n",
    "of forecasted results:"
   ]
  },
  {
   "cell_type": "markdown",
   "id": "8f472857-ff14-4610-bada-e82903cbfea8",
   "metadata": {},
   "source": [
    "🔹 Step 3.1: Calculate Model Accuracy\n",
    "First, compute accuracy for different models:"
   ]
  },
  {
   "cell_type": "code",
   "execution_count": 183,
   "id": "3fdcfa69-1a04-49d5-97f9-4a399e0ace8e",
   "metadata": {},
   "outputs": [],
   "source": [
    "from sklearn.metrics import accuracy_score\n",
    "import matplotlib.pyplot as plt\n",
    "import seaborn as sns\n",
    "\n",
    "models = {\n",
    "    \"Logistic Regression\": accuracy_score(y_test, y_pred_log),\n",
    "    \"Random Forest\": accuracy_score(y_test, y_pred_rf),\n",
    "    \"XGBoost\": accuracy_score(y_test, y_pred_xgb)\n",
    "}\n",
    "\n",
    "# Convert to lists for plotting\n",
    "model_names = list(models.keys())\n",
    "accuracy_values = list(models.values())\n"
   ]
  },
  {
   "cell_type": "markdown",
   "id": "5092ffed-f2f1-4eee-854e-37f72ed9ba5c",
   "metadata": {},
   "source": [
    "🔹 Step 3. 2: Plot Model Accuracy\n",
    "Use a bar plot to visualize accuracy scores:"
   ]
  },
  {
   "cell_type": "code",
   "execution_count": 185,
   "id": "061d00d0-eb91-4851-b626-e8fac705c4e1",
   "metadata": {},
   "outputs": [
    {
     "data": {
      "image/png": "[encoded data removed]",
      "text/plain": [
       "<Figure size 576x360 with 1 Axes>"
      ]
     },
     "metadata": {},
     "output_type": "display_data"
    }
   ],
   "source": [
    "plt.figure(figsize=(8, 5))\n",
    "sns.barplot(x=model_names, y=accuracy_values, palette=\"Blues\")\n",
    "plt.xlabel(\"Models\")\n",
    "plt.ylabel(\"Accuracy Score\")\n",
    "plt.title(\"Model Accuracy Comparison\")\n",
    "plt.ylim(0, 1)  # Set y-axis limit for clarity\n",
    "plt.xticks(rotation=45)\n",
    "plt.show()\n"
   ]
  },
  {
   "cell_type": "markdown",
   "id": "56464c81-2a6d-4e1d-814b-6d820af06d66",
   "metadata": {},
   "source": [
    "🔹 Step 3.3: Optional: Confusion Matrix Plot\n",
    "If you want to visualize the confusion matrix, use"
   ]
  },
  {
   "cell_type": "code",
   "execution_count": 187,
   "id": "02b85bd4-b02f-4857-8f13-225af9ee61ed",
   "metadata": {},
   "outputs": [
    {
     "data": {
      "image/png": "[encoded data removed]",
      "text/plain": [
       "<Figure size 432x288 with 2 Axes>"
      ]
     },
     "metadata": {},
     "output_type": "display_data"
    }
   ],
   "source": [
    "from sklearn.metrics import confusion_matrix\n",
    "\n",
    "plt.figure(figsize=(6,4))\n",
    "sns.heatmap(confusion_matrix(y_test, y_pred_best), annot=True, fmt=\"d\", cmap=\"Blues\")\n",
    "plt.xlabel(\"Predicted Label\")\n",
    "plt.ylabel(\"Actual Label\")\n",
    "plt.title(\"Confusion Matrix - Best Model\")\n",
    "plt.show()\n"
   ]
  },
  {
   "cell_type": "markdown",
   "id": "06439f52-1d1d-46d7-b1d2-a931dcd90824",
   "metadata": {},
   "source": [
    "# 7. Apply the best model to a new data set"
   ]
  },
  {
   "cell_type": "markdown",
   "id": "9c4c8365-6666-48f1-8627-f6a8ac729460",
   "metadata": {},
   "source": [
    "🔹 Step 1: Load & Prepare the Data  \n",
    "First (bank_test.csv), read the dataset and preprocess features:"
   ]
  },
  {
   "cell_type": "code",
   "execution_count": 199,
   "id": "9769873d-b51b-44c2-b889-3f8356ef360f",
   "metadata": {},
   "outputs": [],
   "source": [
    "import pandas as pd\n",
    "\n",
    "# Load test dataset\n",
    "df_test = pd.read_csv(\"bank_test.csv\", sep=\";\")\n",
    "\n",
    "# Extract features (X) and actual labels (y_actual)\n",
    "X_test_new = df_test.drop(columns=[\"y\"])  # Features\n",
    "\n",
    "# Apply one-hot encoding to categorical columns\n",
    "X_test_new_encoded = pd.get_dummies(X_test_new)\n",
    "\n",
    "# Ensure column alignment with training features\n",
    "missing_cols = set(X_train.columns) - set(X_test_new_encoded.columns)\n",
    "for col in missing_cols:\n",
    "    X_test_new_encoded[col] = 0  # Add missing columns with default values\n",
    "\n",
    "# Reorder columns to match training set\n",
    "X_test_new_encoded = X_test_new_encoded[X_train.columns]\n",
    "# Extract features (X) and actual labels (y_actual)\n",
    "y_actual = df_test[\"y\"].map({\"yes\": 1, \"no\": 0})  # Convert categorical labels to binary\n"
   ]
  },
  {
   "cell_type": "markdown",
   "id": "4d769d8c-a317-4bab-bf46-59eb5be4cc0d",
   "metadata": {},
   "source": [
    "🔹 Step 2: Generate Predictions\n",
    "Run your trained model to predict outcomes for the dataset:"
   ]
  },
  {
   "cell_type": "code",
   "execution_count": 201,
   "id": "67985d9d-c614-446c-bc09-9e52834f55ad",
   "metadata": {},
   "outputs": [],
   "source": [
    "future_predictions = best_model.predict(X_test_new_encoded)  # Get predicted labels (0s & 1s)\n"
   ]
  },
  {
   "cell_type": "markdown",
   "id": "eaf0ad8f-4b1e-4076-bc01-b56a73a7ac51",
   "metadata": {},
   "source": [
    "🔹 Step 3: Compare Predictions with Actual Labels Graphically\n",
    "✅ Scatter Plot: Actual vs. Predicted\n",
    "We can visualize how well predictions match actual labels using a scatter plot:"
   ]
  },
  {
   "cell_type": "code",
   "execution_count": 209,
   "id": "372ce79d-9ea8-45ac-8733-c052377d45ed",
   "metadata": {},
   "outputs": [
    {
     "data": {
      "image/png": "[encoded data removed]",
      "text/plain": [
       "<Figure size 720x360 with 1 Axes>"
      ]
     },
     "metadata": {},
     "output_type": "display_data"
    }
   ],
   "source": [
    "import matplotlib.pyplot as plt\n",
    "\n",
    "plt.figure(figsize=(10,5))\n",
    "plt.scatter(range(len(y_actual)), y_actual, label=\"Actual Labels\", marker=\"x\", color=\"blue\", alpha=0.7)\n",
    "#plt.scatter(feature, future_predictions, label=\"Predicted Outcomes\", marker=\"o\", edgecolors=\"red\", facecolors=\"none\", alpha=0.3, s=120)  # Larger circles\n",
    "plt.scatter(range(len(future_predictions)), future_predictions, label=\"Predicted Labels\", marker=\"o\", edgecolors=\"red\", facecolors=\"none\", s=120, alpha=0.7)\n",
    "\n",
    "plt.xlabel(\"Observation Index\")\n",
    "plt.ylabel(\"Subscription (0 = No, 1 = Yes)\")\n",
    "plt.title(\"Actual vs. Predicted Term Deposit Subscriptions\")\n",
    "plt.legend()\n",
    "plt.grid(True)\n",
    "plt.show()\n"
   ]
  },
  {
   "cell_type": "markdown",
   "id": "c625707d-cd6a-4456-8966-1e144605e5cb",
   "metadata": {},
   "source": [
    "🔹 Step 4: Evaluate Prediction Accuracy\n",
    "Check performance metrics using accuracy_score and classification_report:"
   ]
  },
  {
   "cell_type": "code",
   "execution_count": 205,
   "id": "d7c89ffa-1dc0-4966-a54d-7aa10248597c",
   "metadata": {},
   "outputs": [
    {
     "name": "stdout",
     "output_type": "stream",
     "text": [
      "Model Accuracy: 0.39269634817408705\n",
      "\n",
      "Classification Report:\n",
      "               precision    recall  f1-score   support\n",
      "\n",
      "           0       0.91      0.34      0.50      1762\n",
      "           1       0.13      0.75      0.23       237\n",
      "\n",
      "    accuracy                           0.39      1999\n",
      "   macro avg       0.52      0.55      0.36      1999\n",
      "weighted avg       0.82      0.39      0.47      1999\n",
      "\n"
     ]
    }
   ],
   "source": [
    "from sklearn.metrics import accuracy_score, classification_report\n",
    "\n",
    "print(\"Model Accuracy:\", accuracy_score(y_actual, future_predictions))\n",
    "print(\"\\nClassification Report:\\n\", classification_report(y_actual, future_predictions))\n"
   ]
  },
  {
   "cell_type": "markdown",
   "id": "07476e5a-7e74-488e-a255-17903d085ff4",
   "metadata": {},
   "source": [
    "## 7.1- Prediction accuracy improvements via ensemble learning"
   ]
  },
  {
   "cell_type": "markdown",
   "id": "1a31c02f-3309-4dec-9555-562f89b16fb8",
   "metadata": {},
   "source": [
    "We now try to improve the prediction accuracy of our best model by means of ensemble learning methods:"
   ]
  },
  {
   "cell_type": "markdown",
   "id": "f95a5c68-a0a2-47a2-8d08-074f08af8407",
   "metadata": {},
   "source": [
    "Start with initializing and training the ensemble model:"
   ]
  },
  {
   "cell_type": "code",
   "execution_count": 216,
   "id": "7e6e8bc0-cf28-43e7-84fa-90d9f4b2bfb6",
   "metadata": {},
   "outputs": [
    {
     "data": {
      "text/plain": [
       "StackingClassifier(estimators=[('rf',\n",
       "                                RandomForestClassifier(class_weight='balanced',\n",
       "                                                       n_estimators=200,\n",
       "                                                       random_state=42)),\n",
       "                               ('xgb',\n",
       "                                XGBClassifier(base_score=None, booster=None,\n",
       "                                              callbacks=None,\n",
       "                                              colsample_bylevel=None,\n",
       "                                              colsample_bynode=None,\n",
       "                                              colsample_bytree=None,\n",
       "                                              early_stopping_rounds=None,\n",
       "                                              enable_categorical=False,\n",
       "                                              eval_metric=None, gamma=None,\n",
       "                                              gpu_id=None, grow_po...\n",
       "                                              learning_rate=None, max_bin=None,\n",
       "                                              max_cat_to_onehot=None,\n",
       "                                              max_delta_step=None,\n",
       "                                              max_depth=None, max_leaves=None,\n",
       "                                              min_child_weight=None,\n",
       "                                              missing=nan,\n",
       "                                              monotone_constraints=None,\n",
       "                                              n_estimators=200, n_jobs=None,\n",
       "                                              num_parallel_tree=None,\n",
       "                                              predictor=None, random_state=42,\n",
       "                                              reg_alpha=None, reg_lambda=None, ...))],\n",
       "                   final_estimator=LogisticRegression(class_weight='balanced',\n",
       "                                                      random_state=42))"
      ]
     },
     "execution_count": 216,
     "metadata": {},
     "output_type": "execute_result"
    }
   ],
   "source": [
    "from sklearn.ensemble import StackingClassifier\n",
    "from sklearn.linear_model import LogisticRegression\n",
    "from sklearn.ensemble import RandomForestClassifier\n",
    "from xgboost import XGBClassifier\n",
    "\n",
    "scale_pos_weight = y_train.value_counts()[0] / y_train.value_counts()[1]  # Compute imbalance ratio\n",
    "\n",
    "estimators = [\n",
    "    (\"rf\", RandomForestClassifier(class_weight=\"balanced\", n_estimators=200, random_state=42)),\n",
    "    (\"xgb\", XGBClassifier(scale_pos_weight=scale_pos_weight, n_estimators=200, random_state=42))\n",
    "]\n",
    "\n",
    "stacked_model = StackingClassifier(estimators=estimators, final_estimator=LogisticRegression(class_weight=\"balanced\", random_state=42))\n",
    "stacked_model.fit(X_train, y_train)\n"
   ]
  },
  {
   "cell_type": "markdown",
   "id": "fc241836-0554-438e-a8d9-5a7a28bd668a",
   "metadata": {},
   "source": [
    "## 7.2 Ensemble learning performance"
   ]
  },
  {
   "cell_type": "markdown",
   "id": "982afedb-e8bc-4474-84db-651c49c0f8a6",
   "metadata": {},
   "source": [
    "Combine multiple models to improve accuracy: ✔ Stacking Classifier: Combines predictions of Logistic Regression, Random Forest, and XGBoost. ✔ Boosting Methods: One could use XGBoost, LightGBM, or CatBoost for better performance."
   ]
  },
  {
   "cell_type": "markdown",
   "id": "13314a1f-92ad-4a14-803e-6923bbad28de",
   "metadata": {},
   "source": [
    "🔹 Step 1: Load & Prepare the Data\n",
    "First, read the dataset and preprocess features:"
   ]
  },
  {
   "cell_type": "code",
   "execution_count": 227,
   "id": "a3c60e69-98e0-44c2-8136-8406f566b4fc",
   "metadata": {},
   "outputs": [],
   "source": [
    "import pandas as pd\n",
    "\n",
    "# Load test dataset\n",
    "df_test = pd.read_csv(\"bank_test.csv\", sep=\";\")\n",
    "\n",
    "# Extract features (X) and actual labels (y_actual)\n",
    "X_test_new = df_test.drop(columns=[\"y\"])  # Features\n",
    "\n",
    "# Apply one-hot encoding to categorical columns\n",
    "X_test_new_encoded = pd.get_dummies(X_test_new)\n",
    "\n",
    "# Ensure column alignment with training features\n",
    "missing_cols = set(X_train.columns) - set(X_test_new_encoded.columns)\n",
    "for col in missing_cols:\n",
    "    X_test_new_encoded[col] = 0  # Add missing columns with default values\n",
    "\n",
    "# Reorder columns to match training set\n",
    "X_test_new_encoded = X_test_new_encoded[X_train.columns]\n",
    "# Extract features (X) and actual labels (y_actual)\n",
    "y_actual = df_test[\"y\"].map({\"yes\": 1, \"no\": 0})  # Convert categorical labels to binary"
   ]
  },
  {
   "cell_type": "markdown",
   "id": "3447b547-204e-4452-9d0a-32da3aab4e0c",
   "metadata": {},
   "source": [
    "🔹 Step 2: Generate Predictions\n",
    "Run your trained model to predict outcomes for the dataset:"
   ]
  },
  {
   "cell_type": "code",
   "execution_count": 229,
   "id": "0892fc2f-e0d7-49c7-a573-e8d9969115d9",
   "metadata": {},
   "outputs": [],
   "source": [
    "future_predictions = stacked_model.predict(X_test_new_encoded)  # Get predicted labels (0s & 1s)"
   ]
  },
  {
   "cell_type": "markdown",
   "id": "d409a805-2c62-463b-9951-efad6c05c457",
   "metadata": {},
   "source": [
    "🔹 Step 3: Compare Predictions with Actual Labels Graphically ✅ Scatter Plot: Actual vs. Predicted We can visualize how well predictions match actual labels using a scatter plot:"
   ]
  },
  {
   "cell_type": "code",
   "execution_count": 231,
   "id": "35a9bd7b-75c8-4be1-88f4-65bcc43ca8e6",
   "metadata": {},
   "outputs": [
    {
     "data": {
      "image/png": "[encoded data removed]",
      "text/plain": [
       "<Figure size 720x360 with 1 Axes>"
      ]
     },
     "metadata": {},
     "output_type": "display_data"
    }
   ],
   "source": [
    "import matplotlib.pyplot as plt\n",
    "\n",
    "plt.figure(figsize=(10,5))\n",
    "plt.scatter(range(len(y_actual)), y_actual, label=\"Actual Labels\", marker=\"x\", color=\"blue\", alpha=0.7)\n",
    "#plt.scatter(feature, future_predictions, label=\"Predicted Outcomes\", marker=\"o\", edgecolors=\"red\", facecolors=\"none\", alpha=0.3, s=120)  # Larger circles\n",
    "plt.scatter(range(len(future_predictions)), future_predictions, label=\"Predicted Labels\", marker=\"o\", edgecolors=\"red\", facecolors=\"none\", s=120, alpha=0.7)\n",
    "\n",
    "plt.xlabel(\"Observation Index\")\n",
    "plt.ylabel(\"Subscription (0 = No, 1 = Yes)\")\n",
    "plt.title(\"Actual vs. Predicted Term Deposit Subscriptions\")\n",
    "plt.legend()\n",
    "plt.grid(True)\n",
    "plt.show()"
   ]
  },
  {
   "cell_type": "markdown",
   "id": "27cbcb78-9088-46fa-a299-4a1de44f1ea2",
   "metadata": {},
   "source": [
    "🔹 Step 4: Evaluate Prediction Accuracy\n",
    "Check performance metrics using accuracy_score and classification_report:"
   ]
  },
  {
   "cell_type": "code",
   "execution_count": 233,
   "id": "c83830c2-1b06-4f49-a30f-8d16c36b9a83",
   "metadata": {},
   "outputs": [
    {
     "name": "stdout",
     "output_type": "stream",
     "text": [
      "Model Accuracy: 0.36718359179589793\n",
      "\n",
      "Classification Report:\n",
      "               precision    recall  f1-score   support\n",
      "\n",
      "           0       0.95      0.30      0.45      1762\n",
      "           1       0.14      0.87      0.25       237\n",
      "\n",
      "    accuracy                           0.37      1999\n",
      "   macro avg       0.54      0.59      0.35      1999\n",
      "weighted avg       0.85      0.37      0.43      1999\n",
      "\n"
     ]
    }
   ],
   "source": [
    "from sklearn.metrics import accuracy_score, classification_report\n",
    "\n",
    "print(\"Model Accuracy:\", accuracy_score(y_actual, future_predictions))\n",
    "print(\"\\nClassification Report:\\n\", classification_report(y_actual, future_predictions))\n"
   ]
  },
  {
   "cell_type": "markdown",
   "id": "aaad518b-5627-44ba-8f87-eb77803292b3",
   "metadata": {},
   "source": [
    "🔹 Step 5: Generate a pickle-model"
   ]
  },
  {
   "cell_type": "code",
   "execution_count": 241,
   "id": "8f4aca5b-7320-4aa3-8f5b-7f962483947a",
   "metadata": {},
   "outputs": [
    {
     "data": {
      "text/plain": [
       "['final_stacked_model.pkl']"
      ]
     },
     "execution_count": 241,
     "metadata": {},
     "output_type": "execute_result"
    }
   ],
   "source": [
    "import joblib\n",
    "joblib.dump(stacked_model, \"final_stacked_model.pkl\")\n"
   ]
  },
  {
   "cell_type": "markdown",
   "id": "48e286b7-05f5-4e40-a33a-46173d71718b",
   "metadata": {},
   "source": [
    "## 7.3 Possible improvements of ensemble learning results"
   ]
  },
  {
   "cell_type": "markdown",
   "id": "a5db90be-dc39-4436-858b-efbec8207ae7",
   "metadata": {},
   "source": [
    "🔹 Effective Balancing Techniques  \n",
    "✅ 1. Undersampling (Reduce Majority Class)\n",
    "Randomly remove samples from the majority class (\"no\") to match the count of the minority class (\"yes\").  \n",
    "Example:  \n",
    "<<from imblearn.under_sampling import RandomUnderSampler\n",
    "X = df.drop(columns=[\"y\"])  # Features\n",
    "y = df[\"y\"]  # Target variable\n",
    "\n",
    "rus = RandomUnderSampler(random_state=42)\n",
    "X_resampled, y_resampled = rus.fit_resample(X, y)>>  \n",
    "✔ Pros: Faster training, avoids artificially generating data. ✔ Cons: Risk of losing valuable information from \"no\" instances.\n"
   ]
  },
  {
   "cell_type": "markdown",
   "id": "04e71b48-6ed4-483a-8add-a70adb3824e7",
   "metadata": {},
   "source": [
    "✅ 2. Oversampling (Increase Minority Class)\n",
    "Duplicate or synthesize new samples for the minority class (\"yes\").  \n",
    "Example:  \n",
    "<<from imblearn.over_sampling import RandomOverSampler\n",
    "ros = RandomOverSampler(random_state=42)\n",
    "X_resampled, y_resampled = ros.fit_resample(X, y)>>  \n",
    "✔ Pros: Preserves all majority class instances. ✔ Cons: Can lead to overfitting, as duplicated instances might make predictions too easy.\n"
   ]
  },
  {
   "cell_type": "markdown",
   "id": "286269f8-f0cf-4fee-ae2d-96f3e815857c",
   "metadata": {},
   "source": [
    "✅ 3. SMOTE (Synthetic Data Generation)\n",
    "Creates new synthetic samples for \"yes\" instances using nearest neighbors.  \n",
    "Example:  \n",
    "<< from imblearn.over_sampling import SMOTE\n",
    "smote = SMOTE(random_state=42)\n",
    "X_resampled, y_resampled = smote.fit_resample(X, y)>>  \n",
    "✔ Pros: More realistic synthetic data. ✔ Cons: Works best with continuous features, struggles with categorical data."
   ]
  },
  {
   "cell_type": "markdown",
   "id": "c28eaf58-0b3b-4710-bdf0-ff1b7ef51f38",
   "metadata": {},
   "source": [
    "✅ 4. Class Weights (Model-Based Balancing)\n",
    "Instead of modifying data, adjust model weights to penalize misclassifications of \"yes\" more than \"no\".\n",
    "\n",
    "Example: For XGBoost  \n",
    "<<from xgboost import XGBClassifier\n",
    "best_model = XGBClassifier(scale_pos_weight=(df[\"y\"].value_counts()[0] / df[\"y\"].value_counts()[1]))  # Balances impact of minority class\n",
    "best_model.fit(X_train, y_train)>>  \n",
    "✔ Pros: No data modification, prevents overfitting. ✔ Cons: Needs careful tuning for best effect."
   ]
  },
  {
   "cell_type": "markdown",
   "id": "9f0e9827-785a-49b3-a10d-11df055d6c4c",
   "metadata": {},
   "source": [
    "✅ 5. Gather additional data sets involing a higher percentage of \"1\"-data points for the y-target."
   ]
  }
 ],
 "metadata": {
  "kernelspec": {
   "display_name": "Python [conda env:.conda-rstudio]",
   "language": "python",
   "name": "conda-env-.conda-rstudio-py"
  },
  "language_info": {
   "codemirror_mode": {
    "name": "ipython",
    "version": 3
   },
   "file_extension": ".py",
   "mimetype": "text/x-python",
   "name": "python",
   "nbconvert_exporter": "python",
   "pygments_lexer": "ipython3",
   "version": "3.7.1"
  }
 },
 "nbformat": 4,
 "nbformat_minor": 5
}
